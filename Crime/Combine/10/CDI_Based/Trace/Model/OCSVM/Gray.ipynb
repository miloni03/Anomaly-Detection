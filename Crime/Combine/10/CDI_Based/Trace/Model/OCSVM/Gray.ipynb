{
 "cells": [
  {
   "cell_type": "code",
   "execution_count": 13,
   "metadata": {
    "ExecuteTime": {
     "end_time": "2020-09-13T23:46:46.737569Z",
     "start_time": "2020-09-13T23:46:46.719649Z"
    }
   },
   "outputs": [],
   "source": [
    "import numpy as np  \n",
    "import matplotlib.pyplot as plt  \n",
    "import matplotlib.font_manager  \n",
    "import pandas as pd\n",
    "from sklearn import svm  \n",
    "from sklearn.model_selection import train_test_split\n",
    "from sklearn.preprocessing import StandardScaler,MinMaxScaler\n",
    "from sklearn import metrics\n",
    "from sklearn.metrics import roc_curve, auc, precision_recall_curve,confusion_matrix,classification_report\n",
    "plt.style.use('seaborn')"
   ]
  },
  {
   "cell_type": "code",
   "execution_count": 14,
   "metadata": {
    "ExecuteTime": {
     "end_time": "2020-09-13T23:46:46.785447Z",
     "start_time": "2020-09-13T23:46:46.739566Z"
    }
   },
   "outputs": [
    {
     "name": "stderr",
     "output_type": "stream",
     "text": [
      "<ipython-input-14-99be61066188>:2: SettingWithCopyWarning: \n",
      "A value is trying to be set on a copy of a slice from a DataFrame\n",
      "\n",
      "See the caveats in the documentation: https://pandas.pydata.org/pandas-docs/stable/user_guide/indexing.html#returning-a-view-versus-a-copy\n",
      "  d.Class[d['Class']==1] = -1\n",
      "<ipython-input-14-99be61066188>:3: SettingWithCopyWarning: \n",
      "A value is trying to be set on a copy of a slice from a DataFrame\n",
      "\n",
      "See the caveats in the documentation: https://pandas.pydata.org/pandas-docs/stable/user_guide/indexing.html#returning-a-view-versus-a-copy\n",
      "  d.Class[d['Class'] == 0] = 1\n"
     ]
    },
    {
     "data": {
      "text/html": [
       "<div>\n",
       "<style scoped>\n",
       "    .dataframe tbody tr th:only-of-type {\n",
       "        vertical-align: middle;\n",
       "    }\n",
       "\n",
       "    .dataframe tbody tr th {\n",
       "        vertical-align: top;\n",
       "    }\n",
       "\n",
       "    .dataframe thead th {\n",
       "        text-align: right;\n",
       "    }\n",
       "</style>\n",
       "<table border=\"1\" class=\"dataframe\">\n",
       "  <thead>\n",
       "    <tr style=\"text-align: right;\">\n",
       "      <th></th>\n",
       "      <th>0</th>\n",
       "      <th>1</th>\n",
       "      <th>2</th>\n",
       "      <th>3</th>\n",
       "      <th>4</th>\n",
       "      <th>5</th>\n",
       "      <th>6</th>\n",
       "      <th>7</th>\n",
       "      <th>8</th>\n",
       "      <th>9</th>\n",
       "      <th>...</th>\n",
       "      <th>19</th>\n",
       "      <th>20</th>\n",
       "      <th>21</th>\n",
       "      <th>22</th>\n",
       "      <th>23</th>\n",
       "      <th>24</th>\n",
       "      <th>25</th>\n",
       "      <th>26</th>\n",
       "      <th>27</th>\n",
       "      <th>Class</th>\n",
       "    </tr>\n",
       "  </thead>\n",
       "  <tbody>\n",
       "    <tr>\n",
       "      <th>0</th>\n",
       "      <td>0.837496</td>\n",
       "      <td>0.804884</td>\n",
       "      <td>0.694754</td>\n",
       "      <td>0.589248</td>\n",
       "      <td>0.553841</td>\n",
       "      <td>0.488336</td>\n",
       "      <td>0.479846</td>\n",
       "      <td>0.475680</td>\n",
       "      <td>0.449786</td>\n",
       "      <td>0.442280</td>\n",
       "      <td>...</td>\n",
       "      <td>0.652707</td>\n",
       "      <td>0.718388</td>\n",
       "      <td>0.768566</td>\n",
       "      <td>0.950411</td>\n",
       "      <td>0.796984</td>\n",
       "      <td>0.582206</td>\n",
       "      <td>0.525445</td>\n",
       "      <td>0.584897</td>\n",
       "      <td>0.688710</td>\n",
       "      <td>1</td>\n",
       "    </tr>\n",
       "    <tr>\n",
       "      <th>1</th>\n",
       "      <td>0.853356</td>\n",
       "      <td>0.701616</td>\n",
       "      <td>0.622520</td>\n",
       "      <td>0.596695</td>\n",
       "      <td>0.572790</td>\n",
       "      <td>0.581854</td>\n",
       "      <td>0.542538</td>\n",
       "      <td>0.505265</td>\n",
       "      <td>0.582676</td>\n",
       "      <td>0.594674</td>\n",
       "      <td>...</td>\n",
       "      <td>0.823329</td>\n",
       "      <td>0.734343</td>\n",
       "      <td>0.623506</td>\n",
       "      <td>0.785815</td>\n",
       "      <td>0.982154</td>\n",
       "      <td>0.754361</td>\n",
       "      <td>0.674094</td>\n",
       "      <td>0.669100</td>\n",
       "      <td>0.676406</td>\n",
       "      <td>1</td>\n",
       "    </tr>\n",
       "    <tr>\n",
       "      <th>2</th>\n",
       "      <td>1.894732</td>\n",
       "      <td>1.719272</td>\n",
       "      <td>1.599109</td>\n",
       "      <td>1.695362</td>\n",
       "      <td>1.768130</td>\n",
       "      <td>1.618208</td>\n",
       "      <td>1.629891</td>\n",
       "      <td>1.652598</td>\n",
       "      <td>1.667379</td>\n",
       "      <td>1.837525</td>\n",
       "      <td>...</td>\n",
       "      <td>1.744755</td>\n",
       "      <td>1.765632</td>\n",
       "      <td>1.989923</td>\n",
       "      <td>1.960546</td>\n",
       "      <td>1.974459</td>\n",
       "      <td>1.815624</td>\n",
       "      <td>1.712046</td>\n",
       "      <td>1.693183</td>\n",
       "      <td>1.916792</td>\n",
       "      <td>1</td>\n",
       "    </tr>\n",
       "    <tr>\n",
       "      <th>3</th>\n",
       "      <td>0.834748</td>\n",
       "      <td>0.863627</td>\n",
       "      <td>1.048542</td>\n",
       "      <td>1.211608</td>\n",
       "      <td>0.989584</td>\n",
       "      <td>1.078015</td>\n",
       "      <td>1.176071</td>\n",
       "      <td>1.007625</td>\n",
       "      <td>1.029429</td>\n",
       "      <td>1.193712</td>\n",
       "      <td>...</td>\n",
       "      <td>0.010256</td>\n",
       "      <td>0.010256</td>\n",
       "      <td>0.010256</td>\n",
       "      <td>0.006706</td>\n",
       "      <td>0.098830</td>\n",
       "      <td>0.072594</td>\n",
       "      <td>0.019535</td>\n",
       "      <td>0.022793</td>\n",
       "      <td>0.023419</td>\n",
       "      <td>1</td>\n",
       "    </tr>\n",
       "    <tr>\n",
       "      <th>4</th>\n",
       "      <td>1.628894</td>\n",
       "      <td>1.385916</td>\n",
       "      <td>1.244579</td>\n",
       "      <td>1.119788</td>\n",
       "      <td>1.341178</td>\n",
       "      <td>1.461674</td>\n",
       "      <td>1.347787</td>\n",
       "      <td>1.686546</td>\n",
       "      <td>1.538704</td>\n",
       "      <td>1.465947</td>\n",
       "      <td>...</td>\n",
       "      <td>1.843316</td>\n",
       "      <td>1.598068</td>\n",
       "      <td>1.617885</td>\n",
       "      <td>1.854822</td>\n",
       "      <td>1.164702</td>\n",
       "      <td>1.196274</td>\n",
       "      <td>1.517541</td>\n",
       "      <td>1.126891</td>\n",
       "      <td>1.075529</td>\n",
       "      <td>1</td>\n",
       "    </tr>\n",
       "  </tbody>\n",
       "</table>\n",
       "<p>5 rows × 29 columns</p>\n",
       "</div>"
      ],
      "text/plain": [
       "          0         1         2         3         4         5         6  \\\n",
       "0  0.837496  0.804884  0.694754  0.589248  0.553841  0.488336  0.479846   \n",
       "1  0.853356  0.701616  0.622520  0.596695  0.572790  0.581854  0.542538   \n",
       "2  1.894732  1.719272  1.599109  1.695362  1.768130  1.618208  1.629891   \n",
       "3  0.834748  0.863627  1.048542  1.211608  0.989584  1.078015  1.176071   \n",
       "4  1.628894  1.385916  1.244579  1.119788  1.341178  1.461674  1.347787   \n",
       "\n",
       "          7         8         9  ...        19        20        21        22  \\\n",
       "0  0.475680  0.449786  0.442280  ...  0.652707  0.718388  0.768566  0.950411   \n",
       "1  0.505265  0.582676  0.594674  ...  0.823329  0.734343  0.623506  0.785815   \n",
       "2  1.652598  1.667379  1.837525  ...  1.744755  1.765632  1.989923  1.960546   \n",
       "3  1.007625  1.029429  1.193712  ...  0.010256  0.010256  0.010256  0.006706   \n",
       "4  1.686546  1.538704  1.465947  ...  1.843316  1.598068  1.617885  1.854822   \n",
       "\n",
       "         23        24        25        26        27  Class  \n",
       "0  0.796984  0.582206  0.525445  0.584897  0.688710      1  \n",
       "1  0.982154  0.754361  0.674094  0.669100  0.676406      1  \n",
       "2  1.974459  1.815624  1.712046  1.693183  1.916792      1  \n",
       "3  0.098830  0.072594  0.019535  0.022793  0.023419      1  \n",
       "4  1.164702  1.196274  1.517541  1.126891  1.075529      1  \n",
       "\n",
       "[5 rows x 29 columns]"
      ]
     },
     "metadata": {},
     "output_type": "display_data"
    }
   ],
   "source": [
    "d = pd.read_csv('C:/Users/jingy/Jupyter/Crime/Fire/CDI_Based/Entropy/CSV/Gray.csv',index_col=0)\n",
    "d.Class[d['Class']==1] = -1\n",
    "d.Class[d['Class'] == 0] = 1\n",
    "display(d.head())"
   ]
  },
  {
   "cell_type": "code",
   "execution_count": 15,
   "metadata": {
    "ExecuteTime": {
     "end_time": "2020-09-13T23:46:46.817395Z",
     "start_time": "2020-09-13T23:46:46.788437Z"
    }
   },
   "outputs": [],
   "source": [
    "data = d\n",
    "mask = (data['Class'] == 1)\n",
    "\n",
    "X_train, X_test = train_test_split(data[mask], test_size=0.2, random_state=2)\n",
    "X_train = X_train.drop(['Class'], axis=1)\n",
    "X_test = X_test.drop(['Class'], axis=1)\n",
    "X_fraud = data[~mask].drop(['Class'], axis=1)\n",
    "\n",
    "x_test=np.vstack((X_test,X_fraud))\n",
    "y_test=[1]*len(X_test)+[-1]*len(X_fraud)"
   ]
  },
  {
   "cell_type": "code",
   "execution_count": 16,
   "metadata": {
    "ExecuteTime": {
     "end_time": "2020-09-13T23:46:46.849315Z",
     "start_time": "2020-09-13T23:46:46.819363Z"
    }
   },
   "outputs": [
    {
     "name": "stdout",
     "output_type": "stream",
     "text": [
      "0.8571428571428571\n",
      "              precision    recall  f1-score   support\n",
      "\n",
      "          -1       0.92      0.91      0.91       142\n",
      "           1       0.54      0.58      0.56        26\n",
      "\n",
      "    accuracy                           0.86       168\n",
      "   macro avg       0.73      0.74      0.74       168\n",
      "weighted avg       0.86      0.86      0.86       168\n",
      "\n"
     ]
    }
   ],
   "source": [
    "clf = svm.OneClassSVM(kernel='rbf',nu=0.6)  \n",
    "clf.fit(X_train)  \n",
    "\n",
    "y_pred = clf.predict(x_test)  \n",
    "y_prob = clf.decision_function(x_test)  # the lower, the more normal\n",
    "\n",
    "fpr,tpr,threshold_svc = metrics.roc_curve(y_test,y_prob)     \n",
    "auc_svc = metrics.auc(fpr,tpr)   \n",
    "\n",
    "precision, recall, _ = precision_recall_curve(y_test,y_prob)\n",
    "pr_auc = auc(recall, precision)\n",
    "\n",
    "score_svc = metrics.accuracy_score(y_test,y_pred)\n",
    "\n",
    "print(score_svc)\n",
    "print(classification_report(y_test, y_pred))"
   ]
  },
  {
   "cell_type": "code",
   "execution_count": 17,
   "metadata": {
    "ExecuteTime": {
     "end_time": "2020-09-13T23:46:47.149121Z",
     "start_time": "2020-09-13T23:46:46.851276Z"
    }
   },
   "outputs": [
    {
     "data": {
      "image/png": "[encoded data removed]",
      "text/plain": [
       "<Figure size 1008x432 with 2 Axes>"
      ]
     },
     "metadata": {},
     "output_type": "display_data"
    }
   ],
   "source": [
    "plt.figure(figsize=(14, 6))\n",
    "plt.subplot(121)\n",
    "#plt.figure(figsize=(14, 6))\n",
    "plt.title('Receiver Operating Characteristic \\nAUC = %0.2f'% auc_svc)   \n",
    "plt.plot(fpr, tpr, c='coral', lw=3)\n",
    "plt.plot([0,1],[0,1], c='dodgerblue', ls='--')\n",
    "plt.ylabel('TPR'); plt.xlabel('FPR')\n",
    "\n",
    "plt.subplot(122)\n",
    "plt.title('Precision-Recall curve based on \\nAUC = %0.2f'% pr_auc)\n",
    "plt.plot(recall[:-2], precision[:-2], c='coral', lw=3)\n",
    "plt.xlabel('Recall'); plt.ylabel('Precision')\n",
    "plt.show()"
   ]
  },
  {
   "cell_type": "code",
   "execution_count": null,
   "metadata": {},
   "outputs": [],
   "source": []
  }
 ],
 "metadata": {
  "kernelspec": {
   "display_name": "Python [conda env:crowd] *",
   "language": "python",
   "name": "conda-env-crowd-py"
  },
  "language_info": {
   "codemirror_mode": {
    "name": "ipython",
    "version": 3
   },
   "file_extension": ".py",
   "mimetype": "text/x-python",
   "name": "python",
   "nbconvert_exporter": "python",
   "pygments_lexer": "ipython3",
   "version": "3.8.3"
  },
  "toc": {
   "base_numbering": 1,
   "nav_menu": {},
   "number_sections": true,
   "sideBar": true,
   "skip_h1_title": false,
   "title_cell": "Table of Contents",
   "title_sidebar": "Contents",
   "toc_cell": false,
   "toc_position": {},
   "toc_section_display": true,
   "toc_window_display": false
  }
 },
 "nbformat": 4,
 "nbformat_minor": 4
}

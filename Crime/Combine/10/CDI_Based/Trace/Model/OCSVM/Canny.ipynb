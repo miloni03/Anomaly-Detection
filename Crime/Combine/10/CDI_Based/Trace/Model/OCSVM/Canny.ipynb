{
 "cells": [
  {
   "cell_type": "code",
   "execution_count": 36,
   "metadata": {
    "ExecuteTime": {
     "end_time": "2020-09-14T17:04:43.247300Z",
     "start_time": "2020-09-14T17:04:43.229332Z"
    }
   },
   "outputs": [],
   "source": [
    "import numpy as np  \n",
    "import matplotlib.pyplot as plt  \n",
    "import matplotlib.font_manager  \n",
    "import pandas as pd\n",
    "from sklearn import svm  \n",
    "from sklearn.model_selection import train_test_split\n",
    "from sklearn.preprocessing import StandardScaler,MinMaxScaler\n",
    "from sklearn import metrics\n",
    "from sklearn.metrics import roc_curve, auc, precision_recall_curve,confusion_matrix,classification_report\n",
    "plt.style.use('seaborn')"
   ]
  },
  {
   "cell_type": "code",
   "execution_count": 37,
   "metadata": {
    "ExecuteTime": {
     "end_time": "2020-09-14T17:04:43.294150Z",
     "start_time": "2020-09-14T17:04:43.250270Z"
    }
   },
   "outputs": [
    {
     "name": "stderr",
     "output_type": "stream",
     "text": [
      "<ipython-input-37-93a940a92dd7>:2: SettingWithCopyWarning: \n",
      "A value is trying to be set on a copy of a slice from a DataFrame\n",
      "\n",
      "See the caveats in the documentation: https://pandas.pydata.org/pandas-docs/stable/user_guide/indexing.html#returning-a-view-versus-a-copy\n",
      "  d.Class[d['Class']==1] = -1\n",
      "<ipython-input-37-93a940a92dd7>:3: SettingWithCopyWarning: \n",
      "A value is trying to be set on a copy of a slice from a DataFrame\n",
      "\n",
      "See the caveats in the documentation: https://pandas.pydata.org/pandas-docs/stable/user_guide/indexing.html#returning-a-view-versus-a-copy\n",
      "  d.Class[d['Class'] == 0] = 1\n"
     ]
    },
    {
     "data": {
      "text/html": [
       "<div>\n",
       "<style scoped>\n",
       "    .dataframe tbody tr th:only-of-type {\n",
       "        vertical-align: middle;\n",
       "    }\n",
       "\n",
       "    .dataframe tbody tr th {\n",
       "        vertical-align: top;\n",
       "    }\n",
       "\n",
       "    .dataframe thead th {\n",
       "        text-align: right;\n",
       "    }\n",
       "</style>\n",
       "<table border=\"1\" class=\"dataframe\">\n",
       "  <thead>\n",
       "    <tr style=\"text-align: right;\">\n",
       "      <th></th>\n",
       "      <th>0</th>\n",
       "      <th>1</th>\n",
       "      <th>2</th>\n",
       "      <th>3</th>\n",
       "      <th>4</th>\n",
       "      <th>5</th>\n",
       "      <th>6</th>\n",
       "      <th>7</th>\n",
       "      <th>8</th>\n",
       "      <th>9</th>\n",
       "      <th>...</th>\n",
       "      <th>19</th>\n",
       "      <th>20</th>\n",
       "      <th>21</th>\n",
       "      <th>22</th>\n",
       "      <th>23</th>\n",
       "      <th>24</th>\n",
       "      <th>25</th>\n",
       "      <th>26</th>\n",
       "      <th>27</th>\n",
       "      <th>Class</th>\n",
       "    </tr>\n",
       "  </thead>\n",
       "  <tbody>\n",
       "    <tr>\n",
       "      <th>0</th>\n",
       "      <td>0.008028</td>\n",
       "      <td>0.007456</td>\n",
       "      <td>0.009000</td>\n",
       "      <td>0.008800</td>\n",
       "      <td>0.007113</td>\n",
       "      <td>0.004822</td>\n",
       "      <td>0.006770</td>\n",
       "      <td>0.007542</td>\n",
       "      <td>0.008886</td>\n",
       "      <td>0.005653</td>\n",
       "      <td>...</td>\n",
       "      <td>0.006798</td>\n",
       "      <td>0.007628</td>\n",
       "      <td>0.009714</td>\n",
       "      <td>0.014959</td>\n",
       "      <td>0.011284</td>\n",
       "      <td>0.007485</td>\n",
       "      <td>0.004994</td>\n",
       "      <td>0.007485</td>\n",
       "      <td>0.009943</td>\n",
       "      <td>1</td>\n",
       "    </tr>\n",
       "    <tr>\n",
       "      <th>1</th>\n",
       "      <td>0.010571</td>\n",
       "      <td>0.009029</td>\n",
       "      <td>0.007656</td>\n",
       "      <td>0.006140</td>\n",
       "      <td>0.006798</td>\n",
       "      <td>0.009457</td>\n",
       "      <td>0.005138</td>\n",
       "      <td>0.008514</td>\n",
       "      <td>0.006197</td>\n",
       "      <td>0.006398</td>\n",
       "      <td>...</td>\n",
       "      <td>0.012681</td>\n",
       "      <td>0.010085</td>\n",
       "      <td>0.008057</td>\n",
       "      <td>0.012368</td>\n",
       "      <td>0.018170</td>\n",
       "      <td>0.014845</td>\n",
       "      <td>0.013279</td>\n",
       "      <td>0.015244</td>\n",
       "      <td>0.012681</td>\n",
       "      <td>1</td>\n",
       "    </tr>\n",
       "    <tr>\n",
       "      <th>2</th>\n",
       "      <td>0.026237</td>\n",
       "      <td>0.023581</td>\n",
       "      <td>0.021940</td>\n",
       "      <td>0.022818</td>\n",
       "      <td>0.020836</td>\n",
       "      <td>0.025644</td>\n",
       "      <td>0.023157</td>\n",
       "      <td>0.024655</td>\n",
       "      <td>0.020581</td>\n",
       "      <td>0.024175</td>\n",
       "      <td>...</td>\n",
       "      <td>0.024260</td>\n",
       "      <td>0.021742</td>\n",
       "      <td>0.022195</td>\n",
       "      <td>0.028352</td>\n",
       "      <td>0.027083</td>\n",
       "      <td>0.024966</td>\n",
       "      <td>0.022535</td>\n",
       "      <td>0.019362</td>\n",
       "      <td>0.023383</td>\n",
       "      <td>1</td>\n",
       "    </tr>\n",
       "    <tr>\n",
       "      <th>3</th>\n",
       "      <td>0.009628</td>\n",
       "      <td>0.009800</td>\n",
       "      <td>0.016551</td>\n",
       "      <td>0.017943</td>\n",
       "      <td>0.018880</td>\n",
       "      <td>0.019135</td>\n",
       "      <td>0.019022</td>\n",
       "      <td>0.017034</td>\n",
       "      <td>0.015926</td>\n",
       "      <td>0.017858</td>\n",
       "      <td>...</td>\n",
       "      <td>0.000000</td>\n",
       "      <td>0.000000</td>\n",
       "      <td>0.000000</td>\n",
       "      <td>0.000000</td>\n",
       "      <td>0.000058</td>\n",
       "      <td>0.000000</td>\n",
       "      <td>0.000000</td>\n",
       "      <td>0.000000</td>\n",
       "      <td>0.000000</td>\n",
       "      <td>1</td>\n",
       "    </tr>\n",
       "    <tr>\n",
       "      <th>4</th>\n",
       "      <td>0.031194</td>\n",
       "      <td>0.029506</td>\n",
       "      <td>0.025757</td>\n",
       "      <td>0.026688</td>\n",
       "      <td>0.025983</td>\n",
       "      <td>0.026321</td>\n",
       "      <td>0.031785</td>\n",
       "      <td>0.028380</td>\n",
       "      <td>0.025136</td>\n",
       "      <td>0.022790</td>\n",
       "      <td>...</td>\n",
       "      <td>0.035069</td>\n",
       "      <td>0.029366</td>\n",
       "      <td>0.022054</td>\n",
       "      <td>0.021063</td>\n",
       "      <td>0.018256</td>\n",
       "      <td>0.020836</td>\n",
       "      <td>0.026829</td>\n",
       "      <td>0.022931</td>\n",
       "      <td>0.025842</td>\n",
       "      <td>1</td>\n",
       "    </tr>\n",
       "  </tbody>\n",
       "</table>\n",
       "<p>5 rows × 29 columns</p>\n",
       "</div>"
      ],
      "text/plain": [
       "          0         1         2         3         4         5         6  \\\n",
       "0  0.008028  0.007456  0.009000  0.008800  0.007113  0.004822  0.006770   \n",
       "1  0.010571  0.009029  0.007656  0.006140  0.006798  0.009457  0.005138   \n",
       "2  0.026237  0.023581  0.021940  0.022818  0.020836  0.025644  0.023157   \n",
       "3  0.009628  0.009800  0.016551  0.017943  0.018880  0.019135  0.019022   \n",
       "4  0.031194  0.029506  0.025757  0.026688  0.025983  0.026321  0.031785   \n",
       "\n",
       "          7         8         9  ...        19        20        21        22  \\\n",
       "0  0.007542  0.008886  0.005653  ...  0.006798  0.007628  0.009714  0.014959   \n",
       "1  0.008514  0.006197  0.006398  ...  0.012681  0.010085  0.008057  0.012368   \n",
       "2  0.024655  0.020581  0.024175  ...  0.024260  0.021742  0.022195  0.028352   \n",
       "3  0.017034  0.015926  0.017858  ...  0.000000  0.000000  0.000000  0.000000   \n",
       "4  0.028380  0.025136  0.022790  ...  0.035069  0.029366  0.022054  0.021063   \n",
       "\n",
       "         23        24        25        26        27  Class  \n",
       "0  0.011284  0.007485  0.004994  0.007485  0.009943      1  \n",
       "1  0.018170  0.014845  0.013279  0.015244  0.012681      1  \n",
       "2  0.027083  0.024966  0.022535  0.019362  0.023383      1  \n",
       "3  0.000058  0.000000  0.000000  0.000000  0.000000      1  \n",
       "4  0.018256  0.020836  0.026829  0.022931  0.025842      1  \n",
       "\n",
       "[5 rows x 29 columns]"
      ]
     },
     "metadata": {},
     "output_type": "display_data"
    }
   ],
   "source": [
    "d = pd.read_csv('C:/Users/jingy/Jupyter/Crime/Fire/CDI_Based/Entropy/CSV/Canny.csv',index_col=0)\n",
    "d.Class[d['Class']==1] = -1\n",
    "d.Class[d['Class'] == 0] = 1\n",
    "display(d.head())"
   ]
  },
  {
   "cell_type": "code",
   "execution_count": 38,
   "metadata": {
    "ExecuteTime": {
     "end_time": "2020-09-14T17:04:43.310144Z",
     "start_time": "2020-09-14T17:04:43.296146Z"
    }
   },
   "outputs": [],
   "source": [
    "data = d\n",
    "mask = (data['Class'] == 1)\n",
    "\n",
    "X_train, X_test = train_test_split(data[mask], test_size=0.2, random_state=2)\n",
    "X_train = X_train.drop(['Class'], axis=1)\n",
    "X_test = X_test.drop(['Class'], axis=1)\n",
    "X_fraud = data[~mask].drop(['Class'], axis=1)\n",
    "\n",
    "x_test=np.vstack((X_test,X_fraud))\n",
    "y_test=[1]*len(X_test)+[-1]*len(X_fraud)\n",
    "std=StandardScaler()\n",
    "X_train=std.fit_transform(X_train)\n",
    "x_test=std.transform(x_test)"
   ]
  },
  {
   "cell_type": "code",
   "execution_count": 39,
   "metadata": {
    "ExecuteTime": {
     "end_time": "2020-09-14T17:04:43.340830Z",
     "start_time": "2020-09-14T17:04:43.312103Z"
    }
   },
   "outputs": [
    {
     "name": "stdout",
     "output_type": "stream",
     "text": [
      "0.8452380952380952\n",
      "              precision    recall  f1-score   support\n",
      "\n",
      "          -1       0.92      0.89      0.91       142\n",
      "           1       0.50      0.58      0.54        26\n",
      "\n",
      "    accuracy                           0.85       168\n",
      "   macro avg       0.71      0.74      0.72       168\n",
      "weighted avg       0.86      0.85      0.85       168\n",
      "\n"
     ]
    }
   ],
   "source": [
    "clf = svm.OneClassSVM(kernel='rbf',nu=0.6)  \n",
    "clf.fit(X_train)  \n",
    "\n",
    "y_pred = clf.predict(x_test)  \n",
    "y_prob = clf.decision_function(x_test)  # the lower, the more normal\n",
    "\n",
    "fpr,tpr,threshold_svc = metrics.roc_curve(y_test,y_prob)     \n",
    "auc_svc = metrics.auc(fpr,tpr)   \n",
    "\n",
    "precision, recall, _ = precision_recall_curve(y_test,y_prob)\n",
    "pr_auc = auc(recall, precision)\n",
    "\n",
    "score_svc = metrics.accuracy_score(y_test,y_pred)\n",
    "\n",
    "print(score_svc)\n",
    "print(classification_report(y_test, y_pred))"
   ]
  },
  {
   "cell_type": "code",
   "execution_count": 40,
   "metadata": {
    "ExecuteTime": {
     "end_time": "2020-09-14T17:04:43.576230Z",
     "start_time": "2020-09-14T17:04:43.342854Z"
    }
   },
   "outputs": [
    {
     "data": {
      "image/png": "[encoded data removed]",
      "text/plain": [
       "<Figure size 1008x432 with 2 Axes>"
      ]
     },
     "metadata": {},
     "output_type": "display_data"
    }
   ],
   "source": [
    "plt.figure(figsize=(14, 6))\n",
    "plt.subplot(121)\n",
    "#plt.figure(figsize=(14, 6))\n",
    "plt.title('Receiver Operating Characteristic \\nAUC = %0.2f'% auc_svc)   \n",
    "plt.plot(fpr, tpr, c='coral', lw=3)\n",
    "plt.plot([0,1],[0,1], c='dodgerblue', ls='--')\n",
    "plt.ylabel('TPR'); plt.xlabel('FPR')\n",
    "\n",
    "plt.subplot(122)\n",
    "plt.title('Precision-Recall curve based on \\nAUC = %0.2f'% pr_auc)\n",
    "plt.plot(recall[:-2], precision[:-2], c='coral', lw=3)\n",
    "plt.xlabel('Recall'); plt.ylabel('Precision')\n",
    "plt.show()"
   ]
  },
  {
   "cell_type": "code",
   "execution_count": null,
   "metadata": {},
   "outputs": [],
   "source": []
  }
 ],
 "metadata": {
  "kernelspec": {
   "display_name": "Python [conda env:crowd] *",
   "language": "python",
   "name": "conda-env-crowd-py"
  },
  "language_info": {
   "codemirror_mode": {
    "name": "ipython",
    "version": 3
   },
   "file_extension": ".py",
   "mimetype": "text/x-python",
   "name": "python",
   "nbconvert_exporter": "python",
   "pygments_lexer": "ipython3",
   "version": "3.8.3"
  },
  "toc": {
   "base_numbering": 1,
   "nav_menu": {},
   "number_sections": true,
   "sideBar": true,
   "skip_h1_title": false,
   "title_cell": "Table of Contents",
   "title_sidebar": "Contents",
   "toc_cell": false,
   "toc_position": {},
   "toc_section_display": true,
   "toc_window_display": false
  }
 },
 "nbformat": 4,
 "nbformat_minor": 4
}

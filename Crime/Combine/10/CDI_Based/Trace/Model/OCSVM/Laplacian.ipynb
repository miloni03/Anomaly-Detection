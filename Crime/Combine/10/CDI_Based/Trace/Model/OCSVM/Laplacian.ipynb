{
 "cells": [
  {
   "cell_type": "code",
   "execution_count": 74,
   "metadata": {
    "ExecuteTime": {
     "end_time": "2020-09-14T17:05:12.246511Z",
     "start_time": "2020-09-14T17:05:12.238536Z"
    }
   },
   "outputs": [],
   "source": [
    "import numpy as np  \n",
    "import matplotlib.pyplot as plt  \n",
    "import matplotlib.font_manager  \n",
    "import pandas as pd\n",
    "from sklearn import svm  \n",
    "from sklearn.model_selection import train_test_split\n",
    "from sklearn.preprocessing import StandardScaler,MinMaxScaler\n",
    "from sklearn import metrics\n",
    "from sklearn.metrics import roc_curve, auc, precision_recall_curve,confusion_matrix,classification_report\n",
    "plt.style.use('seaborn')"
   ]
  },
  {
   "cell_type": "code",
   "execution_count": 75,
   "metadata": {
    "ExecuteTime": {
     "end_time": "2020-09-14T17:05:12.277427Z",
     "start_time": "2020-09-14T17:05:12.248471Z"
    }
   },
   "outputs": [
    {
     "name": "stderr",
     "output_type": "stream",
     "text": [
      "<ipython-input-75-f19bd88834a7>:2: SettingWithCopyWarning: \n",
      "A value is trying to be set on a copy of a slice from a DataFrame\n",
      "\n",
      "See the caveats in the documentation: https://pandas.pydata.org/pandas-docs/stable/user_guide/indexing.html#returning-a-view-versus-a-copy\n",
      "  d.Class[d['Class']==1] = -1\n",
      "<ipython-input-75-f19bd88834a7>:3: SettingWithCopyWarning: \n",
      "A value is trying to be set on a copy of a slice from a DataFrame\n",
      "\n",
      "See the caveats in the documentation: https://pandas.pydata.org/pandas-docs/stable/user_guide/indexing.html#returning-a-view-versus-a-copy\n",
      "  d.Class[d['Class'] == 0] = 1\n"
     ]
    },
    {
     "data": {
      "text/html": [
       "<div>\n",
       "<style scoped>\n",
       "    .dataframe tbody tr th:only-of-type {\n",
       "        vertical-align: middle;\n",
       "    }\n",
       "\n",
       "    .dataframe tbody tr th {\n",
       "        vertical-align: top;\n",
       "    }\n",
       "\n",
       "    .dataframe thead th {\n",
       "        text-align: right;\n",
       "    }\n",
       "</style>\n",
       "<table border=\"1\" class=\"dataframe\">\n",
       "  <thead>\n",
       "    <tr style=\"text-align: right;\">\n",
       "      <th></th>\n",
       "      <th>0</th>\n",
       "      <th>1</th>\n",
       "      <th>2</th>\n",
       "      <th>3</th>\n",
       "      <th>4</th>\n",
       "      <th>5</th>\n",
       "      <th>6</th>\n",
       "      <th>7</th>\n",
       "      <th>8</th>\n",
       "      <th>9</th>\n",
       "      <th>...</th>\n",
       "      <th>19</th>\n",
       "      <th>20</th>\n",
       "      <th>21</th>\n",
       "      <th>22</th>\n",
       "      <th>23</th>\n",
       "      <th>24</th>\n",
       "      <th>25</th>\n",
       "      <th>26</th>\n",
       "      <th>27</th>\n",
       "      <th>Class</th>\n",
       "    </tr>\n",
       "  </thead>\n",
       "  <tbody>\n",
       "    <tr>\n",
       "      <th>0</th>\n",
       "      <td>1.116591</td>\n",
       "      <td>1.076268</td>\n",
       "      <td>0.964579</td>\n",
       "      <td>0.827250</td>\n",
       "      <td>0.788555</td>\n",
       "      <td>0.717183</td>\n",
       "      <td>0.685219</td>\n",
       "      <td>0.675476</td>\n",
       "      <td>0.645822</td>\n",
       "      <td>0.640040</td>\n",
       "      <td>...</td>\n",
       "      <td>0.919854</td>\n",
       "      <td>0.953868</td>\n",
       "      <td>1.010380</td>\n",
       "      <td>1.181967</td>\n",
       "      <td>1.053482</td>\n",
       "      <td>0.782155</td>\n",
       "      <td>0.685755</td>\n",
       "      <td>0.771562</td>\n",
       "      <td>0.917780</td>\n",
       "      <td>1</td>\n",
       "    </tr>\n",
       "    <tr>\n",
       "      <th>1</th>\n",
       "      <td>1.132044</td>\n",
       "      <td>0.942004</td>\n",
       "      <td>0.847378</td>\n",
       "      <td>0.815218</td>\n",
       "      <td>0.794283</td>\n",
       "      <td>0.796818</td>\n",
       "      <td>0.762221</td>\n",
       "      <td>0.724707</td>\n",
       "      <td>0.812962</td>\n",
       "      <td>0.837894</td>\n",
       "      <td>...</td>\n",
       "      <td>1.092682</td>\n",
       "      <td>0.993216</td>\n",
       "      <td>0.867587</td>\n",
       "      <td>1.031902</td>\n",
       "      <td>1.237058</td>\n",
       "      <td>0.976347</td>\n",
       "      <td>0.881224</td>\n",
       "      <td>0.850401</td>\n",
       "      <td>0.844549</td>\n",
       "      <td>1</td>\n",
       "    </tr>\n",
       "    <tr>\n",
       "      <th>2</th>\n",
       "      <td>1.761399</td>\n",
       "      <td>1.634343</td>\n",
       "      <td>1.543578</td>\n",
       "      <td>1.592710</td>\n",
       "      <td>1.612295</td>\n",
       "      <td>1.548785</td>\n",
       "      <td>1.550124</td>\n",
       "      <td>1.568618</td>\n",
       "      <td>1.546401</td>\n",
       "      <td>1.628864</td>\n",
       "      <td>...</td>\n",
       "      <td>1.616676</td>\n",
       "      <td>1.602723</td>\n",
       "      <td>1.652010</td>\n",
       "      <td>1.772399</td>\n",
       "      <td>1.760665</td>\n",
       "      <td>1.647880</td>\n",
       "      <td>1.614305</td>\n",
       "      <td>1.567624</td>\n",
       "      <td>1.636149</td>\n",
       "      <td>1</td>\n",
       "    </tr>\n",
       "    <tr>\n",
       "      <th>3</th>\n",
       "      <td>0.895756</td>\n",
       "      <td>0.938467</td>\n",
       "      <td>1.064396</td>\n",
       "      <td>1.181068</td>\n",
       "      <td>0.988052</td>\n",
       "      <td>1.038185</td>\n",
       "      <td>1.114712</td>\n",
       "      <td>1.003453</td>\n",
       "      <td>1.014447</td>\n",
       "      <td>1.150527</td>\n",
       "      <td>...</td>\n",
       "      <td>0.015918</td>\n",
       "      <td>0.015918</td>\n",
       "      <td>0.015918</td>\n",
       "      <td>0.007598</td>\n",
       "      <td>0.118888</td>\n",
       "      <td>0.080963</td>\n",
       "      <td>0.019146</td>\n",
       "      <td>0.021540</td>\n",
       "      <td>0.021865</td>\n",
       "      <td>1</td>\n",
       "    </tr>\n",
       "    <tr>\n",
       "      <th>4</th>\n",
       "      <td>1.525381</td>\n",
       "      <td>1.297543</td>\n",
       "      <td>1.112897</td>\n",
       "      <td>0.990920</td>\n",
       "      <td>1.217607</td>\n",
       "      <td>1.347222</td>\n",
       "      <td>1.202654</td>\n",
       "      <td>1.422620</td>\n",
       "      <td>1.429657</td>\n",
       "      <td>1.367186</td>\n",
       "      <td>...</td>\n",
       "      <td>1.724537</td>\n",
       "      <td>1.517537</td>\n",
       "      <td>1.476781</td>\n",
       "      <td>1.776136</td>\n",
       "      <td>1.122659</td>\n",
       "      <td>1.110401</td>\n",
       "      <td>1.508056</td>\n",
       "      <td>1.094994</td>\n",
       "      <td>0.963698</td>\n",
       "      <td>1</td>\n",
       "    </tr>\n",
       "  </tbody>\n",
       "</table>\n",
       "<p>5 rows × 29 columns</p>\n",
       "</div>"
      ],
      "text/plain": [
       "          0         1         2         3         4         5         6  \\\n",
       "0  1.116591  1.076268  0.964579  0.827250  0.788555  0.717183  0.685219   \n",
       "1  1.132044  0.942004  0.847378  0.815218  0.794283  0.796818  0.762221   \n",
       "2  1.761399  1.634343  1.543578  1.592710  1.612295  1.548785  1.550124   \n",
       "3  0.895756  0.938467  1.064396  1.181068  0.988052  1.038185  1.114712   \n",
       "4  1.525381  1.297543  1.112897  0.990920  1.217607  1.347222  1.202654   \n",
       "\n",
       "          7         8         9  ...        19        20        21        22  \\\n",
       "0  0.675476  0.645822  0.640040  ...  0.919854  0.953868  1.010380  1.181967   \n",
       "1  0.724707  0.812962  0.837894  ...  1.092682  0.993216  0.867587  1.031902   \n",
       "2  1.568618  1.546401  1.628864  ...  1.616676  1.602723  1.652010  1.772399   \n",
       "3  1.003453  1.014447  1.150527  ...  0.015918  0.015918  0.015918  0.007598   \n",
       "4  1.422620  1.429657  1.367186  ...  1.724537  1.517537  1.476781  1.776136   \n",
       "\n",
       "         23        24        25        26        27  Class  \n",
       "0  1.053482  0.782155  0.685755  0.771562  0.917780      1  \n",
       "1  1.237058  0.976347  0.881224  0.850401  0.844549      1  \n",
       "2  1.760665  1.647880  1.614305  1.567624  1.636149      1  \n",
       "3  0.118888  0.080963  0.019146  0.021540  0.021865      1  \n",
       "4  1.122659  1.110401  1.508056  1.094994  0.963698      1  \n",
       "\n",
       "[5 rows x 29 columns]"
      ]
     },
     "metadata": {},
     "output_type": "display_data"
    }
   ],
   "source": [
    "d = pd.read_csv('C:/Users/jingy/Jupyter/Crime/Fire/CDI_Based/Entropy/CSV/Laplacian.csv',index_col=0)\n",
    "d.Class[d['Class']==1] = -1\n",
    "d.Class[d['Class'] == 0] = 1\n",
    "display(d.head())"
   ]
  },
  {
   "cell_type": "code",
   "execution_count": 76,
   "metadata": {
    "ExecuteTime": {
     "end_time": "2020-09-14T17:05:12.307340Z",
     "start_time": "2020-09-14T17:05:12.279389Z"
    }
   },
   "outputs": [],
   "source": [
    "data = d\n",
    "mask = (data['Class'] == 1)\n",
    "\n",
    "X_train, X_test = train_test_split(data[mask], test_size=0.2, random_state=2)\n",
    "X_train = X_train.drop(['Class'], axis=1)\n",
    "X_test = X_test.drop(['Class'], axis=1)\n",
    "X_fraud = data[~mask].drop(['Class'], axis=1)\n",
    "\n",
    "x_test=np.vstack((X_test,X_fraud))\n",
    "y_test=[1]*len(X_test)+[-1]*len(X_fraud)\n",
    "std=MinMaxScaler()\n",
    "X_train=std.fit_transform(X_train)\n",
    "x_test=std.transform(x_test)"
   ]
  },
  {
   "cell_type": "code",
   "execution_count": 77,
   "metadata": {
    "ExecuteTime": {
     "end_time": "2020-09-14T17:05:12.337471Z",
     "start_time": "2020-09-14T17:05:12.310332Z"
    }
   },
   "outputs": [
    {
     "name": "stdout",
     "output_type": "stream",
     "text": [
      "0.8809523809523809\n",
      "              precision    recall  f1-score   support\n",
      "\n",
      "          -1       0.93      0.93      0.93       142\n",
      "           1       0.62      0.62      0.62        26\n",
      "\n",
      "    accuracy                           0.88       168\n",
      "   macro avg       0.77      0.77      0.77       168\n",
      "weighted avg       0.88      0.88      0.88       168\n",
      "\n"
     ]
    }
   ],
   "source": [
    "clf = svm.OneClassSVM(kernel='rbf',nu=0.6)  \n",
    "clf.fit(X_train)  \n",
    "\n",
    "y_pred = clf.predict(x_test)  \n",
    "y_prob = clf.decision_function(x_test)  # the lower, the more normal\n",
    "\n",
    "fpr,tpr,threshold_svc = metrics.roc_curve(y_test,y_prob)     \n",
    "auc_svc = metrics.auc(fpr,tpr)   \n",
    "\n",
    "precision, recall, _ = precision_recall_curve(y_test,y_prob)\n",
    "pr_auc = auc(recall, precision)\n",
    "\n",
    "score_svc = metrics.accuracy_score(y_test,y_pred)\n",
    "\n",
    "print(score_svc)\n",
    "print(classification_report(y_test, y_pred))"
   ]
  },
  {
   "cell_type": "code",
   "execution_count": 78,
   "metadata": {
    "ExecuteTime": {
     "end_time": "2020-09-14T17:05:12.585433Z",
     "start_time": "2020-09-14T17:05:12.339432Z"
    }
   },
   "outputs": [
    {
     "data": {
      "image/png": "[encoded data removed]",
      "text/plain": [
       "<Figure size 1008x432 with 2 Axes>"
      ]
     },
     "metadata": {},
     "output_type": "display_data"
    }
   ],
   "source": [
    "plt.figure(figsize=(14, 6))\n",
    "plt.subplot(121)\n",
    "#plt.figure(figsize=(14, 6))\n",
    "plt.title('Receiver Operating Characteristic \\nAUC = %0.2f'% auc_svc)   \n",
    "plt.plot(fpr, tpr, c='coral', lw=3)\n",
    "plt.plot([0,1],[0,1], c='dodgerblue', ls='--')\n",
    "plt.ylabel('TPR'); plt.xlabel('FPR')\n",
    "\n",
    "plt.subplot(122)\n",
    "plt.title('Precision-Recall curve based on \\nAUC = %0.2f'% pr_auc)\n",
    "plt.plot(recall[:-2], precision[:-2], c='coral', lw=3)\n",
    "plt.xlabel('Recall'); plt.ylabel('Precision')\n",
    "plt.show()"
   ]
  },
  {
   "cell_type": "code",
   "execution_count": null,
   "metadata": {},
   "outputs": [],
   "source": []
  },
  {
   "cell_type": "code",
   "execution_count": null,
   "metadata": {},
   "outputs": [],
   "source": []
  }
 ],
 "metadata": {
  "kernelspec": {
   "display_name": "Python [conda env:crowd] *",
   "language": "python",
   "name": "conda-env-crowd-py"
  },
  "language_info": {
   "codemirror_mode": {
    "name": "ipython",
    "version": 3
   },
   "file_extension": ".py",
   "mimetype": "text/x-python",
   "name": "python",
   "nbconvert_exporter": "python",
   "pygments_lexer": "ipython3",
   "version": "3.8.3"
  },
  "toc": {
   "base_numbering": 1,
   "nav_menu": {},
   "number_sections": true,
   "sideBar": true,
   "skip_h1_title": false,
   "title_cell": "Table of Contents",
   "title_sidebar": "Contents",
   "toc_cell": false,
   "toc_position": {},
   "toc_section_display": true,
   "toc_window_display": false
  }
 },
 "nbformat": 4,
 "nbformat_minor": 4
}

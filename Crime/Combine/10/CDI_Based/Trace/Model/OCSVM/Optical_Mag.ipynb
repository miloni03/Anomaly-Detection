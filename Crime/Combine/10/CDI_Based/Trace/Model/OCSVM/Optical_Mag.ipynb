{
 "cells": [
  {
   "cell_type": "code",
   "execution_count": 1,
   "metadata": {
    "ExecuteTime": {
     "end_time": "2020-09-14T20:58:01.935984Z",
     "start_time": "2020-09-14T20:58:00.292501Z"
    }
   },
   "outputs": [],
   "source": [
    "import numpy as np  \n",
    "import matplotlib.pyplot as plt  \n",
    "import matplotlib.font_manager  \n",
    "import pandas as pd\n",
    "from sklearn import svm  \n",
    "from sklearn.model_selection import train_test_split\n",
    "from sklearn.preprocessing import StandardScaler,MinMaxScaler\n",
    "from sklearn import metrics\n",
    "from sklearn.metrics import roc_curve, auc, precision_recall_curve,confusion_matrix,classification_report\n",
    "plt.style.use('seaborn')"
   ]
  },
  {
   "cell_type": "code",
   "execution_count": 5,
   "metadata": {
    "ExecuteTime": {
     "end_time": "2020-09-14T20:58:41.721148Z",
     "start_time": "2020-09-14T20:58:41.681225Z"
    }
   },
   "outputs": [
    {
     "name": "stderr",
     "output_type": "stream",
     "text": [
      "<ipython-input-5-b5eb005d8dae>:2: SettingWithCopyWarning: \n",
      "A value is trying to be set on a copy of a slice from a DataFrame\n",
      "\n",
      "See the caveats in the documentation: https://pandas.pydata.org/pandas-docs/stable/user_guide/indexing.html#returning-a-view-versus-a-copy\n",
      "  d.Class[d['Class']==1] = -1\n",
      "<ipython-input-5-b5eb005d8dae>:3: SettingWithCopyWarning: \n",
      "A value is trying to be set on a copy of a slice from a DataFrame\n",
      "\n",
      "See the caveats in the documentation: https://pandas.pydata.org/pandas-docs/stable/user_guide/indexing.html#returning-a-view-versus-a-copy\n",
      "  d.Class[d['Class'] == 0] = 1\n"
     ]
    },
    {
     "data": {
      "text/html": [
       "<div>\n",
       "<style scoped>\n",
       "    .dataframe tbody tr th:only-of-type {\n",
       "        vertical-align: middle;\n",
       "    }\n",
       "\n",
       "    .dataframe tbody tr th {\n",
       "        vertical-align: top;\n",
       "    }\n",
       "\n",
       "    .dataframe thead th {\n",
       "        text-align: right;\n",
       "    }\n",
       "</style>\n",
       "<table border=\"1\" class=\"dataframe\">\n",
       "  <thead>\n",
       "    <tr style=\"text-align: right;\">\n",
       "      <th></th>\n",
       "      <th>0</th>\n",
       "      <th>1</th>\n",
       "      <th>2</th>\n",
       "      <th>3</th>\n",
       "      <th>4</th>\n",
       "      <th>5</th>\n",
       "      <th>6</th>\n",
       "      <th>7</th>\n",
       "      <th>8</th>\n",
       "      <th>9</th>\n",
       "      <th>...</th>\n",
       "      <th>18</th>\n",
       "      <th>19</th>\n",
       "      <th>20</th>\n",
       "      <th>21</th>\n",
       "      <th>22</th>\n",
       "      <th>23</th>\n",
       "      <th>24</th>\n",
       "      <th>25</th>\n",
       "      <th>26</th>\n",
       "      <th>Class</th>\n",
       "    </tr>\n",
       "  </thead>\n",
       "  <tbody>\n",
       "    <tr>\n",
       "      <th>0</th>\n",
       "      <td>6.499106</td>\n",
       "      <td>6.325922</td>\n",
       "      <td>6.138347</td>\n",
       "      <td>6.677098</td>\n",
       "      <td>5.944888</td>\n",
       "      <td>6.135309</td>\n",
       "      <td>5.899482</td>\n",
       "      <td>5.801084</td>\n",
       "      <td>5.686725</td>\n",
       "      <td>6.246203</td>\n",
       "      <td>...</td>\n",
       "      <td>6.059478</td>\n",
       "      <td>5.747850</td>\n",
       "      <td>1.405984</td>\n",
       "      <td>1.393946</td>\n",
       "      <td>2.383877</td>\n",
       "      <td>2.110883</td>\n",
       "      <td>1.176388</td>\n",
       "      <td>1.129626</td>\n",
       "      <td>0.985198</td>\n",
       "      <td>1</td>\n",
       "    </tr>\n",
       "    <tr>\n",
       "      <th>1</th>\n",
       "      <td>5.788572</td>\n",
       "      <td>5.847180</td>\n",
       "      <td>5.840763</td>\n",
       "      <td>6.160900</td>\n",
       "      <td>5.959625</td>\n",
       "      <td>5.785196</td>\n",
       "      <td>5.940321</td>\n",
       "      <td>5.734212</td>\n",
       "      <td>5.883041</td>\n",
       "      <td>6.028095</td>\n",
       "      <td>...</td>\n",
       "      <td>0.579659</td>\n",
       "      <td>0.803102</td>\n",
       "      <td>0.836626</td>\n",
       "      <td>0.965238</td>\n",
       "      <td>0.776770</td>\n",
       "      <td>0.853798</td>\n",
       "      <td>0.852924</td>\n",
       "      <td>0.680608</td>\n",
       "      <td>0.649927</td>\n",
       "      <td>1</td>\n",
       "    </tr>\n",
       "    <tr>\n",
       "      <th>2</th>\n",
       "      <td>5.905923</td>\n",
       "      <td>5.733370</td>\n",
       "      <td>6.452061</td>\n",
       "      <td>6.955895</td>\n",
       "      <td>5.800455</td>\n",
       "      <td>5.792337</td>\n",
       "      <td>6.677264</td>\n",
       "      <td>6.828788</td>\n",
       "      <td>6.397752</td>\n",
       "      <td>7.122845</td>\n",
       "      <td>...</td>\n",
       "      <td>5.044868</td>\n",
       "      <td>6.113437</td>\n",
       "      <td>5.927205</td>\n",
       "      <td>5.399750</td>\n",
       "      <td>6.025731</td>\n",
       "      <td>5.511242</td>\n",
       "      <td>5.015948</td>\n",
       "      <td>6.860445</td>\n",
       "      <td>6.913186</td>\n",
       "      <td>1</td>\n",
       "    </tr>\n",
       "    <tr>\n",
       "      <th>3</th>\n",
       "      <td>2.333854</td>\n",
       "      <td>1.995163</td>\n",
       "      <td>1.695817</td>\n",
       "      <td>1.802002</td>\n",
       "      <td>2.138103</td>\n",
       "      <td>2.145863</td>\n",
       "      <td>2.295416</td>\n",
       "      <td>1.960960</td>\n",
       "      <td>2.126046</td>\n",
       "      <td>2.692577</td>\n",
       "      <td>...</td>\n",
       "      <td>0.000000</td>\n",
       "      <td>0.000000</td>\n",
       "      <td>0.000000</td>\n",
       "      <td>0.277537</td>\n",
       "      <td>1.754851</td>\n",
       "      <td>1.956068</td>\n",
       "      <td>1.118516</td>\n",
       "      <td>0.301777</td>\n",
       "      <td>0.298088</td>\n",
       "      <td>1</td>\n",
       "    </tr>\n",
       "    <tr>\n",
       "      <th>4</th>\n",
       "      <td>2.669090</td>\n",
       "      <td>2.708604</td>\n",
       "      <td>2.607685</td>\n",
       "      <td>2.533135</td>\n",
       "      <td>2.606556</td>\n",
       "      <td>2.786949</td>\n",
       "      <td>2.481611</td>\n",
       "      <td>2.652672</td>\n",
       "      <td>2.401634</td>\n",
       "      <td>2.164324</td>\n",
       "      <td>...</td>\n",
       "      <td>3.405750</td>\n",
       "      <td>3.384927</td>\n",
       "      <td>3.121218</td>\n",
       "      <td>3.297320</td>\n",
       "      <td>2.497086</td>\n",
       "      <td>1.996286</td>\n",
       "      <td>1.955148</td>\n",
       "      <td>1.929200</td>\n",
       "      <td>2.084374</td>\n",
       "      <td>1</td>\n",
       "    </tr>\n",
       "  </tbody>\n",
       "</table>\n",
       "<p>5 rows × 28 columns</p>\n",
       "</div>"
      ],
      "text/plain": [
       "          0         1         2         3         4         5         6  \\\n",
       "0  6.499106  6.325922  6.138347  6.677098  5.944888  6.135309  5.899482   \n",
       "1  5.788572  5.847180  5.840763  6.160900  5.959625  5.785196  5.940321   \n",
       "2  5.905923  5.733370  6.452061  6.955895  5.800455  5.792337  6.677264   \n",
       "3  2.333854  1.995163  1.695817  1.802002  2.138103  2.145863  2.295416   \n",
       "4  2.669090  2.708604  2.607685  2.533135  2.606556  2.786949  2.481611   \n",
       "\n",
       "          7         8         9  ...        18        19        20        21  \\\n",
       "0  5.801084  5.686725  6.246203  ...  6.059478  5.747850  1.405984  1.393946   \n",
       "1  5.734212  5.883041  6.028095  ...  0.579659  0.803102  0.836626  0.965238   \n",
       "2  6.828788  6.397752  7.122845  ...  5.044868  6.113437  5.927205  5.399750   \n",
       "3  1.960960  2.126046  2.692577  ...  0.000000  0.000000  0.000000  0.277537   \n",
       "4  2.652672  2.401634  2.164324  ...  3.405750  3.384927  3.121218  3.297320   \n",
       "\n",
       "         22        23        24        25        26  Class  \n",
       "0  2.383877  2.110883  1.176388  1.129626  0.985198      1  \n",
       "1  0.776770  0.853798  0.852924  0.680608  0.649927      1  \n",
       "2  6.025731  5.511242  5.015948  6.860445  6.913186      1  \n",
       "3  1.754851  1.956068  1.118516  0.301777  0.298088      1  \n",
       "4  2.497086  1.996286  1.955148  1.929200  2.084374      1  \n",
       "\n",
       "[5 rows x 28 columns]"
      ]
     },
     "metadata": {},
     "output_type": "display_data"
    }
   ],
   "source": [
    "d = pd.read_csv('C:/Users/jingy/Jupyter/Crime/Fire/CDI_Based/Entropy/CSV/Optical.csv',index_col=0)\n",
    "d.Class[d['Class']==1] = -1\n",
    "d.Class[d['Class'] == 0] = 1\n",
    "display(d.head())"
   ]
  },
  {
   "cell_type": "code",
   "execution_count": 6,
   "metadata": {
    "ExecuteTime": {
     "end_time": "2020-09-14T20:59:22.940000Z",
     "start_time": "2020-09-14T20:59:22.926038Z"
    }
   },
   "outputs": [],
   "source": [
    "data = d\n",
    "mask = (data['Class'] == 1)\n",
    "\n",
    "X_train, X_test = train_test_split(data[mask], test_size=0.2, random_state=2)\n",
    "X_train = X_train.drop(['Class'], axis=1)\n",
    "X_test = X_test.drop(['Class'], axis=1)\n",
    "X_fraud = data[~mask].drop(['Class'], axis=1)\n",
    "\n",
    "x_test=np.vstack((X_test,X_fraud))\n",
    "y_test=[1]*len(X_test)+[-1]*len(X_fraud)"
   ]
  },
  {
   "cell_type": "code",
   "execution_count": 7,
   "metadata": {
    "ExecuteTime": {
     "end_time": "2020-09-14T20:59:28.785390Z",
     "start_time": "2020-09-14T20:59:28.762450Z"
    }
   },
   "outputs": [
    {
     "name": "stdout",
     "output_type": "stream",
     "text": [
      "0.7083333333333334\n",
      "              precision    recall  f1-score   support\n",
      "\n",
      "          -1       0.87      0.77      0.82       142\n",
      "           1       0.22      0.35      0.27        26\n",
      "\n",
      "    accuracy                           0.71       168\n",
      "   macro avg       0.54      0.56      0.54       168\n",
      "weighted avg       0.77      0.71      0.73       168\n",
      "\n"
     ]
    }
   ],
   "source": [
    "clf = svm.OneClassSVM(kernel='rbf',nu=0.6)  \n",
    "clf.fit(X_train)  \n",
    "\n",
    "y_pred = clf.predict(x_test)  \n",
    "y_prob = clf.decision_function(x_test)  # the lower, the more normal\n",
    "\n",
    "fpr,tpr,threshold_svc = metrics.roc_curve(y_test,y_prob)     \n",
    "auc_svc = metrics.auc(fpr,tpr)   \n",
    "\n",
    "precision, recall, _ = precision_recall_curve(y_test,y_prob)\n",
    "pr_auc = auc(recall, precision)\n",
    "\n",
    "score_svc = metrics.accuracy_score(y_test,y_pred)\n",
    "\n",
    "print(score_svc)\n",
    "print(classification_report(y_test, y_pred))"
   ]
  },
  {
   "cell_type": "code",
   "execution_count": 8,
   "metadata": {
    "ExecuteTime": {
     "end_time": "2020-09-14T20:59:35.880914Z",
     "start_time": "2020-09-14T20:59:35.621043Z"
    }
   },
   "outputs": [
    {
     "data": {
      "image/png": "[encoded data removed]",
      "text/plain": [
       "<Figure size 1008x432 with 2 Axes>"
      ]
     },
     "metadata": {},
     "output_type": "display_data"
    }
   ],
   "source": [
    "plt.figure(figsize=(14, 6))\n",
    "plt.subplot(121)\n",
    "#plt.figure(figsize=(14, 6))\n",
    "plt.title('Receiver Operating Characteristic \\nAUC = %0.2f'% auc_svc)   \n",
    "plt.plot(fpr, tpr, c='coral', lw=3)\n",
    "plt.plot([0,1],[0,1], c='dodgerblue', ls='--')\n",
    "plt.ylabel('TPR'); plt.xlabel('FPR')\n",
    "\n",
    "plt.subplot(122)\n",
    "plt.title('Precision-Recall curve based on \\nAUC = %0.2f'% pr_auc)\n",
    "plt.plot(recall[:-2], precision[:-2], c='coral', lw=3)\n",
    "plt.xlabel('Recall'); plt.ylabel('Precision')\n",
    "plt.show()"
   ]
  },
  {
   "cell_type": "code",
   "execution_count": null,
   "metadata": {},
   "outputs": [],
   "source": []
  }
 ],
 "metadata": {
  "kernelspec": {
   "display_name": "Python [conda env:crowd] *",
   "language": "python",
   "name": "conda-env-crowd-py"
  },
  "language_info": {
   "codemirror_mode": {
    "name": "ipython",
    "version": 3
   },
   "file_extension": ".py",
   "mimetype": "text/x-python",
   "name": "python",
   "nbconvert_exporter": "python",
   "pygments_lexer": "ipython3",
   "version": "3.8.3"
  },
  "toc": {
   "base_numbering": 1,
   "nav_menu": {},
   "number_sections": true,
   "sideBar": true,
   "skip_h1_title": false,
   "title_cell": "Table of Contents",
   "title_sidebar": "Contents",
   "toc_cell": false,
   "toc_position": {},
   "toc_section_display": true,
   "toc_window_display": false
  }
 },
 "nbformat": 4,
 "nbformat_minor": 4
}

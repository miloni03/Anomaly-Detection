{
 "cells": [
  {
   "cell_type": "code",
   "execution_count": 8,
   "metadata": {
    "ExecuteTime": {
     "end_time": "2020-09-14T17:41:21.489458Z",
     "start_time": "2020-09-14T17:41:21.472929Z"
    }
   },
   "outputs": [],
   "source": [
    "import Ipynb_importer\n",
    "import cv2 as cv\n",
    "import sys,os\n",
    "import time\n",
    "import numpy as np\n",
    "import matplotlib.pyplot as plt\n",
    "import pandas as pd\n",
    "import seaborn as sns\n",
    "from collections import Counter\n",
    "from numba import jit\n",
    "from image_preprocessing import cdi_process,calc_entropy\n",
    "from sklearn.preprocessing import StandardScaler,MinMaxScaler\n",
    "\n",
    "%matplotlib inline\n",
    "sns.set_style('darkgrid')\n",
    "\n",
    "Home_os='C:/Users/jingy/Jupyter/Crime/Fire/Dataset/video/'\n",
    "negative_os=Home_os+'negative/'\n",
    "positive_os=Home_os+'positive/'"
   ]
  },
  {
   "cell_type": "code",
   "execution_count": 19,
   "metadata": {
    "ExecuteTime": {
     "end_time": "2020-09-14T17:58:44.078493Z",
     "start_time": "2020-09-14T17:58:44.057754Z"
    }
   },
   "outputs": [],
   "source": [
    "def calc_prob_entropy(magnitude,angle,bin_num=[4,4],max_num=[20,2*np.pi]):\n",
    "        hist_2d=np.zeros((bin_num[0],bin_num[1]))\n",
    "        for m,a in zip(magnitude.ravel(),angle.ravel()):\n",
    "            x=m//(max_num[0]/bin_num[0])\n",
    "            y=a//(max_num[1]/bin_num[1])\n",
    "            \n",
    "            x= bin_num[0]-1 if x>=bin_num[0]-1 else int(x)\n",
    "            y= bin_num[1]-1 if y>=bin_num[1]-1 else int(y)\n",
    "            \n",
    "            hist_2d[x,y]+=1\n",
    "            \n",
    "        prob=hist_2d/(224*224)\n",
    "        \n",
    "        H=np.sum([(-i*(np.log2(i))) for i in prob.ravel() if i !=0.0])\n",
    "        \n",
    "        return prob,H"
   ]
  },
  {
   "cell_type": "code",
   "execution_count": 29,
   "metadata": {
    "ExecuteTime": {
     "end_time": "2020-09-14T19:39:38.311095Z",
     "start_time": "2020-09-14T19:37:51.797194Z"
    }
   },
   "outputs": [],
   "source": [
    "video=os.listdir(negative_os)\n",
    "Intensity_list=[]\n",
    "for i in video:\n",
    "    start=0\n",
    "    video_name=negative_os+i\n",
    "    cap = cv.VideoCapture(video_name)\n",
    "    My_CDI=cdi_process.CDI_lib(cap,Threshold=False,mythold=[0,255])\n",
    "    in_list=[]\n",
    "    while 1:\n",
    "        if start<=26:\n",
    "            cdi,frame=My_CDI.CDI(start,threshold_type=cv.THRESH_TOZERO)\n",
    "            cdi_next,frame_next=My_CDI.CDI(start+1,threshold_type=cv.THRESH_TOZERO)\n",
    "            cdi=cv.normalize(cdi,None,0,255,cv.NORM_MINMAX)\n",
    "            cdi_next=cv.normalize(cdi_next,None,0,255,cv.NORM_MINMAX)\n",
    "#             hsv = np.zeros_like(frame)\n",
    "#             hsv[...,1] = 255\n",
    "            flow = cv.calcOpticalFlowFarneback(cdi,cdi_next, None, 0.5, 3, 15, 3, 5, 1.2, 0)\n",
    "            mag=np.sqrt(flow[...,0]**2+flow[...,1]**2)\n",
    "            ang=np.arctan2(flow[...,1],flow[...,0])% (2 * np.pi)\n",
    "            ang=np.degrees(ang)\n",
    "            prob = cv.calcHist([ang], [0], None, [361], [0, 360])/(224*224)\n",
    "            H=np.sum([(-i*(np.log2(i))) for i in prob.ravel() if i !=0.0])\n",
    "#             hsv[...,0] = ang*180/np.pi/2  #角度\n",
    "#             hsv[...,2] = cv.normalize(mag,None,0,255,cv.NORM_MINMAX) \n",
    "#             bgr = cv.cvtColor(hsv,cv.COLOR_HSV2BGR)\n",
    "            #H=calc_entropy.entropy(hsv[...,2])\n",
    "            #_,H=calc_prob_entropy(magnitude=mag,angle=ang)\n",
    "            in_list.append(H)\n",
    "            cv.imshow('frame',frame)\n",
    "            cv.imshow('cdi',cdi)\n",
    "#             cv.imshow('optical',bgr)\n",
    "            k = cv.waitKey(1) \n",
    "            start+=1\n",
    "            if k ==27:     \n",
    "                break \n",
    "        else:\n",
    "            break\n",
    "    Intensity_list.append(in_list)\n",
    "    cap.release()\n",
    "cv.destroyAllWindows() "
   ]
  },
  {
   "cell_type": "code",
   "execution_count": 30,
   "metadata": {
    "ExecuteTime": {
     "end_time": "2020-09-14T19:52:58.212627Z",
     "start_time": "2020-09-14T19:50:58.803141Z"
    }
   },
   "outputs": [],
   "source": [
    "video=os.listdir(positive_os)\n",
    "P_Intensity_list=[]\n",
    "for i in video:\n",
    "    start=0\n",
    "    video_name=positive_os+i\n",
    "    cap = cv.VideoCapture(video_name)\n",
    "    My_CDI=cdi_process.CDI_lib(cap,Threshold=False,mythold=[0,255])\n",
    "    in_list=[]\n",
    "    while 1:\n",
    "        if start<=26:\n",
    "            cdi,frame=My_CDI.CDI(start,threshold_type=cv.THRESH_TOZERO)\n",
    "            cdi_next,frame_next=My_CDI.CDI(start+1,threshold_type=cv.THRESH_TOZERO)\n",
    "            cdi=cv.normalize(cdi,None,0,255,cv.NORM_MINMAX)\n",
    "            cdi_next=cv.normalize(cdi_next,None,0,255,cv.NORM_MINMAX)\n",
    "#             hsv = np.zeros_like(frame)\n",
    "#             hsv[...,1] = 255\n",
    "            flow = cv.calcOpticalFlowFarneback(cdi,cdi_next, None, 0.5, 3, 15, 3, 5, 1.2, 0)\n",
    "            mag=np.sqrt(flow[...,0]**2+flow[...,1]**2)\n",
    "            ang=np.arctan2(flow[...,1],flow[...,0])% (2 * np.pi)\n",
    "            ang=np.degrees(ang)\n",
    "            prob = cv.calcHist([ang], [0], None, [361], [0, 360])/(224*224)\n",
    "            H=np.sum([(-i*(np.log2(i))) for i in prob.ravel() if i !=0.0])\n",
    "#             hsv[...,0] = ang*180/np.pi/2  #角度\n",
    "#             hsv[...,2] = cv.normalize(mag,None,0,255,cv.NORM_MINMAX) \n",
    "#             bgr = cv.cvtColor(hsv,cv.COLOR_HSV2BGR)\n",
    "            #H=calc_entropy.entropy(hsv[...,2])\n",
    "            #_,H=calc_prob_entropy(magnitude=mag,angle=ang)\n",
    "            in_list.append(H)\n",
    "            cv.imshow('frame',frame)\n",
    "            cv.imshow('cdi',cdi)\n",
    "#             cv.imshow('optical',bgr)\n",
    "            k = cv.waitKey(1) \n",
    "            start+=1\n",
    "            if k ==27:     \n",
    "                break \n",
    "        else:\n",
    "            break\n",
    "    P_Intensity_list.append(in_list)\n",
    "    cap.release()\n",
    "cv.destroyAllWindows() "
   ]
  },
  {
   "cell_type": "code",
   "execution_count": 31,
   "metadata": {
    "ExecuteTime": {
     "end_time": "2020-09-14T20:04:50.795641Z",
     "start_time": "2020-09-14T20:04:50.781678Z"
    }
   },
   "outputs": [
    {
     "name": "stdout",
     "output_type": "stream",
     "text": [
      "268\n"
     ]
    }
   ],
   "source": [
    "\n",
    "Combine_Entropy=Intensity_list+P_Intensity_list\n",
    "# min_max_scaler =MinMaxScaler()\n",
    "# for i in range(len(Combine_Entropy)):\n",
    "#     Combine_Entropy[i] = ((min_max_scaler.fit_transform(np.array(Combine_Entropy[i]).reshape(-1,1)))).reshape(-1).tolist()\n",
    "new_list=[]\n",
    "for i in Combine_Entropy:\n",
    "        str1 = ' '.join([str(x) for x in i])\n",
    "        new_list.append(str1)\n",
    "\n",
    "print(len(new_list))\n"
   ]
  },
  {
   "cell_type": "code",
   "execution_count": 32,
   "metadata": {
    "ExecuteTime": {
     "end_time": "2020-09-14T20:04:52.404679Z",
     "start_time": "2020-09-14T20:04:52.398671Z"
    }
   },
   "outputs": [],
   "source": [
    "x = [0] * 126\n",
    "y =[1]*142\n",
    "z=x+y"
   ]
  },
  {
   "cell_type": "code",
   "execution_count": 33,
   "metadata": {
    "ExecuteTime": {
     "end_time": "2020-09-14T20:04:54.146910Z",
     "start_time": "2020-09-14T20:04:54.128958Z"
    }
   },
   "outputs": [
    {
     "data": {
      "text/html": [
       "<div>\n",
       "<style scoped>\n",
       "    .dataframe tbody tr th:only-of-type {\n",
       "        vertical-align: middle;\n",
       "    }\n",
       "\n",
       "    .dataframe tbody tr th {\n",
       "        vertical-align: top;\n",
       "    }\n",
       "\n",
       "    .dataframe thead th {\n",
       "        text-align: right;\n",
       "    }\n",
       "</style>\n",
       "<table border=\"1\" class=\"dataframe\">\n",
       "  <thead>\n",
       "    <tr style=\"text-align: right;\">\n",
       "      <th></th>\n",
       "      <th>entropy</th>\n",
       "      <th>label</th>\n",
       "    </tr>\n",
       "  </thead>\n",
       "  <tbody>\n",
       "    <tr>\n",
       "      <th>0</th>\n",
       "      <td>8.338194 8.302568 8.313569 8.318121 8.034195 8...</td>\n",
       "      <td>0</td>\n",
       "    </tr>\n",
       "    <tr>\n",
       "      <th>1</th>\n",
       "      <td>8.279738 8.239868 8.173103 8.180133 8.131359 8...</td>\n",
       "      <td>0</td>\n",
       "    </tr>\n",
       "    <tr>\n",
       "      <th>2</th>\n",
       "      <td>8.442705 8.459726 8.451424 8.45746 8.469121 8....</td>\n",
       "      <td>0</td>\n",
       "    </tr>\n",
       "    <tr>\n",
       "      <th>3</th>\n",
       "      <td>8.33338 8.355842 8.376957 8.300938 8.3071575 8...</td>\n",
       "      <td>0</td>\n",
       "    </tr>\n",
       "    <tr>\n",
       "      <th>4</th>\n",
       "      <td>8.304228 8.314566 8.358588 8.370737 8.408796 8...</td>\n",
       "      <td>0</td>\n",
       "    </tr>\n",
       "    <tr>\n",
       "      <th>...</th>\n",
       "      <td>...</td>\n",
       "      <td>...</td>\n",
       "    </tr>\n",
       "    <tr>\n",
       "      <th>263</th>\n",
       "      <td>8.264909 8.287047 8.269607 8.186451 8.211284 8...</td>\n",
       "      <td>1</td>\n",
       "    </tr>\n",
       "    <tr>\n",
       "      <th>264</th>\n",
       "      <td>7.8903666 7.9138727 7.47139 7.7778797 8.172076...</td>\n",
       "      <td>1</td>\n",
       "    </tr>\n",
       "    <tr>\n",
       "      <th>265</th>\n",
       "      <td>4.826669 4.6771564 8.186701 8.0379305 8.176149...</td>\n",
       "      <td>1</td>\n",
       "    </tr>\n",
       "    <tr>\n",
       "      <th>266</th>\n",
       "      <td>8.423625 8.33579 8.37011 7.6386585 8.289253 8....</td>\n",
       "      <td>1</td>\n",
       "    </tr>\n",
       "    <tr>\n",
       "      <th>267</th>\n",
       "      <td>7.9884944 7.2023726 6.7233753 8.049459 8.09426...</td>\n",
       "      <td>1</td>\n",
       "    </tr>\n",
       "  </tbody>\n",
       "</table>\n",
       "<p>268 rows × 2 columns</p>\n",
       "</div>"
      ],
      "text/plain": [
       "                                               entropy  label\n",
       "0    8.338194 8.302568 8.313569 8.318121 8.034195 8...      0\n",
       "1    8.279738 8.239868 8.173103 8.180133 8.131359 8...      0\n",
       "2    8.442705 8.459726 8.451424 8.45746 8.469121 8....      0\n",
       "3    8.33338 8.355842 8.376957 8.300938 8.3071575 8...      0\n",
       "4    8.304228 8.314566 8.358588 8.370737 8.408796 8...      0\n",
       "..                                                 ...    ...\n",
       "263  8.264909 8.287047 8.269607 8.186451 8.211284 8...      1\n",
       "264  7.8903666 7.9138727 7.47139 7.7778797 8.172076...      1\n",
       "265  4.826669 4.6771564 8.186701 8.0379305 8.176149...      1\n",
       "266  8.423625 8.33579 8.37011 7.6386585 8.289253 8....      1\n",
       "267  7.9884944 7.2023726 6.7233753 8.049459 8.09426...      1\n",
       "\n",
       "[268 rows x 2 columns]"
      ]
     },
     "metadata": {},
     "output_type": "display_data"
    }
   ],
   "source": [
    "#combine_dict={'entropy':new_list,'label':z}\n",
    "combine_dict1={'entropy':new_list,'label':z}\n",
    "df=pd.DataFrame(combine_dict1)\n",
    "\n",
    "display(df)\n",
    "\n",
    "y=df['label'].values"
   ]
  },
  {
   "cell_type": "code",
   "execution_count": 1,
   "metadata": {
    "ExecuteTime": {
     "end_time": "2020-09-14T20:36:45.891221Z",
     "start_time": "2020-09-14T20:36:45.629056Z"
    }
   },
   "outputs": [
    {
     "ename": "NameError",
     "evalue": "name 'df' is not defined",
     "output_type": "error",
     "traceback": [
      "\u001b[1;31m---------------------------------------------------------------------------\u001b[0m",
      "\u001b[1;31mNameError\u001b[0m                                 Traceback (most recent call last)",
      "\u001b[1;32m<ipython-input-1-5f12142be54f>\u001b[0m in \u001b[0;36m<module>\u001b[1;34m\u001b[0m\n\u001b[1;32m----> 1\u001b[1;33m \u001b[0mdata_df\u001b[0m \u001b[1;33m=\u001b[0m \u001b[0mdf\u001b[0m\u001b[1;33m[\u001b[0m\u001b[1;34m'entropy'\u001b[0m\u001b[1;33m]\u001b[0m\u001b[1;33m.\u001b[0m\u001b[0mstr\u001b[0m\u001b[1;33m.\u001b[0m\u001b[0msplit\u001b[0m\u001b[1;33m(\u001b[0m\u001b[1;34m' '\u001b[0m\u001b[1;33m,\u001b[0m \u001b[0mexpand\u001b[0m\u001b[1;33m=\u001b[0m\u001b[1;32mTrue\u001b[0m\u001b[1;33m)\u001b[0m\u001b[1;33m\u001b[0m\u001b[1;33m\u001b[0m\u001b[0m\n\u001b[0m\u001b[0;32m      2\u001b[0m \u001b[1;33m\u001b[0m\u001b[0m\n\u001b[0;32m      3\u001b[0m \u001b[0mdata_df\u001b[0m\u001b[1;33m[\u001b[0m\u001b[1;34m'Class'\u001b[0m\u001b[1;33m]\u001b[0m \u001b[1;33m=\u001b[0m\u001b[0my\u001b[0m\u001b[1;33m\u001b[0m\u001b[1;33m\u001b[0m\u001b[0m\n\u001b[0;32m      4\u001b[0m \u001b[0mdata_df\u001b[0m\u001b[1;33m.\u001b[0m\u001b[0mto_csv\u001b[0m\u001b[1;33m(\u001b[0m\u001b[1;34m'C:/Users/jingy/Jupyter/Crime/Fire/CDI_Based/Entropy/CSV/Optical_Ang.csv'\u001b[0m\u001b[1;33m)\u001b[0m\u001b[1;33m\u001b[0m\u001b[1;33m\u001b[0m\u001b[0m\n\u001b[0;32m      5\u001b[0m \u001b[0mdisplay\u001b[0m\u001b[1;33m(\u001b[0m\u001b[0mdata_df\u001b[0m\u001b[1;33m)\u001b[0m\u001b[1;33m\u001b[0m\u001b[1;33m\u001b[0m\u001b[0m\n",
      "\u001b[1;31mNameError\u001b[0m: name 'df' is not defined"
     ]
    }
   ],
   "source": [
    "data_df = df['entropy'].str.split(' ', expand=True)\n",
    "\n",
    "data_df['Class'] =y\n",
    "data_df.to_csv('C:/Users/jingy/Jupyter/Crime/Fire/CDI_Based/Entropy/CSV/Optical_Ang.csv')\n",
    "display(data_df)"
   ]
  },
  {
   "cell_type": "code",
   "execution_count": null,
   "metadata": {},
   "outputs": [],
   "source": []
  }
 ],
 "metadata": {
  "kernelspec": {
   "display_name": "Python [conda env:crowd] *",
   "language": "python",
   "name": "conda-env-crowd-py"
  },
  "language_info": {
   "codemirror_mode": {
    "name": "ipython",
    "version": 3
   },
   "file_extension": ".py",
   "mimetype": "text/x-python",
   "name": "python",
   "nbconvert_exporter": "python",
   "pygments_lexer": "ipython3",
   "version": "3.8.3"
  },
  "toc": {
   "base_numbering": 1,
   "nav_menu": {},
   "number_sections": true,
   "sideBar": true,
   "skip_h1_title": false,
   "title_cell": "Table of Contents",
   "title_sidebar": "Contents",
   "toc_cell": false,
   "toc_position": {},
   "toc_section_display": true,
   "toc_window_display": false
  }
 },
 "nbformat": 4,
 "nbformat_minor": 4
}

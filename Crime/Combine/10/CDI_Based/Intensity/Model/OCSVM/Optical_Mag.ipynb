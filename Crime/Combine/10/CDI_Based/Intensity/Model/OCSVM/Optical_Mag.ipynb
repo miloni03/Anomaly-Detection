{
 "cells": [
  {
   "cell_type": "code",
   "execution_count": 20,
   "metadata": {
    "ExecuteTime": {
     "end_time": "2020-09-13T22:58:24.454017Z",
     "start_time": "2020-09-13T22:58:24.435064Z"
    }
   },
   "outputs": [],
   "source": [
    "import numpy as np  \n",
    "import matplotlib.pyplot as plt  \n",
    "import matplotlib.font_manager  \n",
    "import pandas as pd\n",
    "from sklearn import svm  \n",
    "from sklearn.model_selection import train_test_split\n",
    "from sklearn.preprocessing import StandardScaler,MinMaxScaler\n",
    "from sklearn import metrics\n",
    "from sklearn.metrics import roc_curve, auc, precision_recall_curve,confusion_matrix,classification_report\n",
    "plt.style.use('seaborn')"
   ]
  },
  {
   "cell_type": "code",
   "execution_count": 21,
   "metadata": {
    "ExecuteTime": {
     "end_time": "2020-09-13T22:58:24.500239Z",
     "start_time": "2020-09-13T22:58:24.456011Z"
    }
   },
   "outputs": [
    {
     "name": "stderr",
     "output_type": "stream",
     "text": [
      "<ipython-input-21-efad93c43644>:2: SettingWithCopyWarning: \n",
      "A value is trying to be set on a copy of a slice from a DataFrame\n",
      "\n",
      "See the caveats in the documentation: https://pandas.pydata.org/pandas-docs/stable/user_guide/indexing.html#returning-a-view-versus-a-copy\n",
      "  d.Class[d['Class']==1] = -1\n",
      "<ipython-input-21-efad93c43644>:3: SettingWithCopyWarning: \n",
      "A value is trying to be set on a copy of a slice from a DataFrame\n",
      "\n",
      "See the caveats in the documentation: https://pandas.pydata.org/pandas-docs/stable/user_guide/indexing.html#returning-a-view-versus-a-copy\n",
      "  d.Class[d['Class'] == 0] = 1\n"
     ]
    },
    {
     "data": {
      "text/html": [
       "<div>\n",
       "<style scoped>\n",
       "    .dataframe tbody tr th:only-of-type {\n",
       "        vertical-align: middle;\n",
       "    }\n",
       "\n",
       "    .dataframe tbody tr th {\n",
       "        vertical-align: top;\n",
       "    }\n",
       "\n",
       "    .dataframe thead th {\n",
       "        text-align: right;\n",
       "    }\n",
       "</style>\n",
       "<table border=\"1\" class=\"dataframe\">\n",
       "  <thead>\n",
       "    <tr style=\"text-align: right;\">\n",
       "      <th></th>\n",
       "      <th>0</th>\n",
       "      <th>1</th>\n",
       "      <th>2</th>\n",
       "      <th>3</th>\n",
       "      <th>4</th>\n",
       "      <th>5</th>\n",
       "      <th>6</th>\n",
       "      <th>7</th>\n",
       "      <th>8</th>\n",
       "      <th>9</th>\n",
       "      <th>...</th>\n",
       "      <th>18</th>\n",
       "      <th>19</th>\n",
       "      <th>20</th>\n",
       "      <th>21</th>\n",
       "      <th>22</th>\n",
       "      <th>23</th>\n",
       "      <th>24</th>\n",
       "      <th>25</th>\n",
       "      <th>26</th>\n",
       "      <th>Class</th>\n",
       "    </tr>\n",
       "  </thead>\n",
       "  <tbody>\n",
       "    <tr>\n",
       "      <th>0</th>\n",
       "      <td>372.92203</td>\n",
       "      <td>362.69130</td>\n",
       "      <td>350.63812</td>\n",
       "      <td>210.87730</td>\n",
       "      <td>214.75081</td>\n",
       "      <td>164.38365</td>\n",
       "      <td>212.35160</td>\n",
       "      <td>251.46540</td>\n",
       "      <td>312.61560</td>\n",
       "      <td>205.60248</td>\n",
       "      <td>...</td>\n",
       "      <td>288.037230</td>\n",
       "      <td>410.070100</td>\n",
       "      <td>441.603550</td>\n",
       "      <td>379.87680</td>\n",
       "      <td>1398.7834</td>\n",
       "      <td>278.7160</td>\n",
       "      <td>301.12616</td>\n",
       "      <td>239.117050</td>\n",
       "      <td>477.266100</td>\n",
       "      <td>1</td>\n",
       "    </tr>\n",
       "    <tr>\n",
       "      <th>1</th>\n",
       "      <td>240.19547</td>\n",
       "      <td>240.12958</td>\n",
       "      <td>256.62112</td>\n",
       "      <td>252.72621</td>\n",
       "      <td>170.48306</td>\n",
       "      <td>281.75586</td>\n",
       "      <td>174.03131</td>\n",
       "      <td>173.71799</td>\n",
       "      <td>255.81352</td>\n",
       "      <td>238.56960</td>\n",
       "      <td>...</td>\n",
       "      <td>435.283140</td>\n",
       "      <td>518.044900</td>\n",
       "      <td>914.143000</td>\n",
       "      <td>449.55862</td>\n",
       "      <td>2467.9111</td>\n",
       "      <td>4137.2305</td>\n",
       "      <td>3146.77100</td>\n",
       "      <td>2503.685000</td>\n",
       "      <td>910.993200</td>\n",
       "      <td>1</td>\n",
       "    </tr>\n",
       "    <tr>\n",
       "      <th>2</th>\n",
       "      <td>1517.87350</td>\n",
       "      <td>1229.62510</td>\n",
       "      <td>1227.23520</td>\n",
       "      <td>1408.06520</td>\n",
       "      <td>1701.61070</td>\n",
       "      <td>1425.35190</td>\n",
       "      <td>1373.96680</td>\n",
       "      <td>1437.91490</td>\n",
       "      <td>1633.49540</td>\n",
       "      <td>1862.82590</td>\n",
       "      <td>...</td>\n",
       "      <td>1676.284000</td>\n",
       "      <td>1532.106100</td>\n",
       "      <td>1503.260300</td>\n",
       "      <td>1570.20980</td>\n",
       "      <td>1742.7628</td>\n",
       "      <td>1926.9270</td>\n",
       "      <td>1565.97330</td>\n",
       "      <td>1381.225200</td>\n",
       "      <td>1356.190700</td>\n",
       "      <td>1</td>\n",
       "    </tr>\n",
       "    <tr>\n",
       "      <th>3</th>\n",
       "      <td>2443.07370</td>\n",
       "      <td>3847.75660</td>\n",
       "      <td>10229.55900</td>\n",
       "      <td>3523.68070</td>\n",
       "      <td>6001.05300</td>\n",
       "      <td>8588.63600</td>\n",
       "      <td>15606.87600</td>\n",
       "      <td>9383.27000</td>\n",
       "      <td>9314.14100</td>\n",
       "      <td>4888.85500</td>\n",
       "      <td>...</td>\n",
       "      <td>2.965529</td>\n",
       "      <td>2.965872</td>\n",
       "      <td>2.965872</td>\n",
       "      <td>1.35458</td>\n",
       "      <td>3908.4420</td>\n",
       "      <td>161.7076</td>\n",
       "      <td>52.62399</td>\n",
       "      <td>2.952988</td>\n",
       "      <td>3.275134</td>\n",
       "      <td>1</td>\n",
       "    </tr>\n",
       "    <tr>\n",
       "      <th>4</th>\n",
       "      <td>9062.74100</td>\n",
       "      <td>11081.28700</td>\n",
       "      <td>10685.92400</td>\n",
       "      <td>8698.27100</td>\n",
       "      <td>5733.89840</td>\n",
       "      <td>8995.76600</td>\n",
       "      <td>8062.09960</td>\n",
       "      <td>9380.41000</td>\n",
       "      <td>5809.62940</td>\n",
       "      <td>5657.07900</td>\n",
       "      <td>...</td>\n",
       "      <td>52994.870000</td>\n",
       "      <td>59666.290000</td>\n",
       "      <td>20668.380000</td>\n",
       "      <td>10549.26400</td>\n",
       "      <td>3290.1765</td>\n",
       "      <td>5431.4650</td>\n",
       "      <td>9030.68750</td>\n",
       "      <td>10763.368000</td>\n",
       "      <td>9192.955000</td>\n",
       "      <td>1</td>\n",
       "    </tr>\n",
       "  </tbody>\n",
       "</table>\n",
       "<p>5 rows × 28 columns</p>\n",
       "</div>"
      ],
      "text/plain": [
       "            0            1            2           3           4           5  \\\n",
       "0   372.92203    362.69130    350.63812   210.87730   214.75081   164.38365   \n",
       "1   240.19547    240.12958    256.62112   252.72621   170.48306   281.75586   \n",
       "2  1517.87350   1229.62510   1227.23520  1408.06520  1701.61070  1425.35190   \n",
       "3  2443.07370   3847.75660  10229.55900  3523.68070  6001.05300  8588.63600   \n",
       "4  9062.74100  11081.28700  10685.92400  8698.27100  5733.89840  8995.76600   \n",
       "\n",
       "             6           7           8           9  ...            18  \\\n",
       "0    212.35160   251.46540   312.61560   205.60248  ...    288.037230   \n",
       "1    174.03131   173.71799   255.81352   238.56960  ...    435.283140   \n",
       "2   1373.96680  1437.91490  1633.49540  1862.82590  ...   1676.284000   \n",
       "3  15606.87600  9383.27000  9314.14100  4888.85500  ...      2.965529   \n",
       "4   8062.09960  9380.41000  5809.62940  5657.07900  ...  52994.870000   \n",
       "\n",
       "             19            20           21         22         23          24  \\\n",
       "0    410.070100    441.603550    379.87680  1398.7834   278.7160   301.12616   \n",
       "1    518.044900    914.143000    449.55862  2467.9111  4137.2305  3146.77100   \n",
       "2   1532.106100   1503.260300   1570.20980  1742.7628  1926.9270  1565.97330   \n",
       "3      2.965872      2.965872      1.35458  3908.4420   161.7076    52.62399   \n",
       "4  59666.290000  20668.380000  10549.26400  3290.1765  5431.4650  9030.68750   \n",
       "\n",
       "             25           26  Class  \n",
       "0    239.117050   477.266100      1  \n",
       "1   2503.685000   910.993200      1  \n",
       "2   1381.225200  1356.190700      1  \n",
       "3      2.952988     3.275134      1  \n",
       "4  10763.368000  9192.955000      1  \n",
       "\n",
       "[5 rows x 28 columns]"
      ]
     },
     "metadata": {},
     "output_type": "display_data"
    }
   ],
   "source": [
    "d = pd.read_csv('C:/Users/jingy/Jupyter/Crime/Fire/CDI_Based/Intensity/CSV/Optical_Mag.csv',index_col=0)\n",
    "d.Class[d['Class']==1] = -1\n",
    "d.Class[d['Class'] == 0] = 1\n",
    "display(d.head())"
   ]
  },
  {
   "cell_type": "code",
   "execution_count": 22,
   "metadata": {
    "ExecuteTime": {
     "end_time": "2020-09-13T22:58:24.532255Z",
     "start_time": "2020-09-13T22:58:24.503243Z"
    }
   },
   "outputs": [],
   "source": [
    "data = d\n",
    "mask = (data['Class'] == 1)\n",
    "\n",
    "X_train, X_test = train_test_split(data[mask], test_size=0.2, random_state=0)\n",
    "X_train = X_train.drop(['Class'], axis=1)\n",
    "X_test = X_test.drop(['Class'], axis=1)\n",
    "X_fraud = data[~mask].drop(['Class'], axis=1)\n",
    "\n",
    "x_test=np.vstack((X_test,X_fraud))\n",
    "y_test=[1]*len(X_test)+[-1]*len(X_fraud)\n",
    "\n",
    "std =StandardScaler()\n",
    "X_train=std.fit_transform(X_train)\n",
    "x_test=std.transform(x_test)\n"
   ]
  },
  {
   "cell_type": "code",
   "execution_count": 23,
   "metadata": {
    "ExecuteTime": {
     "end_time": "2020-09-13T22:58:24.548246Z",
     "start_time": "2020-09-13T22:58:24.534273Z"
    }
   },
   "outputs": [
    {
     "name": "stdout",
     "output_type": "stream",
     "text": [
      "0.8035714285714286\n",
      "              precision    recall  f1-score   support\n",
      "\n",
      "          -1       0.90      0.87      0.88       142\n",
      "           1       0.39      0.46      0.42        26\n",
      "\n",
      "    accuracy                           0.80       168\n",
      "   macro avg       0.64      0.66      0.65       168\n",
      "weighted avg       0.82      0.80      0.81       168\n",
      "\n"
     ]
    }
   ],
   "source": [
    "clf = svm.OneClassSVM(kernel='rbf',nu=0.6)  \n",
    "clf.fit(X_train)  \n",
    "\n",
    "y_pred = clf.predict(x_test)  \n",
    "y_prob = clf.decision_function(x_test)  # the lower, the more normal\n",
    "\n",
    "fpr,tpr,threshold_svc = metrics.roc_curve(y_test,y_prob)     \n",
    "auc_svc = metrics.auc(fpr,tpr)   \n",
    "\n",
    "precision, recall, _ = precision_recall_curve(y_test,y_prob)\n",
    "pr_auc = auc(recall, precision)\n",
    "\n",
    "score_svc = metrics.accuracy_score(y_test,y_pred)\n",
    "\n",
    "print(score_svc)\n",
    "print(classification_report(y_test, y_pred))"
   ]
  },
  {
   "cell_type": "code",
   "execution_count": 24,
   "metadata": {
    "ExecuteTime": {
     "end_time": "2020-09-13T22:58:24.785009Z",
     "start_time": "2020-09-13T22:58:24.550207Z"
    }
   },
   "outputs": [
    {
     "data": {
      "image/png": "[encoded data removed]",
      "text/plain": [
       "<Figure size 1008x432 with 2 Axes>"
      ]
     },
     "metadata": {},
     "output_type": "display_data"
    }
   ],
   "source": [
    "plt.figure(figsize=(14, 6))\n",
    "plt.subplot(121)\n",
    "#plt.figure(figsize=(14, 6))\n",
    "plt.title('Receiver Operating Characteristic \\nAUC = %0.2f'% auc_svc)   \n",
    "plt.plot(fpr, tpr, c='coral', lw=3)\n",
    "plt.plot([0,1],[0,1], c='dodgerblue', ls='--')\n",
    "plt.ylabel('TPR'); plt.xlabel('FPR')\n",
    "\n",
    "plt.subplot(122)\n",
    "plt.title('Precision-Recall curve based on \\nAUC = %0.2f'% pr_auc)\n",
    "plt.plot(recall[:-2], precision[:-2], c='coral', lw=3)\n",
    "plt.xlabel('Recall'); plt.ylabel('Precision')\n",
    "plt.show()"
   ]
  },
  {
   "cell_type": "code",
   "execution_count": null,
   "metadata": {},
   "outputs": [],
   "source": []
  }
 ],
 "metadata": {
  "kernelspec": {
   "display_name": "Python [conda env:crowd] *",
   "language": "python",
   "name": "conda-env-crowd-py"
  },
  "language_info": {
   "codemirror_mode": {
    "name": "ipython",
    "version": 3
   },
   "file_extension": ".py",
   "mimetype": "text/x-python",
   "name": "python",
   "nbconvert_exporter": "python",
   "pygments_lexer": "ipython3",
   "version": "3.8.3"
  },
  "toc": {
   "base_numbering": 1,
   "nav_menu": {},
   "number_sections": true,
   "sideBar": true,
   "skip_h1_title": false,
   "title_cell": "Table of Contents",
   "title_sidebar": "Contents",
   "toc_cell": false,
   "toc_position": {},
   "toc_section_display": true,
   "toc_window_display": false
  }
 },
 "nbformat": 4,
 "nbformat_minor": 4
}

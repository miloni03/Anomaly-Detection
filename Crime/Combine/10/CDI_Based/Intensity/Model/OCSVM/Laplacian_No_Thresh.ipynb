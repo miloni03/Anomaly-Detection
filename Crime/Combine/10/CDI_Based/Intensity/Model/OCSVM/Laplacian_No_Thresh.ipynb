{
 "cells": [
  {
   "cell_type": "code",
   "execution_count": 1,
   "metadata": {
    "ExecuteTime": {
     "end_time": "2020-09-15T17:22:54.166572Z",
     "start_time": "2020-09-15T17:22:52.574216Z"
    }
   },
   "outputs": [],
   "source": [
    "import numpy as np  \n",
    "import matplotlib.pyplot as plt  \n",
    "import matplotlib.font_manager  \n",
    "import pandas as pd\n",
    "from sklearn import svm  \n",
    "from sklearn.model_selection import train_test_split\n",
    "from sklearn.preprocessing import StandardScaler,MinMaxScaler\n",
    "from sklearn import metrics\n",
    "from sklearn.metrics import roc_curve, auc, precision_recall_curve,confusion_matrix,classification_report\n",
    "plt.style.use('seaborn')"
   ]
  },
  {
   "cell_type": "code",
   "execution_count": 2,
   "metadata": {
    "ExecuteTime": {
     "end_time": "2020-09-15T17:22:54.213181Z",
     "start_time": "2020-09-15T17:22:54.168573Z"
    }
   },
   "outputs": [
    {
     "data": {
      "text/html": [
       "<div>\n",
       "<style scoped>\n",
       "    .dataframe tbody tr th:only-of-type {\n",
       "        vertical-align: middle;\n",
       "    }\n",
       "\n",
       "    .dataframe tbody tr th {\n",
       "        vertical-align: top;\n",
       "    }\n",
       "\n",
       "    .dataframe thead th {\n",
       "        text-align: right;\n",
       "    }\n",
       "</style>\n",
       "<table border=\"1\" class=\"dataframe\">\n",
       "  <thead>\n",
       "    <tr style=\"text-align: right;\">\n",
       "      <th></th>\n",
       "      <th>0</th>\n",
       "      <th>1</th>\n",
       "      <th>2</th>\n",
       "      <th>3</th>\n",
       "      <th>4</th>\n",
       "      <th>5</th>\n",
       "      <th>6</th>\n",
       "      <th>7</th>\n",
       "      <th>8</th>\n",
       "      <th>9</th>\n",
       "      <th>...</th>\n",
       "      <th>19</th>\n",
       "      <th>20</th>\n",
       "      <th>21</th>\n",
       "      <th>22</th>\n",
       "      <th>23</th>\n",
       "      <th>24</th>\n",
       "      <th>25</th>\n",
       "      <th>26</th>\n",
       "      <th>27</th>\n",
       "      <th>Class</th>\n",
       "    </tr>\n",
       "  </thead>\n",
       "  <tbody>\n",
       "    <tr>\n",
       "      <th>0</th>\n",
       "      <td>27943</td>\n",
       "      <td>26408</td>\n",
       "      <td>22559</td>\n",
       "      <td>18108</td>\n",
       "      <td>17102</td>\n",
       "      <td>15183</td>\n",
       "      <td>14332</td>\n",
       "      <td>14169</td>\n",
       "      <td>13202</td>\n",
       "      <td>13563</td>\n",
       "      <td>...</td>\n",
       "      <td>22435</td>\n",
       "      <td>26996</td>\n",
       "      <td>36390</td>\n",
       "      <td>39710</td>\n",
       "      <td>33864</td>\n",
       "      <td>21874</td>\n",
       "      <td>20031</td>\n",
       "      <td>22820</td>\n",
       "      <td>26808</td>\n",
       "      <td>1</td>\n",
       "    </tr>\n",
       "    <tr>\n",
       "      <th>1</th>\n",
       "      <td>30312</td>\n",
       "      <td>23451</td>\n",
       "      <td>20106</td>\n",
       "      <td>19234</td>\n",
       "      <td>17926</td>\n",
       "      <td>18400</td>\n",
       "      <td>17148</td>\n",
       "      <td>16130</td>\n",
       "      <td>18957</td>\n",
       "      <td>19160</td>\n",
       "      <td>...</td>\n",
       "      <td>30023</td>\n",
       "      <td>26417</td>\n",
       "      <td>21939</td>\n",
       "      <td>29548</td>\n",
       "      <td>44325</td>\n",
       "      <td>34509</td>\n",
       "      <td>33264</td>\n",
       "      <td>35860</td>\n",
       "      <td>35270</td>\n",
       "      <td>1</td>\n",
       "    </tr>\n",
       "    <tr>\n",
       "      <th>2</th>\n",
       "      <td>77531</td>\n",
       "      <td>66756</td>\n",
       "      <td>59647</td>\n",
       "      <td>64312</td>\n",
       "      <td>61813</td>\n",
       "      <td>62535</td>\n",
       "      <td>60469</td>\n",
       "      <td>61938</td>\n",
       "      <td>60161</td>\n",
       "      <td>62613</td>\n",
       "      <td>...</td>\n",
       "      <td>63943</td>\n",
       "      <td>59684</td>\n",
       "      <td>61812</td>\n",
       "      <td>72820</td>\n",
       "      <td>74703</td>\n",
       "      <td>67797</td>\n",
       "      <td>62966</td>\n",
       "      <td>56331</td>\n",
       "      <td>61825</td>\n",
       "      <td>1</td>\n",
       "    </tr>\n",
       "    <tr>\n",
       "      <th>3</th>\n",
       "      <td>26680</td>\n",
       "      <td>27309</td>\n",
       "      <td>40980</td>\n",
       "      <td>49425</td>\n",
       "      <td>45119</td>\n",
       "      <td>53857</td>\n",
       "      <td>50425</td>\n",
       "      <td>45027</td>\n",
       "      <td>48562</td>\n",
       "      <td>56637</td>\n",
       "      <td>...</td>\n",
       "      <td>122</td>\n",
       "      <td>122</td>\n",
       "      <td>122</td>\n",
       "      <td>52</td>\n",
       "      <td>1167</td>\n",
       "      <td>770</td>\n",
       "      <td>148</td>\n",
       "      <td>169</td>\n",
       "      <td>167</td>\n",
       "      <td>1</td>\n",
       "    </tr>\n",
       "    <tr>\n",
       "      <th>4</th>\n",
       "      <td>56064</td>\n",
       "      <td>45208</td>\n",
       "      <td>39599</td>\n",
       "      <td>36118</td>\n",
       "      <td>44464</td>\n",
       "      <td>50862</td>\n",
       "      <td>47301</td>\n",
       "      <td>52978</td>\n",
       "      <td>45575</td>\n",
       "      <td>44989</td>\n",
       "      <td>...</td>\n",
       "      <td>69179</td>\n",
       "      <td>60453</td>\n",
       "      <td>53143</td>\n",
       "      <td>63653</td>\n",
       "      <td>41747</td>\n",
       "      <td>41075</td>\n",
       "      <td>57767</td>\n",
       "      <td>44265</td>\n",
       "      <td>43208</td>\n",
       "      <td>1</td>\n",
       "    </tr>\n",
       "  </tbody>\n",
       "</table>\n",
       "<p>5 rows × 29 columns</p>\n",
       "</div>"
      ],
      "text/plain": [
       "       0      1      2      3      4      5      6      7      8      9  ...  \\\n",
       "0  27943  26408  22559  18108  17102  15183  14332  14169  13202  13563  ...   \n",
       "1  30312  23451  20106  19234  17926  18400  17148  16130  18957  19160  ...   \n",
       "2  77531  66756  59647  64312  61813  62535  60469  61938  60161  62613  ...   \n",
       "3  26680  27309  40980  49425  45119  53857  50425  45027  48562  56637  ...   \n",
       "4  56064  45208  39599  36118  44464  50862  47301  52978  45575  44989  ...   \n",
       "\n",
       "      19     20     21     22     23     24     25     26     27  Class  \n",
       "0  22435  26996  36390  39710  33864  21874  20031  22820  26808      1  \n",
       "1  30023  26417  21939  29548  44325  34509  33264  35860  35270      1  \n",
       "2  63943  59684  61812  72820  74703  67797  62966  56331  61825      1  \n",
       "3    122    122    122     52   1167    770    148    169    167      1  \n",
       "4  69179  60453  53143  63653  41747  41075  57767  44265  43208      1  \n",
       "\n",
       "[5 rows x 29 columns]"
      ]
     },
     "metadata": {},
     "output_type": "display_data"
    }
   ],
   "source": [
    "d = pd.read_csv('C:/Users/jingy/Jupyter/Crime/Fire/CDI_Based/Intensity/CSV/Laplacian_With_Filter.csv',index_col=0)\n",
    "d.Class[d['Class']==1] = -1\n",
    "d.Class[d['Class'] == 0] = 1\n",
    "display(d.head())"
   ]
  },
  {
   "cell_type": "code",
   "execution_count": 3,
   "metadata": {
    "ExecuteTime": {
     "end_time": "2020-09-15T17:22:54.229100Z",
     "start_time": "2020-09-15T17:22:54.215163Z"
    }
   },
   "outputs": [],
   "source": [
    "data = d\n",
    "mask = (data['Class'] == 1)\n",
    "\n",
    "X_train, X_test = train_test_split(data[mask], test_size=0.2, random_state=2)\n",
    "X_train = X_train.drop(['Class'], axis=1)\n",
    "X_test = X_test.drop(['Class'], axis=1)\n",
    "X_fraud = data[~mask].drop(['Class'], axis=1)\n",
    "\n",
    "x_test=np.vstack((X_test,X_fraud))\n",
    "y_test=[1]*len(X_test)+[-1]*len(X_fraud)\n",
    "\n",
    "std =StandardScaler()\n",
    "X_train=std.fit_transform(X_train)\n",
    "x_test=std.transform(x_test)\n"
   ]
  },
  {
   "cell_type": "code",
   "execution_count": 4,
   "metadata": {
    "ExecuteTime": {
     "end_time": "2020-09-15T17:22:54.260586Z",
     "start_time": "2020-09-15T17:22:54.231094Z"
    }
   },
   "outputs": [
    {
     "name": "stdout",
     "output_type": "stream",
     "text": [
      "0.8452380952380952\n",
      "              precision    recall  f1-score   support\n",
      "\n",
      "          -1       0.91      0.91      0.91       142\n",
      "           1       0.50      0.50      0.50        26\n",
      "\n",
      "    accuracy                           0.85       168\n",
      "   macro avg       0.70      0.70      0.70       168\n",
      "weighted avg       0.85      0.85      0.85       168\n",
      "\n"
     ]
    }
   ],
   "source": [
    "clf = svm.OneClassSVM(kernel='rbf',nu=0.6)  \n",
    "clf.fit(X_train)  \n",
    "\n",
    "y_pred = clf.predict(x_test)  \n",
    "y_prob = clf.decision_function(x_test)  # the lower, the more normal\n",
    "\n",
    "fpr,tpr,threshold_svc = metrics.roc_curve(y_test,y_prob)     \n",
    "auc_svc = metrics.auc(fpr,tpr)   \n",
    "\n",
    "precision, recall, _ = precision_recall_curve(y_test,y_prob)\n",
    "pr_auc = auc(recall, precision)\n",
    "\n",
    "score_svc = metrics.accuracy_score(y_test,y_pred)\n",
    "\n",
    "print(score_svc)\n",
    "print(classification_report(y_test, y_pred))"
   ]
  },
  {
   "cell_type": "code",
   "execution_count": 5,
   "metadata": {
    "ExecuteTime": {
     "end_time": "2020-09-15T17:22:54.495279Z",
     "start_time": "2020-09-15T17:22:54.262617Z"
    }
   },
   "outputs": [
    {
     "data": {
      "image/png": "[encoded data removed]",
      "text/plain": [
       "<Figure size 1008x432 with 2 Axes>"
      ]
     },
     "metadata": {},
     "output_type": "display_data"
    }
   ],
   "source": [
    "plt.figure(figsize=(14, 6))\n",
    "plt.subplot(121)\n",
    "#plt.figure(figsize=(14, 6))\n",
    "plt.title('Receiver Operating Characteristic \\nAUC = %0.2f'% auc_svc)   \n",
    "plt.plot(fpr, tpr, c='coral', lw=3)\n",
    "plt.plot([0,1],[0,1], c='dodgerblue', ls='--')\n",
    "plt.ylabel('TPR'); plt.xlabel('FPR')\n",
    "\n",
    "plt.subplot(122)\n",
    "plt.title('Precision-Recall curve based on \\nAUC = %0.2f'% pr_auc)\n",
    "plt.plot(recall[:-2], precision[:-2], c='coral', lw=3)\n",
    "plt.xlabel('Recall'); plt.ylabel('Precision')\n",
    "plt.show()"
   ]
  },
  {
   "cell_type": "code",
   "execution_count": null,
   "metadata": {},
   "outputs": [],
   "source": []
  }
 ],
 "metadata": {
  "kernelspec": {
   "display_name": "Python [conda env:crowd] *",
   "language": "python",
   "name": "conda-env-crowd-py"
  },
  "language_info": {
   "codemirror_mode": {
    "name": "ipython",
    "version": 3
   },
   "file_extension": ".py",
   "mimetype": "text/x-python",
   "name": "python",
   "nbconvert_exporter": "python",
   "pygments_lexer": "ipython3",
   "version": "3.8.3"
  },
  "toc": {
   "base_numbering": 1,
   "nav_menu": {},
   "number_sections": true,
   "sideBar": true,
   "skip_h1_title": false,
   "title_cell": "Table of Contents",
   "title_sidebar": "Contents",
   "toc_cell": false,
   "toc_position": {},
   "toc_section_display": true,
   "toc_window_display": false
  }
 },
 "nbformat": 4,
 "nbformat_minor": 4
}

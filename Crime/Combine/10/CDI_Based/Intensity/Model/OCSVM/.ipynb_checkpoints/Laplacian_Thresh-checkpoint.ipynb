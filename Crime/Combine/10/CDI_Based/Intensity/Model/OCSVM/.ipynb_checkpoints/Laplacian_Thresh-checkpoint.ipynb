{
 "cells": [
  {
   "cell_type": "code",
   "execution_count": 1,
   "metadata": {
    "ExecuteTime": {
     "end_time": "2020-09-15T17:23:28.031406Z",
     "start_time": "2020-09-15T17:23:26.503485Z"
    }
   },
   "outputs": [],
   "source": [
    "import numpy as np  \n",
    "import matplotlib.pyplot as plt  \n",
    "import matplotlib.font_manager  \n",
    "import pandas as pd\n",
    "from sklearn import svm  \n",
    "from sklearn.model_selection import train_test_split\n",
    "from sklearn.preprocessing import StandardScaler,MinMaxScaler\n",
    "from sklearn import metrics\n",
    "from sklearn.metrics import roc_curve, auc, precision_recall_curve,confusion_matrix,classification_report\n",
    "plt.style.use('seaborn')"
   ]
  },
  {
   "cell_type": "code",
   "execution_count": 2,
   "metadata": {
    "ExecuteTime": {
     "end_time": "2020-09-15T17:23:28.079312Z",
     "start_time": "2020-09-15T17:23:28.032408Z"
    }
   },
   "outputs": [
    {
     "data": {
      "text/html": [
       "<div>\n",
       "<style scoped>\n",
       "    .dataframe tbody tr th:only-of-type {\n",
       "        vertical-align: middle;\n",
       "    }\n",
       "\n",
       "    .dataframe tbody tr th {\n",
       "        vertical-align: top;\n",
       "    }\n",
       "\n",
       "    .dataframe thead th {\n",
       "        text-align: right;\n",
       "    }\n",
       "</style>\n",
       "<table border=\"1\" class=\"dataframe\">\n",
       "  <thead>\n",
       "    <tr style=\"text-align: right;\">\n",
       "      <th></th>\n",
       "      <th>0</th>\n",
       "      <th>1</th>\n",
       "      <th>2</th>\n",
       "      <th>3</th>\n",
       "      <th>4</th>\n",
       "      <th>5</th>\n",
       "      <th>6</th>\n",
       "      <th>7</th>\n",
       "      <th>8</th>\n",
       "      <th>9</th>\n",
       "      <th>...</th>\n",
       "      <th>19</th>\n",
       "      <th>20</th>\n",
       "      <th>21</th>\n",
       "      <th>22</th>\n",
       "      <th>23</th>\n",
       "      <th>24</th>\n",
       "      <th>25</th>\n",
       "      <th>26</th>\n",
       "      <th>27</th>\n",
       "      <th>Class</th>\n",
       "    </tr>\n",
       "  </thead>\n",
       "  <tbody>\n",
       "    <tr>\n",
       "      <th>0</th>\n",
       "      <td>3280575</td>\n",
       "      <td>3144915</td>\n",
       "      <td>2707590</td>\n",
       "      <td>2301885</td>\n",
       "      <td>2106045</td>\n",
       "      <td>1891590</td>\n",
       "      <td>1785510</td>\n",
       "      <td>1748280</td>\n",
       "      <td>1665150</td>\n",
       "      <td>1575900</td>\n",
       "      <td>...</td>\n",
       "      <td>2458200</td>\n",
       "      <td>2527815</td>\n",
       "      <td>2621655</td>\n",
       "      <td>3295875</td>\n",
       "      <td>2804745</td>\n",
       "      <td>1945140</td>\n",
       "      <td>1633275</td>\n",
       "      <td>1953555</td>\n",
       "      <td>2412555</td>\n",
       "      <td>1</td>\n",
       "    </tr>\n",
       "    <tr>\n",
       "      <th>1</th>\n",
       "      <td>3219120</td>\n",
       "      <td>2592585</td>\n",
       "      <td>2254200</td>\n",
       "      <td>2160870</td>\n",
       "      <td>2123895</td>\n",
       "      <td>2123895</td>\n",
       "      <td>1980075</td>\n",
       "      <td>1828605</td>\n",
       "      <td>2140215</td>\n",
       "      <td>2262105</td>\n",
       "      <td>...</td>\n",
       "      <td>2994465</td>\n",
       "      <td>2716005</td>\n",
       "      <td>2276385</td>\n",
       "      <td>2793780</td>\n",
       "      <td>3319845</td>\n",
       "      <td>2435760</td>\n",
       "      <td>2159850</td>\n",
       "      <td>2058615</td>\n",
       "      <td>2010930</td>\n",
       "      <td>1</td>\n",
       "    </tr>\n",
       "    <tr>\n",
       "      <th>2</th>\n",
       "      <td>4644825</td>\n",
       "      <td>4378605</td>\n",
       "      <td>4139925</td>\n",
       "      <td>4280175</td>\n",
       "      <td>4444650</td>\n",
       "      <td>4151655</td>\n",
       "      <td>4120545</td>\n",
       "      <td>4174860</td>\n",
       "      <td>4174095</td>\n",
       "      <td>4527270</td>\n",
       "      <td>...</td>\n",
       "      <td>4463265</td>\n",
       "      <td>4516305</td>\n",
       "      <td>4677465</td>\n",
       "      <td>4939605</td>\n",
       "      <td>4854690</td>\n",
       "      <td>4520385</td>\n",
       "      <td>4433685</td>\n",
       "      <td>4458165</td>\n",
       "      <td>4575975</td>\n",
       "      <td>1</td>\n",
       "    </tr>\n",
       "    <tr>\n",
       "      <th>3</th>\n",
       "      <td>2279445</td>\n",
       "      <td>2429640</td>\n",
       "      <td>2699175</td>\n",
       "      <td>2993955</td>\n",
       "      <td>2389605</td>\n",
       "      <td>2426325</td>\n",
       "      <td>2762925</td>\n",
       "      <td>2395215</td>\n",
       "      <td>2418675</td>\n",
       "      <td>2890935</td>\n",
       "      <td>...</td>\n",
       "      <td>17085</td>\n",
       "      <td>17085</td>\n",
       "      <td>17085</td>\n",
       "      <td>11985</td>\n",
       "      <td>241230</td>\n",
       "      <td>128265</td>\n",
       "      <td>22440</td>\n",
       "      <td>23460</td>\n",
       "      <td>24225</td>\n",
       "      <td>1</td>\n",
       "    </tr>\n",
       "    <tr>\n",
       "      <th>4</th>\n",
       "      <td>4416855</td>\n",
       "      <td>3629925</td>\n",
       "      <td>2853705</td>\n",
       "      <td>2403885</td>\n",
       "      <td>3245640</td>\n",
       "      <td>3746970</td>\n",
       "      <td>3165315</td>\n",
       "      <td>4081275</td>\n",
       "      <td>4250850</td>\n",
       "      <td>4007580</td>\n",
       "      <td>...</td>\n",
       "      <td>5141565</td>\n",
       "      <td>4381665</td>\n",
       "      <td>4389315</td>\n",
       "      <td>5556705</td>\n",
       "      <td>2964630</td>\n",
       "      <td>2942700</td>\n",
       "      <td>4444395</td>\n",
       "      <td>2815200</td>\n",
       "      <td>2188920</td>\n",
       "      <td>1</td>\n",
       "    </tr>\n",
       "  </tbody>\n",
       "</table>\n",
       "<p>5 rows × 29 columns</p>\n",
       "</div>"
      ],
      "text/plain": [
       "         0        1        2        3        4        5        6        7  \\\n",
       "0  3280575  3144915  2707590  2301885  2106045  1891590  1785510  1748280   \n",
       "1  3219120  2592585  2254200  2160870  2123895  2123895  1980075  1828605   \n",
       "2  4644825  4378605  4139925  4280175  4444650  4151655  4120545  4174860   \n",
       "3  2279445  2429640  2699175  2993955  2389605  2426325  2762925  2395215   \n",
       "4  4416855  3629925  2853705  2403885  3245640  3746970  3165315  4081275   \n",
       "\n",
       "         8        9  ...       19       20       21       22       23  \\\n",
       "0  1665150  1575900  ...  2458200  2527815  2621655  3295875  2804745   \n",
       "1  2140215  2262105  ...  2994465  2716005  2276385  2793780  3319845   \n",
       "2  4174095  4527270  ...  4463265  4516305  4677465  4939605  4854690   \n",
       "3  2418675  2890935  ...    17085    17085    17085    11985   241230   \n",
       "4  4250850  4007580  ...  5141565  4381665  4389315  5556705  2964630   \n",
       "\n",
       "        24       25       26       27  Class  \n",
       "0  1945140  1633275  1953555  2412555      1  \n",
       "1  2435760  2159850  2058615  2010930      1  \n",
       "2  4520385  4433685  4458165  4575975      1  \n",
       "3   128265    22440    23460    24225      1  \n",
       "4  2942700  4444395  2815200  2188920      1  \n",
       "\n",
       "[5 rows x 29 columns]"
      ]
     },
     "metadata": {},
     "output_type": "display_data"
    }
   ],
   "source": [
    "d = pd.read_csv('C:/Users/jingy/Jupyter/Crime/Fire/CDI_Based/Intensity/CSV/Laplacian_No_Filter.csv',index_col=0)\n",
    "d.Class[d['Class']==1] = -1\n",
    "d.Class[d['Class'] == 0] = 1\n",
    "display(d.head())"
   ]
  },
  {
   "cell_type": "code",
   "execution_count": 3,
   "metadata": {
    "ExecuteTime": {
     "end_time": "2020-09-15T17:23:28.095240Z",
     "start_time": "2020-09-15T17:23:28.081275Z"
    }
   },
   "outputs": [],
   "source": [
    "data = d\n",
    "mask = (data['Class'] == 1)\n",
    "\n",
    "X_train, X_test = train_test_split(data[mask], test_size=0.2, random_state=2)\n",
    "X_train = X_train.drop(['Class'], axis=1)\n",
    "X_test = X_test.drop(['Class'], axis=1)\n",
    "X_fraud = data[~mask].drop(['Class'], axis=1)\n",
    "\n",
    "x_test=np.vstack((X_test,X_fraud))\n",
    "y_test=[1]*len(X_test)+[-1]*len(X_fraud)\n",
    "\n",
    "std =StandardScaler()\n",
    "X_train=std.fit_transform(X_train)\n",
    "x_test=std.transform(x_test)\n"
   ]
  },
  {
   "cell_type": "code",
   "execution_count": 4,
   "metadata": {
    "ExecuteTime": {
     "end_time": "2020-09-15T17:23:28.125217Z",
     "start_time": "2020-09-15T17:23:28.098231Z"
    }
   },
   "outputs": [
    {
     "name": "stdout",
     "output_type": "stream",
     "text": [
      "0.8630952380952381\n",
      "              precision    recall  f1-score   support\n",
      "\n",
      "          -1       0.90      0.94      0.92       142\n",
      "           1       0.57      0.46      0.51        26\n",
      "\n",
      "    accuracy                           0.86       168\n",
      "   macro avg       0.74      0.70      0.72       168\n",
      "weighted avg       0.85      0.86      0.86       168\n",
      "\n"
     ]
    }
   ],
   "source": [
    "clf = svm.OneClassSVM(kernel='rbf',nu=0.6)  \n",
    "clf.fit(X_train)  \n",
    "\n",
    "y_pred = clf.predict(x_test)  \n",
    "y_prob = clf.decision_function(x_test)  # the lower, the more normal\n",
    "\n",
    "fpr,tpr,threshold_svc = metrics.roc_curve(y_test,y_prob)     \n",
    "auc_svc = metrics.auc(fpr,tpr)   \n",
    "\n",
    "precision, recall, _ = precision_recall_curve(y_test,y_prob)\n",
    "pr_auc = auc(recall, precision)\n",
    "\n",
    "score_svc = metrics.accuracy_score(y_test,y_pred)\n",
    "\n",
    "print(score_svc)\n",
    "print(classification_report(y_test, y_pred))"
   ]
  },
  {
   "cell_type": "code",
   "execution_count": 5,
   "metadata": {
    "ExecuteTime": {
     "end_time": "2020-09-15T17:23:28.394460Z",
     "start_time": "2020-09-15T17:23:28.127178Z"
    }
   },
   "outputs": [
    {
     "data": {
      "image/png": "[encoded data removed]",
      "text/plain": [
       "<Figure size 1008x432 with 2 Axes>"
      ]
     },
     "metadata": {},
     "output_type": "display_data"
    }
   ],
   "source": [
    "plt.figure(figsize=(14, 6))\n",
    "plt.subplot(121)\n",
    "#plt.figure(figsize=(14, 6))\n",
    "plt.title('Receiver Operating Characteristic \\nAUC = %0.2f'% auc_svc)   \n",
    "plt.plot(fpr, tpr, c='coral', lw=3)\n",
    "plt.plot([0,1],[0,1], c='dodgerblue', ls='--')\n",
    "plt.ylabel('TPR'); plt.xlabel('FPR')\n",
    "\n",
    "plt.subplot(122)\n",
    "plt.title('Precision-Recall curve based on \\nAUC = %0.2f'% pr_auc)\n",
    "plt.plot(recall[:-2], precision[:-2], c='coral', lw=3)\n",
    "plt.xlabel('Recall'); plt.ylabel('Precision')\n",
    "plt.show()"
   ]
  },
  {
   "cell_type": "code",
   "execution_count": null,
   "metadata": {},
   "outputs": [],
   "source": []
  }
 ],
 "metadata": {
  "kernelspec": {
   "display_name": "Python [conda env:crowd] *",
   "language": "python",
   "name": "conda-env-crowd-py"
  },
  "language_info": {
   "codemirror_mode": {
    "name": "ipython",
    "version": 3
   },
   "file_extension": ".py",
   "mimetype": "text/x-python",
   "name": "python",
   "nbconvert_exporter": "python",
   "pygments_lexer": "ipython3",
   "version": "3.8.3"
  },
  "toc": {
   "base_numbering": 1,
   "nav_menu": {},
   "number_sections": true,
   "sideBar": true,
   "skip_h1_title": false,
   "title_cell": "Table of Contents",
   "title_sidebar": "Contents",
   "toc_cell": false,
   "toc_position": {},
   "toc_section_display": true,
   "toc_window_display": false
  }
 },
 "nbformat": 4,
 "nbformat_minor": 4
}

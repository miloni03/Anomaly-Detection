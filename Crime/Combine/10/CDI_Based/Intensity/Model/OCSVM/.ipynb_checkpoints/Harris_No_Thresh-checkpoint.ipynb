{
 "cells": [
  {
   "cell_type": "code",
   "execution_count": 1,
   "metadata": {
    "ExecuteTime": {
     "end_time": "2020-09-15T17:22:59.211301Z",
     "start_time": "2020-09-15T17:22:57.685324Z"
    }
   },
   "outputs": [],
   "source": [
    "import numpy as np  \n",
    "import matplotlib.pyplot as plt  \n",
    "import matplotlib.font_manager  \n",
    "import pandas as pd\n",
    "from sklearn import svm  \n",
    "from sklearn.model_selection import train_test_split\n",
    "from sklearn.preprocessing import StandardScaler,MinMaxScaler\n",
    "from sklearn import metrics\n",
    "from sklearn.metrics import roc_curve, auc, precision_recall_curve,confusion_matrix,classification_report\n",
    "plt.style.use('seaborn')"
   ]
  },
  {
   "cell_type": "code",
   "execution_count": 2,
   "metadata": {
    "ExecuteTime": {
     "end_time": "2020-09-15T17:22:59.257213Z",
     "start_time": "2020-09-15T17:22:59.212297Z"
    }
   },
   "outputs": [
    {
     "name": "stderr",
     "output_type": "stream",
     "text": [
      "<ipython-input-2-6292639a29f0>:2: SettingWithCopyWarning: \n",
      "A value is trying to be set on a copy of a slice from a DataFrame\n",
      "\n",
      "See the caveats in the documentation: https://pandas.pydata.org/pandas-docs/stable/user_guide/indexing.html#returning-a-view-versus-a-copy\n",
      "  d.Class[d['Class']==1] = -1\n",
      "<ipython-input-2-6292639a29f0>:3: SettingWithCopyWarning: \n",
      "A value is trying to be set on a copy of a slice from a DataFrame\n",
      "\n",
      "See the caveats in the documentation: https://pandas.pydata.org/pandas-docs/stable/user_guide/indexing.html#returning-a-view-versus-a-copy\n",
      "  d.Class[d['Class'] == 0] = 1\n"
     ]
    },
    {
     "data": {
      "text/html": [
       "<div>\n",
       "<style scoped>\n",
       "    .dataframe tbody tr th:only-of-type {\n",
       "        vertical-align: middle;\n",
       "    }\n",
       "\n",
       "    .dataframe tbody tr th {\n",
       "        vertical-align: top;\n",
       "    }\n",
       "\n",
       "    .dataframe thead th {\n",
       "        text-align: right;\n",
       "    }\n",
       "</style>\n",
       "<table border=\"1\" class=\"dataframe\">\n",
       "  <thead>\n",
       "    <tr style=\"text-align: right;\">\n",
       "      <th></th>\n",
       "      <th>0</th>\n",
       "      <th>1</th>\n",
       "      <th>2</th>\n",
       "      <th>3</th>\n",
       "      <th>4</th>\n",
       "      <th>5</th>\n",
       "      <th>6</th>\n",
       "      <th>7</th>\n",
       "      <th>8</th>\n",
       "      <th>9</th>\n",
       "      <th>...</th>\n",
       "      <th>19</th>\n",
       "      <th>20</th>\n",
       "      <th>21</th>\n",
       "      <th>22</th>\n",
       "      <th>23</th>\n",
       "      <th>24</th>\n",
       "      <th>25</th>\n",
       "      <th>26</th>\n",
       "      <th>27</th>\n",
       "      <th>Class</th>\n",
       "    </tr>\n",
       "  </thead>\n",
       "  <tbody>\n",
       "    <tr>\n",
       "      <th>0</th>\n",
       "      <td>0.101321</td>\n",
       "      <td>0.110347</td>\n",
       "      <td>0.071942</td>\n",
       "      <td>0.053114</td>\n",
       "      <td>0.047897</td>\n",
       "      <td>0.037839</td>\n",
       "      <td>0.042147</td>\n",
       "      <td>0.050807</td>\n",
       "      <td>0.047241</td>\n",
       "      <td>0.037713</td>\n",
       "      <td>...</td>\n",
       "      <td>9.324620e-02</td>\n",
       "      <td>4.238039e-01</td>\n",
       "      <td>6.715062e-01</td>\n",
       "      <td>8.073835e-01</td>\n",
       "      <td>0.597005</td>\n",
       "      <td>0.565447</td>\n",
       "      <td>0.647675</td>\n",
       "      <td>0.605962</td>\n",
       "      <td>0.527477</td>\n",
       "      <td>1</td>\n",
       "    </tr>\n",
       "    <tr>\n",
       "      <th>1</th>\n",
       "      <td>0.082086</td>\n",
       "      <td>0.063147</td>\n",
       "      <td>0.053802</td>\n",
       "      <td>0.049155</td>\n",
       "      <td>0.042264</td>\n",
       "      <td>0.045599</td>\n",
       "      <td>0.043198</td>\n",
       "      <td>0.039562</td>\n",
       "      <td>0.045843</td>\n",
       "      <td>0.054200</td>\n",
       "      <td>...</td>\n",
       "      <td>6.872211e-02</td>\n",
       "      <td>8.946283e-02</td>\n",
       "      <td>7.479922e-02</td>\n",
       "      <td>1.470863e-01</td>\n",
       "      <td>0.267091</td>\n",
       "      <td>0.285883</td>\n",
       "      <td>0.474876</td>\n",
       "      <td>0.666487</td>\n",
       "      <td>0.652925</td>\n",
       "      <td>1</td>\n",
       "    </tr>\n",
       "    <tr>\n",
       "      <th>2</th>\n",
       "      <td>1.088237</td>\n",
       "      <td>1.001196</td>\n",
       "      <td>0.871096</td>\n",
       "      <td>0.990780</td>\n",
       "      <td>0.939830</td>\n",
       "      <td>1.030811</td>\n",
       "      <td>0.943067</td>\n",
       "      <td>0.965316</td>\n",
       "      <td>0.891869</td>\n",
       "      <td>0.944755</td>\n",
       "      <td>...</td>\n",
       "      <td>9.250057e-01</td>\n",
       "      <td>8.351225e-01</td>\n",
       "      <td>8.863499e-01</td>\n",
       "      <td>1.029625e+00</td>\n",
       "      <td>1.027946</td>\n",
       "      <td>1.048981</td>\n",
       "      <td>0.901381</td>\n",
       "      <td>0.805016</td>\n",
       "      <td>0.945826</td>\n",
       "      <td>1</td>\n",
       "    </tr>\n",
       "    <tr>\n",
       "      <th>3</th>\n",
       "      <td>0.325038</td>\n",
       "      <td>0.304611</td>\n",
       "      <td>0.497250</td>\n",
       "      <td>0.616357</td>\n",
       "      <td>0.630908</td>\n",
       "      <td>0.831943</td>\n",
       "      <td>0.754949</td>\n",
       "      <td>0.721061</td>\n",
       "      <td>0.748124</td>\n",
       "      <td>0.778347</td>\n",
       "      <td>...</td>\n",
       "      <td>5.489108e-07</td>\n",
       "      <td>5.489108e-07</td>\n",
       "      <td>5.489108e-07</td>\n",
       "      <td>3.157715e-07</td>\n",
       "      <td>0.000164</td>\n",
       "      <td>0.000021</td>\n",
       "      <td>0.000010</td>\n",
       "      <td>0.000013</td>\n",
       "      <td>0.000014</td>\n",
       "      <td>1</td>\n",
       "    </tr>\n",
       "    <tr>\n",
       "      <th>4</th>\n",
       "      <td>0.199159</td>\n",
       "      <td>0.161790</td>\n",
       "      <td>0.172368</td>\n",
       "      <td>0.154511</td>\n",
       "      <td>0.198397</td>\n",
       "      <td>0.206563</td>\n",
       "      <td>0.201920</td>\n",
       "      <td>0.240476</td>\n",
       "      <td>0.282160</td>\n",
       "      <td>0.319041</td>\n",
       "      <td>...</td>\n",
       "      <td>4.163499e-01</td>\n",
       "      <td>3.076646e-01</td>\n",
       "      <td>2.320714e-01</td>\n",
       "      <td>2.482435e-01</td>\n",
       "      <td>0.242113</td>\n",
       "      <td>0.261411</td>\n",
       "      <td>0.285510</td>\n",
       "      <td>0.261292</td>\n",
       "      <td>0.275191</td>\n",
       "      <td>1</td>\n",
       "    </tr>\n",
       "  </tbody>\n",
       "</table>\n",
       "<p>5 rows × 29 columns</p>\n",
       "</div>"
      ],
      "text/plain": [
       "          0         1         2         3         4         5         6  \\\n",
       "0  0.101321  0.110347  0.071942  0.053114  0.047897  0.037839  0.042147   \n",
       "1  0.082086  0.063147  0.053802  0.049155  0.042264  0.045599  0.043198   \n",
       "2  1.088237  1.001196  0.871096  0.990780  0.939830  1.030811  0.943067   \n",
       "3  0.325038  0.304611  0.497250  0.616357  0.630908  0.831943  0.754949   \n",
       "4  0.199159  0.161790  0.172368  0.154511  0.198397  0.206563  0.201920   \n",
       "\n",
       "          7         8         9  ...            19            20  \\\n",
       "0  0.050807  0.047241  0.037713  ...  9.324620e-02  4.238039e-01   \n",
       "1  0.039562  0.045843  0.054200  ...  6.872211e-02  8.946283e-02   \n",
       "2  0.965316  0.891869  0.944755  ...  9.250057e-01  8.351225e-01   \n",
       "3  0.721061  0.748124  0.778347  ...  5.489108e-07  5.489108e-07   \n",
       "4  0.240476  0.282160  0.319041  ...  4.163499e-01  3.076646e-01   \n",
       "\n",
       "             21            22        23        24        25        26  \\\n",
       "0  6.715062e-01  8.073835e-01  0.597005  0.565447  0.647675  0.605962   \n",
       "1  7.479922e-02  1.470863e-01  0.267091  0.285883  0.474876  0.666487   \n",
       "2  8.863499e-01  1.029625e+00  1.027946  1.048981  0.901381  0.805016   \n",
       "3  5.489108e-07  3.157715e-07  0.000164  0.000021  0.000010  0.000013   \n",
       "4  2.320714e-01  2.482435e-01  0.242113  0.261411  0.285510  0.261292   \n",
       "\n",
       "         27  Class  \n",
       "0  0.527477      1  \n",
       "1  0.652925      1  \n",
       "2  0.945826      1  \n",
       "3  0.000014      1  \n",
       "4  0.275191      1  \n",
       "\n",
       "[5 rows x 29 columns]"
      ]
     },
     "metadata": {},
     "output_type": "display_data"
    }
   ],
   "source": [
    "d = pd.read_csv('C:/Users/jingy/Jupyter/Crime/Fire/CDI_Based/Intensity/CSV/Harris_With_Filter.csv',index_col=0)\n",
    "d.Class[d['Class']==1] = -1\n",
    "d.Class[d['Class'] == 0] = 1\n",
    "display(d.head())"
   ]
  },
  {
   "cell_type": "code",
   "execution_count": 3,
   "metadata": {
    "ExecuteTime": {
     "end_time": "2020-09-15T17:22:59.273134Z",
     "start_time": "2020-09-15T17:22:59.259206Z"
    }
   },
   "outputs": [],
   "source": [
    "data = d\n",
    "mask = (data['Class'] == 1)\n",
    "\n",
    "X_train, X_test = train_test_split(data[mask], test_size=0.2, random_state=0)\n",
    "X_train = X_train.drop(['Class'], axis=1)\n",
    "X_test = X_test.drop(['Class'], axis=1)\n",
    "X_fraud = data[~mask].drop(['Class'], axis=1)\n",
    "\n",
    "x_test=np.vstack((X_test,X_fraud))\n",
    "y_test=[1]*len(X_test)+[-1]*len(X_fraud)\n",
    "\n",
    "std =StandardScaler()\n",
    "X_train=std.fit_transform(X_train)\n",
    "x_test=std.transform(x_test)\n"
   ]
  },
  {
   "cell_type": "code",
   "execution_count": 4,
   "metadata": {
    "ExecuteTime": {
     "end_time": "2020-09-15T17:22:59.305084Z",
     "start_time": "2020-09-15T17:22:59.275129Z"
    }
   },
   "outputs": [
    {
     "name": "stdout",
     "output_type": "stream",
     "text": [
      "0.7261904761904762\n",
      "              precision    recall  f1-score   support\n",
      "\n",
      "          -1       0.88      0.79      0.83       142\n",
      "           1       0.25      0.38      0.30        26\n",
      "\n",
      "    accuracy                           0.73       168\n",
      "   macro avg       0.56      0.59      0.57       168\n",
      "weighted avg       0.78      0.73      0.75       168\n",
      "\n"
     ]
    }
   ],
   "source": [
    "clf = svm.OneClassSVM(kernel='rbf',nu=0.6)  \n",
    "clf.fit(X_train)  \n",
    "\n",
    "y_pred = clf.predict(x_test)  \n",
    "y_prob = clf.decision_function(x_test)  # the lower, the more normal\n",
    "\n",
    "fpr,tpr,threshold_svc = metrics.roc_curve(y_test,y_prob)     \n",
    "auc_svc = metrics.auc(fpr,tpr)   \n",
    "\n",
    "precision, recall, _ = precision_recall_curve(y_test,y_prob)\n",
    "pr_auc = auc(recall, precision)\n",
    "\n",
    "score_svc = metrics.accuracy_score(y_test,y_pred)\n",
    "\n",
    "print(score_svc)\n",
    "print(classification_report(y_test, y_pred))"
   ]
  },
  {
   "cell_type": "code",
   "execution_count": 5,
   "metadata": {
    "ExecuteTime": {
     "end_time": "2020-09-15T17:22:59.569894Z",
     "start_time": "2020-09-15T17:22:59.308064Z"
    }
   },
   "outputs": [
    {
     "data": {
      "image/png": "[encoded data removed]",
      "text/plain": [
       "<Figure size 1008x432 with 2 Axes>"
      ]
     },
     "metadata": {},
     "output_type": "display_data"
    }
   ],
   "source": [
    "plt.figure(figsize=(14, 6))\n",
    "plt.subplot(121)\n",
    "#plt.figure(figsize=(14, 6))\n",
    "plt.title('Receiver Operating Characteristic \\nAUC = %0.2f'% auc_svc)   \n",
    "plt.plot(fpr, tpr, c='coral', lw=3)\n",
    "plt.plot([0,1],[0,1], c='dodgerblue', ls='--')\n",
    "plt.ylabel('TPR'); plt.xlabel('FPR')\n",
    "\n",
    "plt.subplot(122)\n",
    "plt.title('Precision-Recall curve based on \\nAUC = %0.2f'% pr_auc)\n",
    "plt.plot(recall[:-2], precision[:-2], c='coral', lw=3)\n",
    "plt.xlabel('Recall'); plt.ylabel('Precision')\n",
    "plt.show()"
   ]
  },
  {
   "cell_type": "code",
   "execution_count": null,
   "metadata": {},
   "outputs": [],
   "source": []
  }
 ],
 "metadata": {
  "kernelspec": {
   "display_name": "Python [conda env:crowd] *",
   "language": "python",
   "name": "conda-env-crowd-py"
  },
  "language_info": {
   "codemirror_mode": {
    "name": "ipython",
    "version": 3
   },
   "file_extension": ".py",
   "mimetype": "text/x-python",
   "name": "python",
   "nbconvert_exporter": "python",
   "pygments_lexer": "ipython3",
   "version": "3.8.3"
  },
  "toc": {
   "base_numbering": 1,
   "nav_menu": {},
   "number_sections": true,
   "sideBar": true,
   "skip_h1_title": false,
   "title_cell": "Table of Contents",
   "title_sidebar": "Contents",
   "toc_cell": false,
   "toc_position": {},
   "toc_section_display": true,
   "toc_window_display": false
  }
 },
 "nbformat": 4,
 "nbformat_minor": 4
}

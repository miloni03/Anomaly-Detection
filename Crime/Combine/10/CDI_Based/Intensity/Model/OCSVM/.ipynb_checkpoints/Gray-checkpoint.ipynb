{
 "cells": [
  {
   "cell_type": "code",
   "execution_count": 22,
   "metadata": {
    "ExecuteTime": {
     "end_time": "2020-09-13T23:47:22.851860Z",
     "start_time": "2020-09-13T23:47:22.802744Z"
    }
   },
   "outputs": [],
   "source": [
    "import numpy as np  \n",
    "import matplotlib.pyplot as plt  \n",
    "import matplotlib.font_manager  \n",
    "import pandas as pd\n",
    "from sklearn import svm  \n",
    "from sklearn.model_selection import train_test_split\n",
    "from sklearn.preprocessing import StandardScaler,MinMaxScaler\n",
    "from sklearn import metrics\n",
    "from sklearn.metrics import roc_curve, auc, precision_recall_curve,confusion_matrix,classification_report\n",
    "plt.style.use('seaborn')"
   ]
  },
  {
   "cell_type": "code",
   "execution_count": 23,
   "metadata": {
    "ExecuteTime": {
     "end_time": "2020-09-13T23:47:22.962327Z",
     "start_time": "2020-09-13T23:47:22.853823Z"
    }
   },
   "outputs": [
    {
     "name": "stderr",
     "output_type": "stream",
     "text": [
      "<ipython-input-23-6816be3f8938>:2: SettingWithCopyWarning: \n",
      "A value is trying to be set on a copy of a slice from a DataFrame\n",
      "\n",
      "See the caveats in the documentation: https://pandas.pydata.org/pandas-docs/stable/user_guide/indexing.html#returning-a-view-versus-a-copy\n",
      "  d.Class[d['Class']==1] = -1\n",
      "<ipython-input-23-6816be3f8938>:3: SettingWithCopyWarning: \n",
      "A value is trying to be set on a copy of a slice from a DataFrame\n",
      "\n",
      "See the caveats in the documentation: https://pandas.pydata.org/pandas-docs/stable/user_guide/indexing.html#returning-a-view-versus-a-copy\n",
      "  d.Class[d['Class'] == 0] = 1\n"
     ]
    },
    {
     "data": {
      "text/html": [
       "<div>\n",
       "<style scoped>\n",
       "    .dataframe tbody tr th:only-of-type {\n",
       "        vertical-align: middle;\n",
       "    }\n",
       "\n",
       "    .dataframe tbody tr th {\n",
       "        vertical-align: top;\n",
       "    }\n",
       "\n",
       "    .dataframe thead th {\n",
       "        text-align: right;\n",
       "    }\n",
       "</style>\n",
       "<table border=\"1\" class=\"dataframe\">\n",
       "  <thead>\n",
       "    <tr style=\"text-align: right;\">\n",
       "      <th></th>\n",
       "      <th>0</th>\n",
       "      <th>1</th>\n",
       "      <th>2</th>\n",
       "      <th>3</th>\n",
       "      <th>4</th>\n",
       "      <th>5</th>\n",
       "      <th>6</th>\n",
       "      <th>7</th>\n",
       "      <th>8</th>\n",
       "      <th>9</th>\n",
       "      <th>...</th>\n",
       "      <th>19</th>\n",
       "      <th>20</th>\n",
       "      <th>21</th>\n",
       "      <th>22</th>\n",
       "      <th>23</th>\n",
       "      <th>24</th>\n",
       "      <th>25</th>\n",
       "      <th>26</th>\n",
       "      <th>27</th>\n",
       "      <th>Class</th>\n",
       "    </tr>\n",
       "  </thead>\n",
       "  <tbody>\n",
       "    <tr>\n",
       "      <th>0</th>\n",
       "      <td>0.858246</td>\n",
       "      <td>0.780689</td>\n",
       "      <td>0.522025</td>\n",
       "      <td>0.307620</td>\n",
       "      <td>0.227557</td>\n",
       "      <td>0.115031</td>\n",
       "      <td>0.084342</td>\n",
       "      <td>0.073904</td>\n",
       "      <td>0.030271</td>\n",
       "      <td>0.000000</td>\n",
       "      <td>...</td>\n",
       "      <td>0.391232</td>\n",
       "      <td>0.433299</td>\n",
       "      <td>0.483090</td>\n",
       "      <td>1.000000</td>\n",
       "      <td>0.702088</td>\n",
       "      <td>0.181837</td>\n",
       "      <td>0.061482</td>\n",
       "      <td>0.199896</td>\n",
       "      <td>0.406785</td>\n",
       "      <td>1</td>\n",
       "    </tr>\n",
       "    <tr>\n",
       "      <th>1</th>\n",
       "      <td>0.847544</td>\n",
       "      <td>0.524104</td>\n",
       "      <td>0.396073</td>\n",
       "      <td>0.344640</td>\n",
       "      <td>0.323532</td>\n",
       "      <td>0.321043</td>\n",
       "      <td>0.256890</td>\n",
       "      <td>0.206932</td>\n",
       "      <td>0.338649</td>\n",
       "      <td>0.375795</td>\n",
       "      <td>...</td>\n",
       "      <td>0.732879</td>\n",
       "      <td>0.573325</td>\n",
       "      <td>0.368237</td>\n",
       "      <td>0.709190</td>\n",
       "      <td>1.000000</td>\n",
       "      <td>0.471841</td>\n",
       "      <td>0.337819</td>\n",
       "      <td>0.328970</td>\n",
       "      <td>0.313762</td>\n",
       "      <td>1</td>\n",
       "    </tr>\n",
       "    <tr>\n",
       "      <th>2</th>\n",
       "      <td>0.586800</td>\n",
       "      <td>0.250174</td>\n",
       "      <td>0.044736</td>\n",
       "      <td>0.193934</td>\n",
       "      <td>0.406112</td>\n",
       "      <td>0.018592</td>\n",
       "      <td>0.000000</td>\n",
       "      <td>0.039856</td>\n",
       "      <td>0.189170</td>\n",
       "      <td>0.660702</td>\n",
       "      <td>...</td>\n",
       "      <td>0.389031</td>\n",
       "      <td>0.553567</td>\n",
       "      <td>0.860795</td>\n",
       "      <td>0.940855</td>\n",
       "      <td>0.897630</td>\n",
       "      <td>0.473507</td>\n",
       "      <td>0.333023</td>\n",
       "      <td>0.454915</td>\n",
       "      <td>0.768301</td>\n",
       "      <td>1</td>\n",
       "    </tr>\n",
       "    <tr>\n",
       "      <th>3</th>\n",
       "      <td>0.638496</td>\n",
       "      <td>0.686763</td>\n",
       "      <td>0.859187</td>\n",
       "      <td>1.000000</td>\n",
       "      <td>0.703536</td>\n",
       "      <td>0.720192</td>\n",
       "      <td>0.894962</td>\n",
       "      <td>0.736086</td>\n",
       "      <td>0.738842</td>\n",
       "      <td>0.886282</td>\n",
       "      <td>...</td>\n",
       "      <td>0.000411</td>\n",
       "      <td>0.000411</td>\n",
       "      <td>0.000411</td>\n",
       "      <td>0.000000</td>\n",
       "      <td>0.048091</td>\n",
       "      <td>0.025218</td>\n",
       "      <td>0.003167</td>\n",
       "      <td>0.003578</td>\n",
       "      <td>0.003812</td>\n",
       "      <td>1</td>\n",
       "    </tr>\n",
       "    <tr>\n",
       "      <th>4</th>\n",
       "      <td>0.497339</td>\n",
       "      <td>0.265363</td>\n",
       "      <td>0.130395</td>\n",
       "      <td>0.042335</td>\n",
       "      <td>0.230281</td>\n",
       "      <td>0.321692</td>\n",
       "      <td>0.178091</td>\n",
       "      <td>0.489732</td>\n",
       "      <td>0.498404</td>\n",
       "      <td>0.372896</td>\n",
       "      <td>...</td>\n",
       "      <td>0.746423</td>\n",
       "      <td>0.523276</td>\n",
       "      <td>0.578856</td>\n",
       "      <td>0.934053</td>\n",
       "      <td>0.187473</td>\n",
       "      <td>0.200520</td>\n",
       "      <td>0.500769</td>\n",
       "      <td>0.082187</td>\n",
       "      <td>0.000000</td>\n",
       "      <td>1</td>\n",
       "    </tr>\n",
       "  </tbody>\n",
       "</table>\n",
       "<p>5 rows × 29 columns</p>\n",
       "</div>"
      ],
      "text/plain": [
       "          0         1         2         3         4         5         6  \\\n",
       "0  0.858246  0.780689  0.522025  0.307620  0.227557  0.115031  0.084342   \n",
       "1  0.847544  0.524104  0.396073  0.344640  0.323532  0.321043  0.256890   \n",
       "2  0.586800  0.250174  0.044736  0.193934  0.406112  0.018592  0.000000   \n",
       "3  0.638496  0.686763  0.859187  1.000000  0.703536  0.720192  0.894962   \n",
       "4  0.497339  0.265363  0.130395  0.042335  0.230281  0.321692  0.178091   \n",
       "\n",
       "          7         8         9  ...        19        20        21        22  \\\n",
       "0  0.073904  0.030271  0.000000  ...  0.391232  0.433299  0.483090  1.000000   \n",
       "1  0.206932  0.338649  0.375795  ...  0.732879  0.573325  0.368237  0.709190   \n",
       "2  0.039856  0.189170  0.660702  ...  0.389031  0.553567  0.860795  0.940855   \n",
       "3  0.736086  0.738842  0.886282  ...  0.000411  0.000411  0.000411  0.000000   \n",
       "4  0.489732  0.498404  0.372896  ...  0.746423  0.523276  0.578856  0.934053   \n",
       "\n",
       "         23        24        25        26        27  Class  \n",
       "0  0.702088  0.181837  0.061482  0.199896  0.406785      1  \n",
       "1  1.000000  0.471841  0.337819  0.328970  0.313762      1  \n",
       "2  0.897630  0.473507  0.333023  0.454915  0.768301      1  \n",
       "3  0.048091  0.025218  0.003167  0.003578  0.003812      1  \n",
       "4  0.187473  0.200520  0.500769  0.082187  0.000000      1  \n",
       "\n",
       "[5 rows x 29 columns]"
      ]
     },
     "metadata": {},
     "output_type": "display_data"
    }
   ],
   "source": [
    "d = pd.read_csv('C:/Users/jingy/Jupyter/Crime/Fire/CDI_Based/Intensity/CSV/Gray.csv',index_col=0)\n",
    "d.Class[d['Class']==1] = -1\n",
    "d.Class[d['Class'] == 0] = 1\n",
    "display(d.head())"
   ]
  },
  {
   "cell_type": "code",
   "execution_count": 24,
   "metadata": {
    "ExecuteTime": {
     "end_time": "2020-09-13T23:47:22.993151Z",
     "start_time": "2020-09-13T23:47:22.964290Z"
    }
   },
   "outputs": [],
   "source": [
    "data = d\n",
    "mask = (data['Class'] == 1)\n",
    "\n",
    "X_train, X_test = train_test_split(data[mask], test_size=0.2, random_state=2)\n",
    "X_train = X_train.drop(['Class'], axis=1)\n",
    "X_test = X_test.drop(['Class'], axis=1)\n",
    "X_fraud = data[~mask].drop(['Class'], axis=1)\n",
    "\n",
    "x_test=np.vstack((X_test,X_fraud))\n",
    "y_test=[1]*len(X_test)+[-1]*len(X_fraud)"
   ]
  },
  {
   "cell_type": "code",
   "execution_count": 25,
   "metadata": {
    "ExecuteTime": {
     "end_time": "2020-09-13T23:47:23.025036Z",
     "start_time": "2020-09-13T23:47:22.995146Z"
    }
   },
   "outputs": [
    {
     "name": "stdout",
     "output_type": "stream",
     "text": [
      "0.8035714285714286\n",
      "              precision    recall  f1-score   support\n",
      "\n",
      "          -1       0.88      0.89      0.88       142\n",
      "           1       0.36      0.35      0.35        26\n",
      "\n",
      "    accuracy                           0.80       168\n",
      "   macro avg       0.62      0.62      0.62       168\n",
      "weighted avg       0.80      0.80      0.80       168\n",
      "\n"
     ]
    }
   ],
   "source": [
    "clf = svm.OneClassSVM(kernel='rbf',nu=0.6)  \n",
    "clf.fit(X_train)  \n",
    "\n",
    "y_pred = clf.predict(x_test)  \n",
    "y_prob = clf.decision_function(x_test)  # the lower, the more normal\n",
    "\n",
    "fpr,tpr,threshold_svc = metrics.roc_curve(y_test,y_prob)     \n",
    "auc_svc = metrics.auc(fpr,tpr)   \n",
    "\n",
    "precision, recall, _ = precision_recall_curve(y_test,y_prob)\n",
    "pr_auc = auc(recall, precision)\n",
    "\n",
    "score_svc = metrics.accuracy_score(y_test,y_pred)\n",
    "\n",
    "print(score_svc)\n",
    "print(classification_report(y_test, y_pred))"
   ]
  },
  {
   "cell_type": "code",
   "execution_count": 26,
   "metadata": {
    "ExecuteTime": {
     "end_time": "2020-09-13T23:47:23.291346Z",
     "start_time": "2020-09-13T23:47:23.028019Z"
    }
   },
   "outputs": [
    {
     "data": {
      "image/png": "[encoded data removed]",
      "text/plain": [
       "<Figure size 1008x432 with 2 Axes>"
      ]
     },
     "metadata": {},
     "output_type": "display_data"
    }
   ],
   "source": [
    "plt.figure(figsize=(14, 6))\n",
    "plt.subplot(121)\n",
    "#plt.figure(figsize=(14, 6))\n",
    "plt.title('Receiver Operating Characteristic \\nAUC = %0.2f'% auc_svc)   \n",
    "plt.plot(fpr, tpr, c='coral', lw=3)\n",
    "plt.plot([0,1],[0,1], c='dodgerblue', ls='--')\n",
    "plt.ylabel('TPR'); plt.xlabel('FPR')\n",
    "\n",
    "plt.subplot(122)\n",
    "plt.title('Precision-Recall curve based on \\nAUC = %0.2f'% pr_auc)\n",
    "plt.plot(recall[:-2], precision[:-2], c='coral', lw=3)\n",
    "plt.xlabel('Recall'); plt.ylabel('Precision')\n",
    "plt.show()"
   ]
  },
  {
   "cell_type": "code",
   "execution_count": null,
   "metadata": {},
   "outputs": [],
   "source": []
  }
 ],
 "metadata": {
  "kernelspec": {
   "display_name": "Python [conda env:crowd] *",
   "language": "python",
   "name": "conda-env-crowd-py"
  },
  "language_info": {
   "codemirror_mode": {
    "name": "ipython",
    "version": 3
   },
   "file_extension": ".py",
   "mimetype": "text/x-python",
   "name": "python",
   "nbconvert_exporter": "python",
   "pygments_lexer": "ipython3",
   "version": "3.8.3"
  },
  "toc": {
   "base_numbering": 1,
   "nav_menu": {},
   "number_sections": true,
   "sideBar": true,
   "skip_h1_title": false,
   "title_cell": "Table of Contents",
   "title_sidebar": "Contents",
   "toc_cell": false,
   "toc_position": {},
   "toc_section_display": true,
   "toc_window_display": false
  }
 },
 "nbformat": 4,
 "nbformat_minor": 4
}

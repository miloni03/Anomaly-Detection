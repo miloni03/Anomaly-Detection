{
 "cells": [
  {
   "cell_type": "code",
   "execution_count": 1,
   "metadata": {
    "ExecuteTime": {
     "end_time": "2020-09-15T17:22:56.411640Z",
     "start_time": "2020-09-15T17:22:54.850664Z"
    }
   },
   "outputs": [],
   "source": [
    "import numpy as np  \n",
    "import matplotlib.pyplot as plt  \n",
    "import matplotlib.font_manager  \n",
    "import pandas as pd\n",
    "from sklearn import svm  \n",
    "from sklearn.model_selection import train_test_split\n",
    "from sklearn.preprocessing import StandardScaler,MinMaxScaler\n",
    "from sklearn import metrics\n",
    "from sklearn.metrics import roc_curve, auc, precision_recall_curve,confusion_matrix,classification_report\n",
    "plt.style.use('seaborn')"
   ]
  },
  {
   "cell_type": "code",
   "execution_count": 2,
   "metadata": {
    "ExecuteTime": {
     "end_time": "2020-09-15T17:22:56.475119Z",
     "start_time": "2020-09-15T17:22:56.413145Z"
    }
   },
   "outputs": [
    {
     "name": "stderr",
     "output_type": "stream",
     "text": [
      "<ipython-input-2-45586fbbe52f>:2: SettingWithCopyWarning: \n",
      "A value is trying to be set on a copy of a slice from a DataFrame\n",
      "\n",
      "See the caveats in the documentation: https://pandas.pydata.org/pandas-docs/stable/user_guide/indexing.html#returning-a-view-versus-a-copy\n",
      "  d.Class[d['Class']==1] = -1\n",
      "<ipython-input-2-45586fbbe52f>:3: SettingWithCopyWarning: \n",
      "A value is trying to be set on a copy of a slice from a DataFrame\n",
      "\n",
      "See the caveats in the documentation: https://pandas.pydata.org/pandas-docs/stable/user_guide/indexing.html#returning-a-view-versus-a-copy\n",
      "  d.Class[d['Class'] == 0] = 1\n"
     ]
    },
    {
     "data": {
      "text/html": [
       "<div>\n",
       "<style scoped>\n",
       "    .dataframe tbody tr th:only-of-type {\n",
       "        vertical-align: middle;\n",
       "    }\n",
       "\n",
       "    .dataframe tbody tr th {\n",
       "        vertical-align: top;\n",
       "    }\n",
       "\n",
       "    .dataframe thead th {\n",
       "        text-align: right;\n",
       "    }\n",
       "</style>\n",
       "<table border=\"1\" class=\"dataframe\">\n",
       "  <thead>\n",
       "    <tr style=\"text-align: right;\">\n",
       "      <th></th>\n",
       "      <th>0</th>\n",
       "      <th>1</th>\n",
       "      <th>2</th>\n",
       "      <th>3</th>\n",
       "      <th>4</th>\n",
       "      <th>5</th>\n",
       "      <th>6</th>\n",
       "      <th>7</th>\n",
       "      <th>8</th>\n",
       "      <th>9</th>\n",
       "      <th>...</th>\n",
       "      <th>19</th>\n",
       "      <th>20</th>\n",
       "      <th>21</th>\n",
       "      <th>22</th>\n",
       "      <th>23</th>\n",
       "      <th>24</th>\n",
       "      <th>25</th>\n",
       "      <th>26</th>\n",
       "      <th>27</th>\n",
       "      <th>Class</th>\n",
       "    </tr>\n",
       "  </thead>\n",
       "  <tbody>\n",
       "    <tr>\n",
       "      <th>0</th>\n",
       "      <td>8387460.0</td>\n",
       "      <td>8182950.0</td>\n",
       "      <td>7413870.0</td>\n",
       "      <td>6560895.0</td>\n",
       "      <td>6201600.0</td>\n",
       "      <td>5718120.0</td>\n",
       "      <td>5478675.0</td>\n",
       "      <td>5391210.0</td>\n",
       "      <td>5164770.0</td>\n",
       "      <td>4852650.0</td>\n",
       "      <td>...</td>\n",
       "      <td>6988275.0</td>\n",
       "      <td>7047435.0</td>\n",
       "      <td>7063245.0</td>\n",
       "      <td>8062335.0</td>\n",
       "      <td>6954105.0</td>\n",
       "      <td>5475870.0</td>\n",
       "      <td>4732545.0</td>\n",
       "      <td>5461845.0</td>\n",
       "      <td>6606030.0</td>\n",
       "      <td>1</td>\n",
       "    </tr>\n",
       "    <tr>\n",
       "      <th>1</th>\n",
       "      <td>7926930.0</td>\n",
       "      <td>6828900.0</td>\n",
       "      <td>6209505.0</td>\n",
       "      <td>6040695.0</td>\n",
       "      <td>5905035.0</td>\n",
       "      <td>5853015.0</td>\n",
       "      <td>5612040.0</td>\n",
       "      <td>5258355.0</td>\n",
       "      <td>5859135.0</td>\n",
       "      <td>6254640.0</td>\n",
       "      <td>...</td>\n",
       "      <td>7633170.0</td>\n",
       "      <td>7233840.0</td>\n",
       "      <td>6284475.0</td>\n",
       "      <td>6943650.0</td>\n",
       "      <td>7811415.0</td>\n",
       "      <td>6442320.0</td>\n",
       "      <td>5949915.0</td>\n",
       "      <td>5768100.0</td>\n",
       "      <td>5553900.0</td>\n",
       "      <td>1</td>\n",
       "    </tr>\n",
       "    <tr>\n",
       "      <th>2</th>\n",
       "      <td>11175885.0</td>\n",
       "      <td>10896915.0</td>\n",
       "      <td>10621770.0</td>\n",
       "      <td>10857135.0</td>\n",
       "      <td>11167470.0</td>\n",
       "      <td>10576380.0</td>\n",
       "      <td>10460355.0</td>\n",
       "      <td>10468770.0</td>\n",
       "      <td>10571280.0</td>\n",
       "      <td>11231730.0</td>\n",
       "      <td>...</td>\n",
       "      <td>11057565.0</td>\n",
       "      <td>11205720.0</td>\n",
       "      <td>11454090.0</td>\n",
       "      <td>11670585.0</td>\n",
       "      <td>11459955.0</td>\n",
       "      <td>10980045.0</td>\n",
       "      <td>10952250.0</td>\n",
       "      <td>11203680.0</td>\n",
       "      <td>11254425.0</td>\n",
       "      <td>1</td>\n",
       "    </tr>\n",
       "    <tr>\n",
       "      <th>3</th>\n",
       "      <td>6038400.0</td>\n",
       "      <td>6346950.0</td>\n",
       "      <td>6706755.0</td>\n",
       "      <td>7220580.0</td>\n",
       "      <td>5976435.0</td>\n",
       "      <td>5829300.0</td>\n",
       "      <td>6578490.0</td>\n",
       "      <td>5869590.0</td>\n",
       "      <td>5935125.0</td>\n",
       "      <td>7064010.0</td>\n",
       "      <td>...</td>\n",
       "      <td>50235.0</td>\n",
       "      <td>50235.0</td>\n",
       "      <td>50235.0</td>\n",
       "      <td>50235.0</td>\n",
       "      <td>777240.0</td>\n",
       "      <td>386580.0</td>\n",
       "      <td>64515.0</td>\n",
       "      <td>66045.0</td>\n",
       "      <td>68085.0</td>\n",
       "      <td>1</td>\n",
       "    </tr>\n",
       "    <tr>\n",
       "      <th>4</th>\n",
       "      <td>10903290.0</td>\n",
       "      <td>9469170.0</td>\n",
       "      <td>7526580.0</td>\n",
       "      <td>6321195.0</td>\n",
       "      <td>8426985.0</td>\n",
       "      <td>9631350.0</td>\n",
       "      <td>8346915.0</td>\n",
       "      <td>10157415.0</td>\n",
       "      <td>10444290.0</td>\n",
       "      <td>10208925.0</td>\n",
       "      <td>...</td>\n",
       "      <td>11846280.0</td>\n",
       "      <td>10688070.0</td>\n",
       "      <td>10856370.0</td>\n",
       "      <td>12573285.0</td>\n",
       "      <td>7583445.0</td>\n",
       "      <td>7606395.0</td>\n",
       "      <td>11005800.0</td>\n",
       "      <td>7631385.0</td>\n",
       "      <td>5657430.0</td>\n",
       "      <td>1</td>\n",
       "    </tr>\n",
       "  </tbody>\n",
       "</table>\n",
       "<p>5 rows × 29 columns</p>\n",
       "</div>"
      ],
      "text/plain": [
       "            0           1           2           3           4           5  \\\n",
       "0   8387460.0   8182950.0   7413870.0   6560895.0   6201600.0   5718120.0   \n",
       "1   7926930.0   6828900.0   6209505.0   6040695.0   5905035.0   5853015.0   \n",
       "2  11175885.0  10896915.0  10621770.0  10857135.0  11167470.0  10576380.0   \n",
       "3   6038400.0   6346950.0   6706755.0   7220580.0   5976435.0   5829300.0   \n",
       "4  10903290.0   9469170.0   7526580.0   6321195.0   8426985.0   9631350.0   \n",
       "\n",
       "            6           7           8           9  ...          19  \\\n",
       "0   5478675.0   5391210.0   5164770.0   4852650.0  ...   6988275.0   \n",
       "1   5612040.0   5258355.0   5859135.0   6254640.0  ...   7633170.0   \n",
       "2  10460355.0  10468770.0  10571280.0  11231730.0  ...  11057565.0   \n",
       "3   6578490.0   5869590.0   5935125.0   7064010.0  ...     50235.0   \n",
       "4   8346915.0  10157415.0  10444290.0  10208925.0  ...  11846280.0   \n",
       "\n",
       "           20          21          22          23          24          25  \\\n",
       "0   7047435.0   7063245.0   8062335.0   6954105.0   5475870.0   4732545.0   \n",
       "1   7233840.0   6284475.0   6943650.0   7811415.0   6442320.0   5949915.0   \n",
       "2  11205720.0  11454090.0  11670585.0  11459955.0  10980045.0  10952250.0   \n",
       "3     50235.0     50235.0     50235.0    777240.0    386580.0     64515.0   \n",
       "4  10688070.0  10856370.0  12573285.0   7583445.0   7606395.0  11005800.0   \n",
       "\n",
       "           26          27  Class  \n",
       "0   5461845.0   6606030.0      1  \n",
       "1   5768100.0   5553900.0      1  \n",
       "2  11203680.0  11254425.0      1  \n",
       "3     66045.0     68085.0      1  \n",
       "4   7631385.0   5657430.0      1  \n",
       "\n",
       "[5 rows x 29 columns]"
      ]
     },
     "metadata": {},
     "output_type": "display_data"
    }
   ],
   "source": [
    "d = pd.read_csv('C:/Users/jingy/Jupyter/Crime/Fire/CDI_Based/Intensity/CSV/Harris_No_Filter.csv',index_col=0)\n",
    "d.Class[d['Class']==1] = -1\n",
    "d.Class[d['Class'] == 0] = 1\n",
    "display(d.head())"
   ]
  },
  {
   "cell_type": "code",
   "execution_count": 3,
   "metadata": {
    "ExecuteTime": {
     "end_time": "2020-09-15T17:22:56.491067Z",
     "start_time": "2020-09-15T17:22:56.477104Z"
    }
   },
   "outputs": [],
   "source": [
    "data = d\n",
    "mask = (data['Class'] == 1)\n",
    "\n",
    "X_train, X_test = train_test_split(data[mask], test_size=0.2, random_state=0)\n",
    "X_train = X_train.drop(['Class'], axis=1)\n",
    "X_test = X_test.drop(['Class'], axis=1)\n",
    "X_fraud = data[~mask].drop(['Class'], axis=1)\n",
    "\n",
    "x_test=np.vstack((X_test,X_fraud))\n",
    "y_test=[1]*len(X_test)+[-1]*len(X_fraud)\n",
    "\n",
    "std =MinMaxScaler()\n",
    "X_train=std.fit_transform(X_train)\n",
    "x_test=std.transform(x_test)\n"
   ]
  },
  {
   "cell_type": "code",
   "execution_count": 4,
   "metadata": {
    "ExecuteTime": {
     "end_time": "2020-09-15T17:22:56.507018Z",
     "start_time": "2020-09-15T17:22:56.493029Z"
    }
   },
   "outputs": [
    {
     "name": "stdout",
     "output_type": "stream",
     "text": [
      "0.8273809523809523\n",
      "              precision    recall  f1-score   support\n",
      "\n",
      "          -1       0.88      0.92      0.90       142\n",
      "           1       0.42      0.31      0.36        26\n",
      "\n",
      "    accuracy                           0.83       168\n",
      "   macro avg       0.65      0.62      0.63       168\n",
      "weighted avg       0.81      0.83      0.82       168\n",
      "\n"
     ]
    }
   ],
   "source": [
    "clf = svm.OneClassSVM(kernel='rbf',nu=0.6)  \n",
    "clf.fit(X_train)  \n",
    "\n",
    "y_pred = clf.predict(x_test)  \n",
    "y_prob = clf.decision_function(x_test)  # the lower, the more normal\n",
    "\n",
    "fpr,tpr,threshold_svc = metrics.roc_curve(y_test,y_prob)     \n",
    "auc_svc = metrics.auc(fpr,tpr)   \n",
    "\n",
    "precision, recall, _ = precision_recall_curve(y_test,y_prob)\n",
    "pr_auc = auc(recall, precision)\n",
    "\n",
    "score_svc = metrics.accuracy_score(y_test,y_pred)\n",
    "\n",
    "print(score_svc)\n",
    "print(classification_report(y_test, y_pred))"
   ]
  },
  {
   "cell_type": "code",
   "execution_count": 5,
   "metadata": {
    "ExecuteTime": {
     "end_time": "2020-09-15T17:22:56.744355Z",
     "start_time": "2020-09-15T17:22:56.509010Z"
    }
   },
   "outputs": [
    {
     "data": {
      "image/png": "[encoded data removed]",
      "text/plain": [
       "<Figure size 1008x432 with 2 Axes>"
      ]
     },
     "metadata": {},
     "output_type": "display_data"
    }
   ],
   "source": [
    "plt.figure(figsize=(14, 6))\n",
    "plt.subplot(121)\n",
    "#plt.figure(figsize=(14, 6))\n",
    "plt.title('Receiver Operating Characteristic \\nAUC = %0.2f'% auc_svc)   \n",
    "plt.plot(fpr, tpr, c='coral', lw=3)\n",
    "plt.plot([0,1],[0,1], c='dodgerblue', ls='--')\n",
    "plt.ylabel('TPR'); plt.xlabel('FPR')\n",
    "\n",
    "plt.subplot(122)\n",
    "plt.title('Precision-Recall curve based on \\nAUC = %0.2f'% pr_auc)\n",
    "plt.plot(recall[:-2], precision[:-2], c='coral', lw=3)\n",
    "plt.xlabel('Recall'); plt.ylabel('Precision')\n",
    "plt.show()"
   ]
  },
  {
   "cell_type": "code",
   "execution_count": null,
   "metadata": {},
   "outputs": [],
   "source": []
  }
 ],
 "metadata": {
  "kernelspec": {
   "display_name": "Python [conda env:crowd] *",
   "language": "python",
   "name": "conda-env-crowd-py"
  },
  "language_info": {
   "codemirror_mode": {
    "name": "ipython",
    "version": 3
   },
   "file_extension": ".py",
   "mimetype": "text/x-python",
   "name": "python",
   "nbconvert_exporter": "python",
   "pygments_lexer": "ipython3",
   "version": "3.8.3"
  },
  "toc": {
   "base_numbering": 1,
   "nav_menu": {},
   "number_sections": true,
   "sideBar": true,
   "skip_h1_title": false,
   "title_cell": "Table of Contents",
   "title_sidebar": "Contents",
   "toc_cell": false,
   "toc_position": {},
   "toc_section_display": true,
   "toc_window_display": false
  }
 },
 "nbformat": 4,
 "nbformat_minor": 4
}

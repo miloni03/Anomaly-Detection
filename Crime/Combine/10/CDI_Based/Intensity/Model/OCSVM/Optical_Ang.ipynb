{
 "cells": [
  {
   "cell_type": "code",
   "execution_count": 1,
   "metadata": {
    "ExecuteTime": {
     "end_time": "2020-09-13T23:00:12.717191Z",
     "start_time": "2020-09-13T23:00:11.512193Z"
    }
   },
   "outputs": [],
   "source": [
    "import numpy as np  \n",
    "import matplotlib.pyplot as plt  \n",
    "import matplotlib.font_manager  \n",
    "import pandas as pd\n",
    "from sklearn import svm  \n",
    "from sklearn.model_selection import train_test_split\n",
    "from sklearn.preprocessing import StandardScaler,MinMaxScaler\n",
    "from sklearn import metrics\n",
    "from sklearn.metrics import roc_curve, auc, precision_recall_curve,confusion_matrix,classification_report\n",
    "plt.style.use('seaborn')"
   ]
  },
  {
   "cell_type": "code",
   "execution_count": 2,
   "metadata": {
    "ExecuteTime": {
     "end_time": "2020-09-13T23:00:29.251557Z",
     "start_time": "2020-09-13T23:00:29.203685Z"
    }
   },
   "outputs": [
    {
     "name": "stderr",
     "output_type": "stream",
     "text": [
      "<ipython-input-2-7b55eba0088e>:2: SettingWithCopyWarning: \n",
      "A value is trying to be set on a copy of a slice from a DataFrame\n",
      "\n",
      "See the caveats in the documentation: https://pandas.pydata.org/pandas-docs/stable/user_guide/indexing.html#returning-a-view-versus-a-copy\n",
      "  d.Class[d['Class']==1] = -1\n",
      "<ipython-input-2-7b55eba0088e>:3: SettingWithCopyWarning: \n",
      "A value is trying to be set on a copy of a slice from a DataFrame\n",
      "\n",
      "See the caveats in the documentation: https://pandas.pydata.org/pandas-docs/stable/user_guide/indexing.html#returning-a-view-versus-a-copy\n",
      "  d.Class[d['Class'] == 0] = 1\n"
     ]
    },
    {
     "data": {
      "text/html": [
       "<div>\n",
       "<style scoped>\n",
       "    .dataframe tbody tr th:only-of-type {\n",
       "        vertical-align: middle;\n",
       "    }\n",
       "\n",
       "    .dataframe tbody tr th {\n",
       "        vertical-align: top;\n",
       "    }\n",
       "\n",
       "    .dataframe thead th {\n",
       "        text-align: right;\n",
       "    }\n",
       "</style>\n",
       "<table border=\"1\" class=\"dataframe\">\n",
       "  <thead>\n",
       "    <tr style=\"text-align: right;\">\n",
       "      <th></th>\n",
       "      <th>0</th>\n",
       "      <th>1</th>\n",
       "      <th>2</th>\n",
       "      <th>3</th>\n",
       "      <th>4</th>\n",
       "      <th>5</th>\n",
       "      <th>6</th>\n",
       "      <th>7</th>\n",
       "      <th>8</th>\n",
       "      <th>9</th>\n",
       "      <th>...</th>\n",
       "      <th>18</th>\n",
       "      <th>19</th>\n",
       "      <th>20</th>\n",
       "      <th>21</th>\n",
       "      <th>22</th>\n",
       "      <th>23</th>\n",
       "      <th>24</th>\n",
       "      <th>25</th>\n",
       "      <th>26</th>\n",
       "      <th>Class</th>\n",
       "    </tr>\n",
       "  </thead>\n",
       "  <tbody>\n",
       "    <tr>\n",
       "      <th>0</th>\n",
       "      <td>41517.383</td>\n",
       "      <td>46243.195</td>\n",
       "      <td>50213.510</td>\n",
       "      <td>48564.620</td>\n",
       "      <td>47253.137</td>\n",
       "      <td>41203.620</td>\n",
       "      <td>41810.070</td>\n",
       "      <td>41990.610</td>\n",
       "      <td>46382.402</td>\n",
       "      <td>44329.050</td>\n",
       "      <td>...</td>\n",
       "      <td>44556.355</td>\n",
       "      <td>45286.610</td>\n",
       "      <td>43465.453</td>\n",
       "      <td>43711.670</td>\n",
       "      <td>42153.008</td>\n",
       "      <td>35667.180</td>\n",
       "      <td>40430.383</td>\n",
       "      <td>39293.223</td>\n",
       "      <td>38207.176</td>\n",
       "      <td>1</td>\n",
       "    </tr>\n",
       "    <tr>\n",
       "      <th>1</th>\n",
       "      <td>45571.363</td>\n",
       "      <td>44183.336</td>\n",
       "      <td>44261.290</td>\n",
       "      <td>43227.465</td>\n",
       "      <td>42442.445</td>\n",
       "      <td>41081.484</td>\n",
       "      <td>39885.550</td>\n",
       "      <td>45008.055</td>\n",
       "      <td>45332.703</td>\n",
       "      <td>40804.586</td>\n",
       "      <td>...</td>\n",
       "      <td>45154.990</td>\n",
       "      <td>45681.477</td>\n",
       "      <td>44385.438</td>\n",
       "      <td>35756.360</td>\n",
       "      <td>42928.957</td>\n",
       "      <td>41720.918</td>\n",
       "      <td>43039.380</td>\n",
       "      <td>43178.410</td>\n",
       "      <td>41953.867</td>\n",
       "      <td>1</td>\n",
       "    </tr>\n",
       "    <tr>\n",
       "      <th>2</th>\n",
       "      <td>52829.117</td>\n",
       "      <td>57250.074</td>\n",
       "      <td>52960.840</td>\n",
       "      <td>53769.950</td>\n",
       "      <td>51697.950</td>\n",
       "      <td>52752.500</td>\n",
       "      <td>49191.380</td>\n",
       "      <td>47728.793</td>\n",
       "      <td>45490.370</td>\n",
       "      <td>48717.926</td>\n",
       "      <td>...</td>\n",
       "      <td>53085.984</td>\n",
       "      <td>45066.620</td>\n",
       "      <td>45043.336</td>\n",
       "      <td>46123.200</td>\n",
       "      <td>46589.040</td>\n",
       "      <td>47338.055</td>\n",
       "      <td>46064.566</td>\n",
       "      <td>46574.496</td>\n",
       "      <td>47054.395</td>\n",
       "      <td>1</td>\n",
       "    </tr>\n",
       "    <tr>\n",
       "      <th>3</th>\n",
       "      <td>35359.363</td>\n",
       "      <td>35041.800</td>\n",
       "      <td>34450.543</td>\n",
       "      <td>31039.785</td>\n",
       "      <td>32581.207</td>\n",
       "      <td>33702.820</td>\n",
       "      <td>37097.355</td>\n",
       "      <td>40790.992</td>\n",
       "      <td>36675.980</td>\n",
       "      <td>33821.934</td>\n",
       "      <td>...</td>\n",
       "      <td>62200.080</td>\n",
       "      <td>87386.540</td>\n",
       "      <td>87386.540</td>\n",
       "      <td>30807.486</td>\n",
       "      <td>38568.535</td>\n",
       "      <td>39897.043</td>\n",
       "      <td>65009.930</td>\n",
       "      <td>75728.650</td>\n",
       "      <td>88340.945</td>\n",
       "      <td>1</td>\n",
       "    </tr>\n",
       "    <tr>\n",
       "      <th>4</th>\n",
       "      <td>30237.719</td>\n",
       "      <td>31306.467</td>\n",
       "      <td>29290.838</td>\n",
       "      <td>28825.803</td>\n",
       "      <td>32296.393</td>\n",
       "      <td>33004.340</td>\n",
       "      <td>32396.982</td>\n",
       "      <td>37117.758</td>\n",
       "      <td>37167.160</td>\n",
       "      <td>36492.490</td>\n",
       "      <td>...</td>\n",
       "      <td>34176.867</td>\n",
       "      <td>32114.684</td>\n",
       "      <td>39932.660</td>\n",
       "      <td>35943.242</td>\n",
       "      <td>35096.867</td>\n",
       "      <td>36974.550</td>\n",
       "      <td>39431.715</td>\n",
       "      <td>30457.986</td>\n",
       "      <td>26386.412</td>\n",
       "      <td>1</td>\n",
       "    </tr>\n",
       "  </tbody>\n",
       "</table>\n",
       "<p>5 rows × 28 columns</p>\n",
       "</div>"
      ],
      "text/plain": [
       "           0          1          2          3          4          5  \\\n",
       "0  41517.383  46243.195  50213.510  48564.620  47253.137  41203.620   \n",
       "1  45571.363  44183.336  44261.290  43227.465  42442.445  41081.484   \n",
       "2  52829.117  57250.074  52960.840  53769.950  51697.950  52752.500   \n",
       "3  35359.363  35041.800  34450.543  31039.785  32581.207  33702.820   \n",
       "4  30237.719  31306.467  29290.838  28825.803  32296.393  33004.340   \n",
       "\n",
       "           6          7          8          9  ...         18         19  \\\n",
       "0  41810.070  41990.610  46382.402  44329.050  ...  44556.355  45286.610   \n",
       "1  39885.550  45008.055  45332.703  40804.586  ...  45154.990  45681.477   \n",
       "2  49191.380  47728.793  45490.370  48717.926  ...  53085.984  45066.620   \n",
       "3  37097.355  40790.992  36675.980  33821.934  ...  62200.080  87386.540   \n",
       "4  32396.982  37117.758  37167.160  36492.490  ...  34176.867  32114.684   \n",
       "\n",
       "          20         21         22         23         24         25  \\\n",
       "0  43465.453  43711.670  42153.008  35667.180  40430.383  39293.223   \n",
       "1  44385.438  35756.360  42928.957  41720.918  43039.380  43178.410   \n",
       "2  45043.336  46123.200  46589.040  47338.055  46064.566  46574.496   \n",
       "3  87386.540  30807.486  38568.535  39897.043  65009.930  75728.650   \n",
       "4  39932.660  35943.242  35096.867  36974.550  39431.715  30457.986   \n",
       "\n",
       "          26  Class  \n",
       "0  38207.176      1  \n",
       "1  41953.867      1  \n",
       "2  47054.395      1  \n",
       "3  88340.945      1  \n",
       "4  26386.412      1  \n",
       "\n",
       "[5 rows x 28 columns]"
      ]
     },
     "metadata": {},
     "output_type": "display_data"
    }
   ],
   "source": [
    "d = pd.read_csv('C:/Users/jingy/Jupyter/Crime/Fire/CDI_Based/Intensity/CSV/Optical_Ang.csv',index_col=0)\n",
    "d.Class[d['Class']==1] = -1\n",
    "d.Class[d['Class'] == 0] = 1\n",
    "display(d.head())"
   ]
  },
  {
   "cell_type": "code",
   "execution_count": 3,
   "metadata": {
    "ExecuteTime": {
     "end_time": "2020-09-13T23:00:41.999884Z",
     "start_time": "2020-09-13T23:00:41.983895Z"
    }
   },
   "outputs": [],
   "source": [
    "data = d\n",
    "mask = (data['Class'] == 1)\n",
    "\n",
    "X_train, X_test = train_test_split(data[mask], test_size=0.2, random_state=0)\n",
    "X_train = X_train.drop(['Class'], axis=1)\n",
    "X_test = X_test.drop(['Class'], axis=1)\n",
    "X_fraud = data[~mask].drop(['Class'], axis=1)\n",
    "\n",
    "x_test=np.vstack((X_test,X_fraud))\n",
    "y_test=[1]*len(X_test)+[-1]*len(X_fraud)\n",
    "\n",
    "std =StandardScaler()\n",
    "X_train=std.fit_transform(X_train)\n",
    "x_test=std.transform(x_test)\n"
   ]
  },
  {
   "cell_type": "code",
   "execution_count": 13,
   "metadata": {
    "ExecuteTime": {
     "end_time": "2020-09-13T23:01:56.234789Z",
     "start_time": "2020-09-13T23:01:56.213830Z"
    }
   },
   "outputs": [
    {
     "name": "stdout",
     "output_type": "stream",
     "text": [
      "0.8214285714285714\n",
      "              precision    recall  f1-score   support\n",
      "\n",
      "          -1       0.88      0.91      0.90       142\n",
      "           1       0.41      0.35      0.38        26\n",
      "\n",
      "    accuracy                           0.82       168\n",
      "   macro avg       0.65      0.63      0.64       168\n",
      "weighted avg       0.81      0.82      0.82       168\n",
      "\n"
     ]
    }
   ],
   "source": [
    "clf = svm.OneClassSVM(kernel='rbf',nu=0.5)  \n",
    "clf.fit(X_train)  \n",
    "\n",
    "y_pred = clf.predict(x_test)  \n",
    "y_prob = clf.decision_function(x_test)  # the lower, the more normal\n",
    "\n",
    "fpr,tpr,threshold_svc = metrics.roc_curve(y_test,y_prob)     \n",
    "auc_svc = metrics.auc(fpr,tpr)   \n",
    "\n",
    "precision, recall, _ = precision_recall_curve(y_test,y_prob)\n",
    "pr_auc = auc(recall, precision)\n",
    "\n",
    "score_svc = metrics.accuracy_score(y_test,y_pred)\n",
    "\n",
    "print(score_svc)\n",
    "print(classification_report(y_test, y_pred))"
   ]
  },
  {
   "cell_type": "code",
   "execution_count": 11,
   "metadata": {
    "ExecuteTime": {
     "end_time": "2020-09-13T23:01:37.173239Z",
     "start_time": "2020-09-13T23:01:36.956660Z"
    }
   },
   "outputs": [
    {
     "data": {
      "image/png": "[encoded data removed]",
      "text/plain": [
       "<Figure size 1008x432 with 2 Axes>"
      ]
     },
     "metadata": {},
     "output_type": "display_data"
    }
   ],
   "source": [
    "plt.figure(figsize=(14, 6))\n",
    "plt.subplot(121)\n",
    "#plt.figure(figsize=(14, 6))\n",
    "plt.title('Receiver Operating Characteristic \\nAUC = %0.2f'% auc_svc)   \n",
    "plt.plot(fpr, tpr, c='coral', lw=3)\n",
    "plt.plot([0,1],[0,1], c='dodgerblue', ls='--')\n",
    "plt.ylabel('TPR'); plt.xlabel('FPR')\n",
    "\n",
    "plt.subplot(122)\n",
    "plt.title('Precision-Recall curve based on \\nAUC = %0.2f'% pr_auc)\n",
    "plt.plot(recall[:-2], precision[:-2], c='coral', lw=3)\n",
    "plt.xlabel('Recall'); plt.ylabel('Precision')\n",
    "plt.show()"
   ]
  },
  {
   "cell_type": "code",
   "execution_count": null,
   "metadata": {},
   "outputs": [],
   "source": []
  }
 ],
 "metadata": {
  "kernelspec": {
   "display_name": "Python [conda env:crowd] *",
   "language": "python",
   "name": "conda-env-crowd-py"
  },
  "language_info": {
   "codemirror_mode": {
    "name": "ipython",
    "version": 3
   },
   "file_extension": ".py",
   "mimetype": "text/x-python",
   "name": "python",
   "nbconvert_exporter": "python",
   "pygments_lexer": "ipython3",
   "version": "3.8.3"
  },
  "toc": {
   "base_numbering": 1,
   "nav_menu": {},
   "number_sections": true,
   "sideBar": true,
   "skip_h1_title": false,
   "title_cell": "Table of Contents",
   "title_sidebar": "Contents",
   "toc_cell": false,
   "toc_position": {},
   "toc_section_display": true,
   "toc_window_display": false
  }
 },
 "nbformat": 4,
 "nbformat_minor": 4
}

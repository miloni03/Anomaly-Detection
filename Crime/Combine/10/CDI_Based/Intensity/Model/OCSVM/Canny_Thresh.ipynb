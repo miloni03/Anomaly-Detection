{
 "cells": [
  {
   "cell_type": "code",
   "execution_count": 17,
   "metadata": {
    "ExecuteTime": {
     "end_time": "2020-09-15T17:18:41.125681Z",
     "start_time": "2020-09-15T17:18:41.109726Z"
    }
   },
   "outputs": [],
   "source": [
    "import numpy as np  \n",
    "import matplotlib.pyplot as plt  \n",
    "import matplotlib.font_manager  \n",
    "import pandas as pd\n",
    "from sklearn import svm  \n",
    "from sklearn.model_selection import train_test_split\n",
    "from sklearn.preprocessing import StandardScaler,MinMaxScaler\n",
    "from sklearn import metrics\n",
    "from sklearn.metrics import roc_curve, auc, precision_recall_curve,confusion_matrix,classification_report\n",
    "plt.style.use('seaborn')"
   ]
  },
  {
   "cell_type": "code",
   "execution_count": 18,
   "metadata": {
    "ExecuteTime": {
     "end_time": "2020-09-15T17:18:41.157641Z",
     "start_time": "2020-09-15T17:18:41.127676Z"
    }
   },
   "outputs": [
    {
     "data": {
      "text/html": [
       "<div>\n",
       "<style scoped>\n",
       "    .dataframe tbody tr th:only-of-type {\n",
       "        vertical-align: middle;\n",
       "    }\n",
       "\n",
       "    .dataframe tbody tr th {\n",
       "        vertical-align: top;\n",
       "    }\n",
       "\n",
       "    .dataframe thead th {\n",
       "        text-align: right;\n",
       "    }\n",
       "</style>\n",
       "<table border=\"1\" class=\"dataframe\">\n",
       "  <thead>\n",
       "    <tr style=\"text-align: right;\">\n",
       "      <th></th>\n",
       "      <th>0</th>\n",
       "      <th>1</th>\n",
       "      <th>2</th>\n",
       "      <th>3</th>\n",
       "      <th>4</th>\n",
       "      <th>5</th>\n",
       "      <th>6</th>\n",
       "      <th>7</th>\n",
       "      <th>8</th>\n",
       "      <th>9</th>\n",
       "      <th>...</th>\n",
       "      <th>19</th>\n",
       "      <th>20</th>\n",
       "      <th>21</th>\n",
       "      <th>22</th>\n",
       "      <th>23</th>\n",
       "      <th>24</th>\n",
       "      <th>25</th>\n",
       "      <th>26</th>\n",
       "      <th>27</th>\n",
       "      <th>Class</th>\n",
       "    </tr>\n",
       "  </thead>\n",
       "  <tbody>\n",
       "    <tr>\n",
       "      <th>0</th>\n",
       "      <td>6120</td>\n",
       "      <td>1785</td>\n",
       "      <td>1020</td>\n",
       "      <td>10965</td>\n",
       "      <td>1530</td>\n",
       "      <td>510</td>\n",
       "      <td>4080</td>\n",
       "      <td>3315</td>\n",
       "      <td>1530</td>\n",
       "      <td>7905</td>\n",
       "      <td>...</td>\n",
       "      <td>1785</td>\n",
       "      <td>510</td>\n",
       "      <td>1020</td>\n",
       "      <td>10965</td>\n",
       "      <td>6630</td>\n",
       "      <td>1785</td>\n",
       "      <td>1785</td>\n",
       "      <td>2550</td>\n",
       "      <td>6120</td>\n",
       "      <td>1</td>\n",
       "    </tr>\n",
       "    <tr>\n",
       "      <th>1</th>\n",
       "      <td>42075</td>\n",
       "      <td>59415</td>\n",
       "      <td>47940</td>\n",
       "      <td>46665</td>\n",
       "      <td>66810</td>\n",
       "      <td>49215</td>\n",
       "      <td>35445</td>\n",
       "      <td>33915</td>\n",
       "      <td>36465</td>\n",
       "      <td>33405</td>\n",
       "      <td>...</td>\n",
       "      <td>39270</td>\n",
       "      <td>36720</td>\n",
       "      <td>28305</td>\n",
       "      <td>46665</td>\n",
       "      <td>38760</td>\n",
       "      <td>23205</td>\n",
       "      <td>32130</td>\n",
       "      <td>33405</td>\n",
       "      <td>29070</td>\n",
       "      <td>1</td>\n",
       "    </tr>\n",
       "    <tr>\n",
       "      <th>2</th>\n",
       "      <td>142035</td>\n",
       "      <td>140760</td>\n",
       "      <td>193290</td>\n",
       "      <td>183600</td>\n",
       "      <td>217515</td>\n",
       "      <td>211905</td>\n",
       "      <td>200430</td>\n",
       "      <td>199665</td>\n",
       "      <td>161925</td>\n",
       "      <td>164985</td>\n",
       "      <td>...</td>\n",
       "      <td>128520</td>\n",
       "      <td>91545</td>\n",
       "      <td>78795</td>\n",
       "      <td>96390</td>\n",
       "      <td>178500</td>\n",
       "      <td>124950</td>\n",
       "      <td>76755</td>\n",
       "      <td>104295</td>\n",
       "      <td>206040</td>\n",
       "      <td>1</td>\n",
       "    </tr>\n",
       "    <tr>\n",
       "      <th>3</th>\n",
       "      <td>58395</td>\n",
       "      <td>51000</td>\n",
       "      <td>186150</td>\n",
       "      <td>187425</td>\n",
       "      <td>72675</td>\n",
       "      <td>27030</td>\n",
       "      <td>25245</td>\n",
       "      <td>144075</td>\n",
       "      <td>157845</td>\n",
       "      <td>24735</td>\n",
       "      <td>...</td>\n",
       "      <td>15555</td>\n",
       "      <td>2805</td>\n",
       "      <td>1275</td>\n",
       "      <td>162945</td>\n",
       "      <td>162690</td>\n",
       "      <td>124950</td>\n",
       "      <td>14790</td>\n",
       "      <td>11475</td>\n",
       "      <td>7905</td>\n",
       "      <td>1</td>\n",
       "    </tr>\n",
       "    <tr>\n",
       "      <th>4</th>\n",
       "      <td>69360</td>\n",
       "      <td>85425</td>\n",
       "      <td>62985</td>\n",
       "      <td>52275</td>\n",
       "      <td>44370</td>\n",
       "      <td>30345</td>\n",
       "      <td>22440</td>\n",
       "      <td>29580</td>\n",
       "      <td>46410</td>\n",
       "      <td>41055</td>\n",
       "      <td>...</td>\n",
       "      <td>43860</td>\n",
       "      <td>36720</td>\n",
       "      <td>36975</td>\n",
       "      <td>44625</td>\n",
       "      <td>65280</td>\n",
       "      <td>57375</td>\n",
       "      <td>54570</td>\n",
       "      <td>34680</td>\n",
       "      <td>33405</td>\n",
       "      <td>1</td>\n",
       "    </tr>\n",
       "  </tbody>\n",
       "</table>\n",
       "<p>5 rows × 29 columns</p>\n",
       "</div>"
      ],
      "text/plain": [
       "        0       1       2       3       4       5       6       7       8  \\\n",
       "0    6120    1785    1020   10965    1530     510    4080    3315    1530   \n",
       "1   42075   59415   47940   46665   66810   49215   35445   33915   36465   \n",
       "2  142035  140760  193290  183600  217515  211905  200430  199665  161925   \n",
       "3   58395   51000  186150  187425   72675   27030   25245  144075  157845   \n",
       "4   69360   85425   62985   52275   44370   30345   22440   29580   46410   \n",
       "\n",
       "        9  ...      19     20     21      22      23      24     25      26  \\\n",
       "0    7905  ...    1785    510   1020   10965    6630    1785   1785    2550   \n",
       "1   33405  ...   39270  36720  28305   46665   38760   23205  32130   33405   \n",
       "2  164985  ...  128520  91545  78795   96390  178500  124950  76755  104295   \n",
       "3   24735  ...   15555   2805   1275  162945  162690  124950  14790   11475   \n",
       "4   41055  ...   43860  36720  36975   44625   65280   57375  54570   34680   \n",
       "\n",
       "       27  Class  \n",
       "0    6120      1  \n",
       "1   29070      1  \n",
       "2  206040      1  \n",
       "3    7905      1  \n",
       "4   33405      1  \n",
       "\n",
       "[5 rows x 29 columns]"
      ]
     },
     "metadata": {},
     "output_type": "display_data"
    }
   ],
   "source": [
    "d = pd.read_csv('C:/Users/jingy/Jupyter/Crime/Road/CDI_Based/Intensity/CSV/Canny_No_Filter.csv',index_col=0)\n",
    "d.Class[d['Class']==1] = -1\n",
    "d.Class[d['Class'] == 0] = 1\n",
    "display(d.head())"
   ]
  },
  {
   "cell_type": "code",
   "execution_count": 19,
   "metadata": {
    "ExecuteTime": {
     "end_time": "2020-09-15T17:18:41.188354Z",
     "start_time": "2020-09-15T17:18:41.159590Z"
    }
   },
   "outputs": [],
   "source": [
    "data = d\n",
    "mask = (data['Class'] == 1)\n",
    "\n",
    "X_train, X_test = train_test_split(data[mask], test_size=0.2, random_state=0)\n",
    "X_train = X_train.drop(['Class'], axis=1)\n",
    "X_test = X_test.drop(['Class'], axis=1)\n",
    "X_fraud = data[~mask].drop(['Class'], axis=1)\n",
    "\n",
    "x_test=np.vstack((X_test,X_fraud))\n",
    "y_test=[1]*len(X_test)+[-1]*len(X_fraud)\n",
    "\n",
    "std =StandardScaler()\n",
    "X_train=std.fit_transform(X_train)\n",
    "x_test=std.transform(x_test)\n"
   ]
  },
  {
   "cell_type": "code",
   "execution_count": 20,
   "metadata": {
    "ExecuteTime": {
     "end_time": "2020-09-15T17:18:41.204286Z",
     "start_time": "2020-09-15T17:18:41.189384Z"
    }
   },
   "outputs": [
    {
     "name": "stdout",
     "output_type": "stream",
     "text": [
      "0.7021276595744681\n",
      "              precision    recall  f1-score   support\n",
      "\n",
      "          -1       0.79      0.79      0.79       101\n",
      "           1       0.47      0.47      0.48        40\n",
      "\n",
      "    accuracy                           0.70       141\n",
      "   macro avg       0.63      0.63      0.63       141\n",
      "weighted avg       0.70      0.70      0.70       141\n",
      "\n"
     ]
    }
   ],
   "source": [
    "clf = svm.OneClassSVM(kernel='rbf',nu=0.6)  \n",
    "clf.fit(X_train)  \n",
    "\n",
    "y_pred = clf.predict(x_test)  \n",
    "y_prob = clf.decision_function(x_test)  # the lower, the more normal\n",
    "\n",
    "fpr,tpr,threshold_svc = metrics.roc_curve(y_test,y_prob)     \n",
    "auc_svc = metrics.auc(fpr,tpr)   \n",
    "\n",
    "precision, recall, _ = precision_recall_curve(y_test,y_prob)\n",
    "pr_auc = auc(recall, precision)\n",
    "\n",
    "score_svc = metrics.accuracy_score(y_test,y_pred)\n",
    "\n",
    "print(score_svc)\n",
    "print(classification_report(y_test, y_pred))"
   ]
  },
  {
   "cell_type": "code",
   "execution_count": 21,
   "metadata": {
    "ExecuteTime": {
     "end_time": "2020-09-15T17:18:41.439630Z",
     "start_time": "2020-09-15T17:18:41.205254Z"
    }
   },
   "outputs": [
    {
     "data": {
      "image/png": "[encoded data removed]",
      "text/plain": [
       "<Figure size 1008x432 with 2 Axes>"
      ]
     },
     "metadata": {},
     "output_type": "display_data"
    }
   ],
   "source": [
    "plt.figure(figsize=(14, 6))\n",
    "plt.subplot(121)\n",
    "#plt.figure(figsize=(14, 6))\n",
    "plt.title('Receiver Operating Characteristic \\nAUC = %0.2f'% auc_svc)   \n",
    "plt.plot(fpr, tpr, c='coral', lw=3)\n",
    "plt.plot([0,1],[0,1], c='dodgerblue', ls='--')\n",
    "plt.ylabel('TPR'); plt.xlabel('FPR')\n",
    "\n",
    "plt.subplot(122)\n",
    "plt.title('Precision-Recall curve based on \\nAUC = %0.2f'% pr_auc)\n",
    "plt.plot(recall[:-2], precision[:-2], c='coral', lw=3)\n",
    "plt.xlabel('Recall'); plt.ylabel('Precision')\n",
    "plt.show()"
   ]
  },
  {
   "cell_type": "code",
   "execution_count": null,
   "metadata": {},
   "outputs": [],
   "source": []
  }
 ],
 "metadata": {
  "kernelspec": {
   "display_name": "Python [conda env:crowd] *",
   "language": "python",
   "name": "conda-env-crowd-py"
  },
  "language_info": {
   "codemirror_mode": {
    "name": "ipython",
    "version": 3
   },
   "file_extension": ".py",
   "mimetype": "text/x-python",
   "name": "python",
   "nbconvert_exporter": "python",
   "pygments_lexer": "ipython3",
   "version": "3.8.3"
  },
  "toc": {
   "base_numbering": 1,
   "nav_menu": {},
   "number_sections": true,
   "sideBar": true,
   "skip_h1_title": false,
   "title_cell": "Table of Contents",
   "title_sidebar": "Contents",
   "toc_cell": false,
   "toc_position": {},
   "toc_section_display": true,
   "toc_window_display": false
  }
 },
 "nbformat": 4,
 "nbformat_minor": 4
}

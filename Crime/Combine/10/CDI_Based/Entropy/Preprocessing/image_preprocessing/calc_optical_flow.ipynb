{
 "cells": [
  {
   "cell_type": "code",
   "execution_count": 11,
   "metadata": {
    "ExecuteTime": {
     "end_time": "2020-09-11T18:05:16.023775Z",
     "start_time": "2020-09-11T18:05:16.007816Z"
    }
   },
   "outputs": [],
   "source": [
    "import cv2 as cv\n",
    "import numpy as np\n",
    "import math"
   ]
  },
  {
   "cell_type": "code",
   "execution_count": 12,
   "metadata": {
    "ExecuteTime": {
     "end_time": "2020-09-11T18:05:16.055031Z",
     "start_time": "2020-09-11T18:05:16.026767Z"
    }
   },
   "outputs": [],
   "source": [
    "class Optical_Flow_lib():\n",
    "    def __init__(self,istream):\n",
    "        super(Optical_Flow_lib, self).__init__()\n",
    "        self.istream=istream\n",
    "    def Optical_Flow(self,start_frame_num):\n",
    "        self.istream.set(cv.CAP_PROP_POS_FRAMES, start_frame_num)\n",
    "        _, frame = self.istream.read()\n",
    "        _, next_frame = self.istream.read() \n",
    "        \n",
    "        frame = cv.resize(frame, (224, 224),interpolation=cv.INTER_CUBIC)\n",
    "        next_frame = cv.resize(next_frame, (224, 224),interpolation=cv.INTER_CUBIC)\n",
    "        \n",
    "        gray=cv.cvtColor(frame,cv.COLOR_BGR2GRAY)\n",
    "        next_gray=cv.cvtColor(next_frame,cv.COLOR_BGR2GRAY)\n",
    "        \n",
    "        flow = cv.calcOpticalFlowFarneback(gray, next_gray, None, 0.5, 3, 15, 3, 5, 1.2, 0) \n",
    "        \n",
    "        mag=np.sqrt(flow[...,0]**2+flow[...,1]**2)\n",
    "        ang=np.arctan2(flow[...,1],flow[...,0])% (2 * np.pi)\n",
    "            \n",
    "        return frame,mag,ang\n",
    "    @staticmethod \n",
    "    def visual_flow(magnitude,angle):\n",
    "        mask = np.zeros((224,224,3),dtype=np.uint8)\n",
    "        mask[..., 1]=255\n",
    "        mask[..., 0] = angle.reshape(224,224) * 180 / np.pi / 2\n",
    "        #mask[..., 0] = angle/2\n",
    "        mask[..., 2] = cv.normalize(magnitude.reshape(224,224), None, 0, 255, cv.NORM_MINMAX) \n",
    "\n",
    "        Flow = cv.cvtColor(mask, cv.COLOR_HSV2BGR) \n",
    "        return Flow\n",
    "    @staticmethod\n",
    "    def calc_prob(magnitude,angle,bin_num=[8,8],max_num=[4,2*np.pi]):\n",
    "        hist_2d=np.zeros((bin_num[0],bin_num[1]))\n",
    "        for m,a in zip(magnitude.ravel(),angle.ravel()):\n",
    "            x=m//(max_num[0]/bin_num[0])\n",
    "            y=a//(max_num[1]/bin_num[1])\n",
    "            x= bin_num[0]-1 if x>=bin_num[0]-1 else int(x)\n",
    "            y= bin_num[1]-1 if y>=bin_num[1]-1 else int(y)\n",
    "            hist_2d[x,y]+=1\n",
    "        prob=hist_2d/(224*224)\n",
    "        return prob\n",
    "    @staticmethod\n",
    "    def entropy(prob):\n",
    "        h=[(-i*(np.log2(i))) for i in prob.ravel() if i !=0.0]\n",
    "        return np.sum(h)\n",
    "    @staticmethod\n",
    "    def prob_and_entropy(magnitude,angle,bin_num=[8,8],max_num=[4,2*np.pi]):\n",
    "        prob=Optical_Flow_lib.calc_prob(magnitude,angle,bin_num=bin_num,max_num=max_num)\n",
    "        h=[(-i*(np.log2(i))) for i in prob.ravel() if i !=0.0]\n",
    "        return np.sum(h)\n",
    "    \n",
    "        "
   ]
  },
  {
   "cell_type": "code",
   "execution_count": null,
   "metadata": {},
   "outputs": [],
   "source": []
  }
 ],
 "metadata": {
  "kernelspec": {
   "display_name": "Python [conda env:crowd] *",
   "language": "python",
   "name": "conda-env-crowd-py"
  },
  "language_info": {
   "codemirror_mode": {
    "name": "ipython",
    "version": 3
   },
   "file_extension": ".py",
   "mimetype": "text/x-python",
   "name": "python",
   "nbconvert_exporter": "python",
   "pygments_lexer": "ipython3",
   "version": "3.8.3"
  },
  "toc": {
   "base_numbering": 1,
   "nav_menu": {},
   "number_sections": true,
   "sideBar": true,
   "skip_h1_title": false,
   "title_cell": "Table of Contents",
   "title_sidebar": "Contents",
   "toc_cell": false,
   "toc_position": {},
   "toc_section_display": true,
   "toc_window_display": false
  }
 },
 "nbformat": 4,
 "nbformat_minor": 4
}

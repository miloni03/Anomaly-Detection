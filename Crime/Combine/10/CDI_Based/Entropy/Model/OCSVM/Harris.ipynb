{
 "cells": [
  {
   "cell_type": "code",
   "execution_count": 37,
   "metadata": {
    "ExecuteTime": {
     "end_time": "2020-09-14T17:06:45.796741Z",
     "start_time": "2020-09-14T17:06:45.777760Z"
    }
   },
   "outputs": [],
   "source": [
    "import numpy as np  \n",
    "import matplotlib.pyplot as plt  \n",
    "import matplotlib.font_manager  \n",
    "import pandas as pd\n",
    "from sklearn import svm  \n",
    "from sklearn.model_selection import train_test_split\n",
    "from sklearn.preprocessing import StandardScaler,MinMaxScaler\n",
    "from sklearn import metrics\n",
    "from sklearn.metrics import roc_curve, auc, precision_recall_curve,confusion_matrix,classification_report\n",
    "plt.style.use('seaborn')"
   ]
  },
  {
   "cell_type": "code",
   "execution_count": 38,
   "metadata": {
    "ExecuteTime": {
     "end_time": "2020-09-14T17:06:45.844618Z",
     "start_time": "2020-09-14T17:06:45.798705Z"
    }
   },
   "outputs": [
    {
     "name": "stderr",
     "output_type": "stream",
     "text": [
      "<ipython-input-38-d2a3395998a0>:2: SettingWithCopyWarning: \n",
      "A value is trying to be set on a copy of a slice from a DataFrame\n",
      "\n",
      "See the caveats in the documentation: https://pandas.pydata.org/pandas-docs/stable/user_guide/indexing.html#returning-a-view-versus-a-copy\n",
      "  d.Class[d['Class']==1] = -1\n",
      "<ipython-input-38-d2a3395998a0>:3: SettingWithCopyWarning: \n",
      "A value is trying to be set on a copy of a slice from a DataFrame\n",
      "\n",
      "See the caveats in the documentation: https://pandas.pydata.org/pandas-docs/stable/user_guide/indexing.html#returning-a-view-versus-a-copy\n",
      "  d.Class[d['Class'] == 0] = 1\n"
     ]
    },
    {
     "data": {
      "text/html": [
       "<div>\n",
       "<style scoped>\n",
       "    .dataframe tbody tr th:only-of-type {\n",
       "        vertical-align: middle;\n",
       "    }\n",
       "\n",
       "    .dataframe tbody tr th {\n",
       "        vertical-align: top;\n",
       "    }\n",
       "\n",
       "    .dataframe thead th {\n",
       "        text-align: right;\n",
       "    }\n",
       "</style>\n",
       "<table border=\"1\" class=\"dataframe\">\n",
       "  <thead>\n",
       "    <tr style=\"text-align: right;\">\n",
       "      <th></th>\n",
       "      <th>0</th>\n",
       "      <th>1</th>\n",
       "      <th>2</th>\n",
       "      <th>3</th>\n",
       "      <th>4</th>\n",
       "      <th>5</th>\n",
       "      <th>6</th>\n",
       "      <th>7</th>\n",
       "      <th>8</th>\n",
       "      <th>9</th>\n",
       "      <th>...</th>\n",
       "      <th>19</th>\n",
       "      <th>20</th>\n",
       "      <th>21</th>\n",
       "      <th>22</th>\n",
       "      <th>23</th>\n",
       "      <th>24</th>\n",
       "      <th>25</th>\n",
       "      <th>26</th>\n",
       "      <th>27</th>\n",
       "      <th>Class</th>\n",
       "    </tr>\n",
       "  </thead>\n",
       "  <tbody>\n",
       "    <tr>\n",
       "      <th>0</th>\n",
       "      <td>0.454707</td>\n",
       "      <td>0.317510</td>\n",
       "      <td>0.541025</td>\n",
       "      <td>0.516889</td>\n",
       "      <td>0.572619</td>\n",
       "      <td>0.361957</td>\n",
       "      <td>0.530238</td>\n",
       "      <td>0.422593</td>\n",
       "      <td>0.364122</td>\n",
       "      <td>0.405911</td>\n",
       "      <td>...</td>\n",
       "      <td>0.362454</td>\n",
       "      <td>0.060185</td>\n",
       "      <td>0.057064</td>\n",
       "      <td>0.099125</td>\n",
       "      <td>0.089168</td>\n",
       "      <td>0.063833</td>\n",
       "      <td>0.051531</td>\n",
       "      <td>0.049841</td>\n",
       "      <td>0.043928</td>\n",
       "      <td>1</td>\n",
       "    </tr>\n",
       "    <tr>\n",
       "      <th>1</th>\n",
       "      <td>0.653275</td>\n",
       "      <td>0.627490</td>\n",
       "      <td>0.377973</td>\n",
       "      <td>0.362410</td>\n",
       "      <td>0.526718</td>\n",
       "      <td>0.480967</td>\n",
       "      <td>0.338751</td>\n",
       "      <td>0.626883</td>\n",
       "      <td>0.533285</td>\n",
       "      <td>0.353150</td>\n",
       "      <td>...</td>\n",
       "      <td>0.405550</td>\n",
       "      <td>0.175780</td>\n",
       "      <td>0.187618</td>\n",
       "      <td>0.196868</td>\n",
       "      <td>0.127997</td>\n",
       "      <td>0.221686</td>\n",
       "      <td>0.173587</td>\n",
       "      <td>0.127909</td>\n",
       "      <td>0.088443</td>\n",
       "      <td>1</td>\n",
       "    </tr>\n",
       "    <tr>\n",
       "      <th>2</th>\n",
       "      <td>1.306830</td>\n",
       "      <td>1.038966</td>\n",
       "      <td>0.812116</td>\n",
       "      <td>1.101646</td>\n",
       "      <td>1.151375</td>\n",
       "      <td>0.368440</td>\n",
       "      <td>0.963364</td>\n",
       "      <td>1.184813</td>\n",
       "      <td>1.253985</td>\n",
       "      <td>0.821473</td>\n",
       "      <td>...</td>\n",
       "      <td>1.168494</td>\n",
       "      <td>1.123493</td>\n",
       "      <td>0.820154</td>\n",
       "      <td>1.254591</td>\n",
       "      <td>1.176869</td>\n",
       "      <td>0.380036</td>\n",
       "      <td>1.173836</td>\n",
       "      <td>1.035493</td>\n",
       "      <td>1.125513</td>\n",
       "      <td>1</td>\n",
       "    </tr>\n",
       "    <tr>\n",
       "      <th>3</th>\n",
       "      <td>0.121075</td>\n",
       "      <td>0.119532</td>\n",
       "      <td>0.156628</td>\n",
       "      <td>0.170157</td>\n",
       "      <td>0.215857</td>\n",
       "      <td>0.249458</td>\n",
       "      <td>0.171689</td>\n",
       "      <td>0.201124</td>\n",
       "      <td>0.168167</td>\n",
       "      <td>0.244455</td>\n",
       "      <td>...</td>\n",
       "      <td>0.036652</td>\n",
       "      <td>0.036652</td>\n",
       "      <td>0.036652</td>\n",
       "      <td>0.026018</td>\n",
       "      <td>0.015866</td>\n",
       "      <td>0.076229</td>\n",
       "      <td>0.038476</td>\n",
       "      <td>0.041760</td>\n",
       "      <td>0.045025</td>\n",
       "      <td>1</td>\n",
       "    </tr>\n",
       "    <tr>\n",
       "      <th>4</th>\n",
       "      <td>0.320366</td>\n",
       "      <td>0.277783</td>\n",
       "      <td>0.246622</td>\n",
       "      <td>0.266262</td>\n",
       "      <td>0.310539</td>\n",
       "      <td>0.286380</td>\n",
       "      <td>0.326042</td>\n",
       "      <td>0.348516</td>\n",
       "      <td>0.306517</td>\n",
       "      <td>0.315211</td>\n",
       "      <td>...</td>\n",
       "      <td>0.183163</td>\n",
       "      <td>0.380134</td>\n",
       "      <td>0.362799</td>\n",
       "      <td>0.388615</td>\n",
       "      <td>0.312442</td>\n",
       "      <td>0.342832</td>\n",
       "      <td>0.383292</td>\n",
       "      <td>0.303030</td>\n",
       "      <td>0.371655</td>\n",
       "      <td>1</td>\n",
       "    </tr>\n",
       "  </tbody>\n",
       "</table>\n",
       "<p>5 rows × 29 columns</p>\n",
       "</div>"
      ],
      "text/plain": [
       "          0         1         2         3         4         5         6  \\\n",
       "0  0.454707  0.317510  0.541025  0.516889  0.572619  0.361957  0.530238   \n",
       "1  0.653275  0.627490  0.377973  0.362410  0.526718  0.480967  0.338751   \n",
       "2  1.306830  1.038966  0.812116  1.101646  1.151375  0.368440  0.963364   \n",
       "3  0.121075  0.119532  0.156628  0.170157  0.215857  0.249458  0.171689   \n",
       "4  0.320366  0.277783  0.246622  0.266262  0.310539  0.286380  0.326042   \n",
       "\n",
       "          7         8         9  ...        19        20        21        22  \\\n",
       "0  0.422593  0.364122  0.405911  ...  0.362454  0.060185  0.057064  0.099125   \n",
       "1  0.626883  0.533285  0.353150  ...  0.405550  0.175780  0.187618  0.196868   \n",
       "2  1.184813  1.253985  0.821473  ...  1.168494  1.123493  0.820154  1.254591   \n",
       "3  0.201124  0.168167  0.244455  ...  0.036652  0.036652  0.036652  0.026018   \n",
       "4  0.348516  0.306517  0.315211  ...  0.183163  0.380134  0.362799  0.388615   \n",
       "\n",
       "         23        24        25        26        27  Class  \n",
       "0  0.089168  0.063833  0.051531  0.049841  0.043928      1  \n",
       "1  0.127997  0.221686  0.173587  0.127909  0.088443      1  \n",
       "2  1.176869  0.380036  1.173836  1.035493  1.125513      1  \n",
       "3  0.015866  0.076229  0.038476  0.041760  0.045025      1  \n",
       "4  0.312442  0.342832  0.383292  0.303030  0.371655      1  \n",
       "\n",
       "[5 rows x 29 columns]"
      ]
     },
     "metadata": {},
     "output_type": "display_data"
    }
   ],
   "source": [
    "d = pd.read_csv('C:/Users/jingy/Jupyter/Crime/Fire/CDI_Based/Entropy/CSV/Harris.csv',index_col=0)\n",
    "d.Class[d['Class']==1] = -1\n",
    "d.Class[d['Class'] == 0] = 1\n",
    "display(d.head())"
   ]
  },
  {
   "cell_type": "code",
   "execution_count": 39,
   "metadata": {
    "ExecuteTime": {
     "end_time": "2020-09-14T17:06:45.876556Z",
     "start_time": "2020-09-14T17:06:45.846575Z"
    }
   },
   "outputs": [],
   "source": [
    "data = d\n",
    "mask = (data['Class'] == 1)\n",
    "\n",
    "X_train, X_test = train_test_split(data[mask], test_size=0.2, random_state=2)\n",
    "X_train = X_train.drop(['Class'], axis=1)\n",
    "X_test = X_test.drop(['Class'], axis=1)\n",
    "X_fraud = data[~mask].drop(['Class'], axis=1)\n",
    "\n",
    "x_test=np.vstack((X_test,X_fraud))\n",
    "y_test=[1]*len(X_test)+[-1]*len(X_fraud)\n",
    "std=StandardScaler()\n",
    "X_train=std.fit_transform(X_train)\n",
    "x_test=std.transform(x_test)"
   ]
  },
  {
   "cell_type": "code",
   "execution_count": 40,
   "metadata": {
    "ExecuteTime": {
     "end_time": "2020-09-14T17:06:45.891487Z",
     "start_time": "2020-09-14T17:06:45.878522Z"
    }
   },
   "outputs": [
    {
     "name": "stdout",
     "output_type": "stream",
     "text": [
      "0.6309523809523809\n",
      "              precision    recall  f1-score   support\n",
      "\n",
      "          -1       0.85      0.68      0.76       142\n",
      "           1       0.17      0.35      0.23        26\n",
      "\n",
      "    accuracy                           0.63       168\n",
      "   macro avg       0.51      0.51      0.49       168\n",
      "weighted avg       0.74      0.63      0.68       168\n",
      "\n"
     ]
    }
   ],
   "source": [
    "clf = svm.OneClassSVM(kernel='rbf',nu=0.6)  \n",
    "clf.fit(X_train)  \n",
    "\n",
    "y_pred = clf.predict(x_test)  \n",
    "y_prob = clf.decision_function(x_test)  # the lower, the more normal\n",
    "\n",
    "fpr,tpr,threshold_svc = metrics.roc_curve(y_test,y_prob)     \n",
    "auc_svc = metrics.auc(fpr,tpr)   \n",
    "\n",
    "precision, recall, _ = precision_recall_curve(y_test,y_prob)\n",
    "pr_auc = auc(recall, precision)\n",
    "\n",
    "score_svc = metrics.accuracy_score(y_test,y_pred)\n",
    "\n",
    "print(score_svc)\n",
    "print(classification_report(y_test, y_pred))"
   ]
  },
  {
   "cell_type": "code",
   "execution_count": 41,
   "metadata": {
    "ExecuteTime": {
     "end_time": "2020-09-14T17:06:46.143911Z",
     "start_time": "2020-09-14T17:06:45.893482Z"
    }
   },
   "outputs": [
    {
     "data": {
      "image/png": "[encoded data removed]",
      "text/plain": [
       "<Figure size 1008x432 with 2 Axes>"
      ]
     },
     "metadata": {},
     "output_type": "display_data"
    }
   ],
   "source": [
    "plt.figure(figsize=(14, 6))\n",
    "plt.subplot(121)\n",
    "#plt.figure(figsize=(14, 6))\n",
    "plt.title('Receiver Operating Characteristic \\nAUC = %0.2f'% auc_svc)   \n",
    "plt.plot(fpr, tpr, c='coral', lw=3)\n",
    "plt.plot([0,1],[0,1], c='dodgerblue', ls='--')\n",
    "plt.ylabel('TPR'); plt.xlabel('FPR')\n",
    "\n",
    "plt.subplot(122)\n",
    "plt.title('Precision-Recall curve based on \\nAUC = %0.2f'% pr_auc)\n",
    "plt.plot(recall[:-2], precision[:-2], c='coral', lw=3)\n",
    "plt.xlabel('Recall'); plt.ylabel('Precision')\n",
    "plt.show()"
   ]
  },
  {
   "cell_type": "code",
   "execution_count": null,
   "metadata": {},
   "outputs": [],
   "source": []
  }
 ],
 "metadata": {
  "kernelspec": {
   "display_name": "Python [conda env:crowd] *",
   "language": "python",
   "name": "conda-env-crowd-py"
  },
  "language_info": {
   "codemirror_mode": {
    "name": "ipython",
    "version": 3
   },
   "file_extension": ".py",
   "mimetype": "text/x-python",
   "name": "python",
   "nbconvert_exporter": "python",
   "pygments_lexer": "ipython3",
   "version": "3.8.3"
  },
  "toc": {
   "base_numbering": 1,
   "nav_menu": {},
   "number_sections": true,
   "sideBar": true,
   "skip_h1_title": false,
   "title_cell": "Table of Contents",
   "title_sidebar": "Contents",
   "toc_cell": false,
   "toc_position": {},
   "toc_section_display": true,
   "toc_window_display": false
  }
 },
 "nbformat": 4,
 "nbformat_minor": 4
}
